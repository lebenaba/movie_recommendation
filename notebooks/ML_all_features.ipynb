{
 "cells": [
  {
   "cell_type": "code",
   "execution_count": 18,
   "metadata": {},
   "outputs": [],
   "source": [
    "import pandas as pd\n",
    "import numpy as np\n",
    "from sklearn.model_selection import train_test_split\n",
    "from sklearn.metrics import mean_squared_error\n",
    "from tensorflow.keras.models import Model\n",
    "from tensorflow.keras.layers import Input, Embedding, Flatten, Concatenate, Dense, Dropout\n",
    "from tensorflow.keras.optimizers import Adam\n",
    "\n",
    "df = pd.read_parquet('../data/processed/preprocessed_data_with_embeddings_and_ohe.parquet')\n"
   ]
  },
  {
   "cell_type": "code",
   "execution_count": 19,
   "metadata": {},
   "outputs": [
    {
     "name": "stdout",
     "output_type": "stream",
     "text": [
      "Epoch 1/20\n",
      "\u001b[1m13900/13900\u001b[0m \u001b[32m━━━━━━━━━━━━━━━━━━━━\u001b[0m\u001b[37m\u001b[0m \u001b[1m1842s\u001b[0m 129ms/step - loss: 2.0891 - val_loss: 2.1569 - learning_rate: 0.0100\n",
      "Epoch 2/20\n",
      "\u001b[1m13900/13900\u001b[0m \u001b[32m━━━━━━━━━━━━━━━━━━━━\u001b[0m\u001b[37m\u001b[0m \u001b[1m637s\u001b[0m 46ms/step - loss: 2.3200 - val_loss: 2.4639 - learning_rate: 0.0100\n",
      "Epoch 3/20\n",
      "\u001b[1m13900/13900\u001b[0m \u001b[32m━━━━━━━━━━━━━━━━━━━━\u001b[0m\u001b[37m\u001b[0m \u001b[1m632s\u001b[0m 45ms/step - loss: 2.4368 - val_loss: 2.5824 - learning_rate: 0.0100\n",
      "Epoch 4/20\n",
      "\u001b[1m13900/13900\u001b[0m \u001b[32m━━━━━━━━━━━━━━━━━━━━\u001b[0m\u001b[37m\u001b[0m \u001b[1m634s\u001b[0m 46ms/step - loss: 2.6895 - val_loss: 2.7726 - learning_rate: 0.0100\n",
      "Epoch 5/20\n",
      "\u001b[1m13900/13900\u001b[0m \u001b[32m━━━━━━━━━━━━━━━━━━━━\u001b[0m\u001b[37m\u001b[0m \u001b[1m683s\u001b[0m 46ms/step - loss: 1.5475 - val_loss: 1.5377 - learning_rate: 0.0020\n",
      "Epoch 6/20\n",
      "\u001b[1m13900/13900\u001b[0m \u001b[32m━━━━━━━━━━━━━━━━━━━━\u001b[0m\u001b[37m\u001b[0m \u001b[1m682s\u001b[0m 46ms/step - loss: 1.6140 - val_loss: 1.5720 - learning_rate: 0.0020\n",
      "Epoch 7/20\n",
      "\u001b[1m13900/13900\u001b[0m \u001b[32m━━━━━━━━━━━━━━━━━━━━\u001b[0m\u001b[37m\u001b[0m \u001b[1m634s\u001b[0m 46ms/step - loss: 1.6485 - val_loss: 1.5737 - learning_rate: 0.0020\n",
      "Epoch 8/20\n",
      "\u001b[1m13900/13900\u001b[0m \u001b[32m━━━━━━━━━━━━━━━━━━━━\u001b[0m\u001b[37m\u001b[0m \u001b[1m688s\u001b[0m 46ms/step - loss: 1.5669 - val_loss: 1.4914 - learning_rate: 0.0020\n",
      "Epoch 9/20\n",
      "\u001b[1m13900/13900\u001b[0m \u001b[32m━━━━━━━━━━━━━━━━━━━━\u001b[0m\u001b[37m\u001b[0m \u001b[1m636s\u001b[0m 46ms/step - loss: 1.5210 - val_loss: 1.5206 - learning_rate: 0.0020\n",
      "Epoch 10/20\n",
      "\u001b[1m13900/13900\u001b[0m \u001b[32m━━━━━━━━━━━━━━━━━━━━\u001b[0m\u001b[37m\u001b[0m \u001b[1m635s\u001b[0m 46ms/step - loss: 1.5712 - val_loss: 1.4615 - learning_rate: 0.0020\n",
      "Epoch 11/20\n",
      "\u001b[1m13900/13900\u001b[0m \u001b[32m━━━━━━━━━━━━━━━━━━━━\u001b[0m\u001b[37m\u001b[0m \u001b[1m636s\u001b[0m 46ms/step - loss: 1.5578 - val_loss: 1.6282 - learning_rate: 0.0020\n",
      "Epoch 12/20\n",
      "\u001b[1m13900/13900\u001b[0m \u001b[32m━━━━━━━━━━━━━━━━━━━━\u001b[0m\u001b[37m\u001b[0m \u001b[1m638s\u001b[0m 46ms/step - loss: 1.6169 - val_loss: 1.6185 - learning_rate: 0.0020\n",
      "Epoch 13/20\n",
      "\u001b[1m13900/13900\u001b[0m \u001b[32m━━━━━━━━━━━━━━━━━━━━\u001b[0m\u001b[37m\u001b[0m \u001b[1m649s\u001b[0m 47ms/step - loss: 1.6318 - val_loss: 1.6291 - learning_rate: 0.0020\n",
      "Epoch 14/20\n",
      "\u001b[1m13900/13900\u001b[0m \u001b[32m━━━━━━━━━━━━━━━━━━━━\u001b[0m\u001b[37m\u001b[0m \u001b[1m638s\u001b[0m 46ms/step - loss: 1.1313 - val_loss: 1.0457 - learning_rate: 4.0000e-04\n",
      "Epoch 15/20\n",
      "\u001b[1m13900/13900\u001b[0m \u001b[32m━━━━━━━━━━━━━━━━━━━━\u001b[0m\u001b[37m\u001b[0m \u001b[1m642s\u001b[0m 46ms/step - loss: 1.0555 - val_loss: 1.0535 - learning_rate: 4.0000e-04\n",
      "Epoch 16/20\n",
      "\u001b[1m13900/13900\u001b[0m \u001b[32m━━━━━━━━━━━━━━━━━━━━\u001b[0m\u001b[37m\u001b[0m \u001b[1m642s\u001b[0m 46ms/step - loss: 1.0542 - val_loss: 1.0621 - learning_rate: 4.0000e-04\n",
      "Epoch 17/20\n",
      "\u001b[1m13900/13900\u001b[0m \u001b[32m━━━━━━━━━━━━━━━━━━━━\u001b[0m\u001b[37m\u001b[0m \u001b[1m643s\u001b[0m 46ms/step - loss: 1.0557 - val_loss: 1.0566 - learning_rate: 4.0000e-04\n",
      "Epoch 18/20\n",
      "\u001b[1m13900/13900\u001b[0m \u001b[32m━━━━━━━━━━━━━━━━━━━━\u001b[0m\u001b[37m\u001b[0m \u001b[1m645s\u001b[0m 46ms/step - loss: 0.9138 - val_loss: 0.8671 - learning_rate: 1.0000e-04\n",
      "Epoch 19/20\n",
      "\u001b[1m13900/13900\u001b[0m \u001b[32m━━━━━━━━━━━━━━━━━━━━\u001b[0m\u001b[37m\u001b[0m \u001b[1m648s\u001b[0m 47ms/step - loss: 0.8551 - val_loss: 0.8645 - learning_rate: 1.0000e-04\n",
      "Epoch 20/20\n",
      "\u001b[1m13900/13900\u001b[0m \u001b[32m━━━━━━━━━━━━━━━━━━━━\u001b[0m\u001b[37m\u001b[0m \u001b[1m643s\u001b[0m 46ms/step - loss: 0.8527 - val_loss: 0.8645 - learning_rate: 1.0000e-04\n",
      "\u001b[1m41185/41185\u001b[0m \u001b[32m━━━━━━━━━━━━━━━━━━━━\u001b[0m\u001b[37m\u001b[0m \u001b[1m124s\u001b[0m 3ms/step\n",
      "RMSE: 0.8919\n"
     ]
    }
   ],
   "source": [
    "from tensorflow.keras.regularizers import l2\n",
    "from tensorflow.keras.callbacks import ReduceLROnPlateau\n",
    "\n",
    "# Prepare the feature matrix and target vector\n",
    "X = df.drop(columns=['rating'])\n",
    "y = df['rating']\n",
    "\n",
    "# Create mappings for userId and movieId to continuous indices\n",
    "user_mapping = {user_id: idx for idx, user_id in enumerate(X['userId'].unique())}\n",
    "movie_mapping = {movie_id: idx for idx, movie_id in enumerate(X['movieId'].unique())}\n",
    "\n",
    "# Map userId and movieId to continuous indices\n",
    "X['userId'] = X['userId'].map(user_mapping)\n",
    "X['movieId'] = X['movieId'].map(movie_mapping)\n",
    "\n",
    "# Train-test split\n",
    "X_train, X_test, y_train, y_test = train_test_split(X, y, test_size=0.25, random_state=42)\n",
    "\n",
    "# Get the number of unique users and items\n",
    "num_users = len(user_mapping)\n",
    "num_items = len(movie_mapping)\n",
    "\n",
    "# Define the NCF model\n",
    "embedding_dim = 20  # Reduced embedding dimension\n",
    "regularization = l2(0.01)  # L2 regularization factor\n",
    "\n",
    "user_input = Input(shape=(1,), name='user_input')\n",
    "item_input = Input(shape=(1,), name='item_input')\n",
    "\n",
    "user_embedding = Embedding(input_dim=num_users, output_dim=embedding_dim, name='user_embedding', embeddings_regularizer=regularization)(user_input)\n",
    "item_embedding = Embedding(input_dim=num_items, output_dim=embedding_dim, name='item_embedding', embeddings_regularizer=regularization)(item_input)\n",
    "\n",
    "user_flat = Flatten()(user_embedding)\n",
    "item_flat = Flatten()(item_embedding)\n",
    "\n",
    "concat = Concatenate()([user_flat, item_flat])\n",
    "\n",
    "fc1 = Dense(64, activation='relu')(concat)  # Reduced size of dense layers\n",
    "drop1 = Dropout(0.2)(fc1)  # Reduced dropout rate\n",
    "fc2 = Dense(32, activation='relu')(drop1)\n",
    "drop2 = Dropout(0.2)(fc2)\n",
    "fc3 = Dense(16, activation='relu')(drop2)\n",
    "output = Dense(1)(fc3)\n",
    "\n",
    "model = Model(inputs=[user_input, item_input], outputs=output)\n",
    "model.compile(optimizer=Adam(learning_rate=0.01), loss='mse')\n",
    "\n",
    "# Prepare the inputs\n",
    "train_user_input = X_train['userId']\n",
    "train_item_input = X_train['movieId']\n",
    "test_user_input = X_test['userId']\n",
    "test_item_input = X_test['movieId']\n",
    "\n",
    "# Callbacks\n",
    "reduce_lr = ReduceLROnPlateau(monitor='val_loss', factor=0.2, patience=3, min_lr=0.0001)\n",
    "\n",
    "# Train the model\n",
    "history = model.fit([train_user_input, train_item_input], y_train,\n",
    "                    epochs=20, batch_size=256, validation_split=0.1, verbose=1, callbacks=[reduce_lr])\n",
    "\n",
    "# Evaluate the model\n",
    "y_pred = model.predict([test_user_input, test_item_input])\n",
    "rmse = mean_squared_error(y_test, y_pred, squared=False)\n",
    "print(f'RMSE: {rmse:.4f}')\n"
   ]
  },
  {
   "cell_type": "code",
   "execution_count": 20,
   "metadata": {},
   "outputs": [],
   "source": [
    "from keras.models import load_model\n",
    "\n",
    "# Save the model\n",
    "model.save('../models/ncf_model.keras')\n",
    "\n",
    "# Later, to load the model\n",
    "#loaded_model = load_model('../models/ncf_model.keras')\n"
   ]
  },
  {
   "cell_type": "code",
   "execution_count": 21,
   "metadata": {},
   "outputs": [
    {
     "data": {
      "image/png": "[encoded data removed]",
      "text/plain": [
       "<Figure size 1000x600 with 1 Axes>"
      ]
     },
     "metadata": {},
     "output_type": "display_data"
    },
    {
     "name": "stdout",
     "output_type": "stream",
     "text": [
      "\u001b[1m41185/41185\u001b[0m \u001b[32m━━━━━━━━━━━━━━━━━━━━\u001b[0m\u001b[37m\u001b[0m \u001b[1m102s\u001b[0m 2ms/step\n",
      "RMSE: 0.8919\n",
      "MAE: 0.6865\n",
      "R^2 Score: 0.2888\n"
     ]
    }
   ],
   "source": [
    "import matplotlib.pyplot as plt\n",
    "from sklearn.metrics import mean_squared_error, mean_absolute_error, r2_score\n",
    "\n",
    "# Plot training & validation loss values\n",
    "plt.figure(figsize=(10, 6))\n",
    "plt.plot(history.history['loss'])\n",
    "plt.plot(history.history['val_loss'])\n",
    "plt.title('Model Loss')\n",
    "plt.ylabel('Loss')\n",
    "plt.xlabel('Epoch')\n",
    "plt.legend(['Train', 'Validation'], loc='upper right')\n",
    "plt.show()\n",
    "\n",
    "# Evaluate the model\n",
    "y_pred = model.predict([test_user_input, test_item_input])\n",
    "\n",
    "# Calculate metrics\n",
    "rmse = mean_squared_error(y_test, y_pred, squared=False)\n",
    "mae = mean_absolute_error(y_test, y_pred)\n",
    "r2 = r2_score(y_test, y_pred)\n",
    "\n",
    "# Display metrics\n",
    "print(f'RMSE: {rmse:.4f}')\n",
    "print(f'MAE: {mae:.4f}')\n",
    "print(f'R^2 Score: {r2:.4f}')\n"
   ]
  },
  {
   "cell_type": "code",
   "execution_count": 22,
   "metadata": {},
   "outputs": [
    {
     "name": "stdout",
     "output_type": "stream",
     "text": [
      "\u001b[1m41185/41185\u001b[0m \u001b[32m━━━━━━━━━━━━━━━━━━━━\u001b[0m\u001b[37m\u001b[0m \u001b[1m106s\u001b[0m 3ms/step\n",
      "      Metric     Value\n",
      "0       RMSE  0.891925\n",
      "1        MAE  0.686544\n",
      "2  R^2 Score  0.288847\n"
     ]
    }
   ],
   "source": [
    "# Evaluate the model\n",
    "y_pred = model.predict([test_user_input, test_item_input])\n",
    "\n",
    "# Calculate regression metrics\n",
    "rmse = mean_squared_error(y_test, y_pred, squared=False)\n",
    "mae = mean_absolute_error(y_test, y_pred)\n",
    "r2 = r2_score(y_test, y_pred)\n",
    "\n",
    "# Create a DataFrame to display the metrics\n",
    "metrics_df = pd.DataFrame({\n",
    "    'Metric': ['RMSE', 'MAE', 'R^2 Score'],\n",
    "    'Value': [rmse, mae, r2]\n",
    "})\n",
    "\n",
    "# Print the metrics table\n",
    "print(metrics_df)\n"
   ]
  },
  {
   "cell_type": "code",
   "execution_count": 23,
   "metadata": {},
   "outputs": [
    {
     "name": "stdout",
     "output_type": "stream",
     "text": [
      "\u001b[1m41185/41185\u001b[0m \u001b[32m━━━━━━━━━━━━━━━━━━━━\u001b[0m\u001b[37m\u001b[0m \u001b[1m119s\u001b[0m 3ms/step\n",
      "      Metric     Value\n",
      "0       RMSE  0.891925\n",
      "1        MAE  0.686544\n",
      "2  R^2 Score  0.288847\n",
      "3   Accuracy  0.712463\n",
      "4   F1 Score  0.713354\n",
      "5  Precision  0.714622\n"
     ]
    }
   ],
   "source": [
    "from sklearn.metrics import mean_squared_error, mean_absolute_error, r2_score, accuracy_score, f1_score, precision_score\n",
    "\n",
    "# Evaluate the model\n",
    "y_pred = model.predict([test_user_input, test_item_input])\n",
    "\n",
    "# Convert predictions to binary by setting a threshold (e.g., 3.5)\n",
    "threshold = 3.5\n",
    "y_test_binary = (y_test >= threshold).astype(int)\n",
    "y_pred_binary = (y_pred >= threshold).astype(int)\n",
    "\n",
    "# Calculate regression metrics\n",
    "rmse = mean_squared_error(y_test, y_pred, squared=False)\n",
    "mae = mean_absolute_error(y_test, y_pred)\n",
    "r2 = r2_score(y_test, y_pred)\n",
    "\n",
    "# Calculate classification metrics\n",
    "accuracy = accuracy_score(y_test_binary, y_pred_binary)\n",
    "f1 = f1_score(y_test_binary, y_pred_binary, average='weighted')\n",
    "precision = precision_score(y_test_binary, y_pred_binary, average='weighted')\n",
    "\n",
    "# Create a DataFrame to display the metrics\n",
    "metrics_df = pd.DataFrame({\n",
    "    'Metric': ['RMSE', 'MAE', 'R^2 Score', 'Accuracy', 'F1 Score', 'Precision'],\n",
    "    'Value': [rmse, mae, r2, accuracy, f1, precision]\n",
    "})\n",
    "\n",
    "# Print the metrics table\n",
    "print(metrics_df)\n"
   ]
  },
  {
   "cell_type": "code",
   "execution_count": null,
   "metadata": {},
   "outputs": [],
   "source": []
  }
 ],
 "metadata": {
  "kernelspec": {
   "display_name": "base",
   "language": "python",
   "name": "python3"
  },
  "language_info": {
   "codemirror_mode": {
    "name": "ipython",
    "version": 3
   },
   "file_extension": ".py",
   "mimetype": "text/x-python",
   "name": "python",
   "nbconvert_exporter": "python",
   "pygments_lexer": "ipython3",
   "version": "3.11.7"
  }
 },
 "nbformat": 4,
 "nbformat_minor": 2
}
