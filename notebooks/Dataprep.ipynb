{
 "cells": [
  {
   "cell_type": "code",
   "execution_count": 141,
   "metadata": {},
   "outputs": [],
   "source": [
    "import pandas as pd\n",
    "\n",
    "# Importing dataframes\n",
    "#df_tags = pd.read_csv('../data/raw/ml-25m/tags.csv')\n",
    "df_gscores = pd.read_csv('../data/raw/ml-25m/genome-scores.csv')\n",
    "df_gtags = pd.read_csv('../data/raw/ml-25m/genome-tags.csv')\n",
    "#df_links = pd.read_csv('../data/raw/ml-25m/links.csv')\n",
    "df_movies = pd.read_csv('../data/raw/ml-25m/movies.csv')\n",
    "df_ratings = pd.read_csv('../data/raw/ml-25m/ratings.csv')"
   ]
  },
  {
   "cell_type": "code",
   "execution_count": 142,
   "metadata": {},
   "outputs": [],
   "source": [
    "# Create combined dataframe from the smaller dataframes and cleaning it\n",
    "df = pd.merge(df_movies, df_gscores, how=\"left\", on='movieId')\n",
    "df_gscores = pd.merge(df, df_gtags, how=\"left\", on='tagId')\n",
    "df_gscores.drop(columns=['tagId'], inplace=True)"
   ]
  },
  {
   "cell_type": "code",
   "execution_count": 143,
   "metadata": {},
   "outputs": [
    {
     "data": {
      "text/html": [
       "<div>\n",
       "<style scoped>\n",
       "    .dataframe tbody tr th:only-of-type {\n",
       "        vertical-align: middle;\n",
       "    }\n",
       "\n",
       "    .dataframe tbody tr th {\n",
       "        vertical-align: top;\n",
       "    }\n",
       "\n",
       "    .dataframe thead th {\n",
       "        text-align: right;\n",
       "    }\n",
       "</style>\n",
       "<table border=\"1\" class=\"dataframe\">\n",
       "  <thead>\n",
       "    <tr style=\"text-align: right;\">\n",
       "      <th></th>\n",
       "      <th>movieId</th>\n",
       "      <th>title</th>\n",
       "      <th>genres</th>\n",
       "      <th>tagId</th>\n",
       "      <th>relevance</th>\n",
       "    </tr>\n",
       "  </thead>\n",
       "  <tbody>\n",
       "    <tr>\n",
       "      <th>0</th>\n",
       "      <td>1</td>\n",
       "      <td>Toy Story (1995)</td>\n",
       "      <td>Adventure|Animation|Children|Comedy|Fantasy</td>\n",
       "      <td>1.0</td>\n",
       "      <td>0.02875</td>\n",
       "    </tr>\n",
       "    <tr>\n",
       "      <th>1</th>\n",
       "      <td>1</td>\n",
       "      <td>Toy Story (1995)</td>\n",
       "      <td>Adventure|Animation|Children|Comedy|Fantasy</td>\n",
       "      <td>2.0</td>\n",
       "      <td>0.02375</td>\n",
       "    </tr>\n",
       "    <tr>\n",
       "      <th>2</th>\n",
       "      <td>1</td>\n",
       "      <td>Toy Story (1995)</td>\n",
       "      <td>Adventure|Animation|Children|Comedy|Fantasy</td>\n",
       "      <td>3.0</td>\n",
       "      <td>0.06250</td>\n",
       "    </tr>\n",
       "    <tr>\n",
       "      <th>3</th>\n",
       "      <td>1</td>\n",
       "      <td>Toy Story (1995)</td>\n",
       "      <td>Adventure|Animation|Children|Comedy|Fantasy</td>\n",
       "      <td>4.0</td>\n",
       "      <td>0.07575</td>\n",
       "    </tr>\n",
       "    <tr>\n",
       "      <th>4</th>\n",
       "      <td>1</td>\n",
       "      <td>Toy Story (1995)</td>\n",
       "      <td>Adventure|Animation|Children|Comedy|Fantasy</td>\n",
       "      <td>5.0</td>\n",
       "      <td>0.14075</td>\n",
       "    </tr>\n",
       "  </tbody>\n",
       "</table>\n",
       "</div>"
      ],
      "text/plain": [
       "   movieId             title                                       genres  \\\n",
       "0        1  Toy Story (1995)  Adventure|Animation|Children|Comedy|Fantasy   \n",
       "1        1  Toy Story (1995)  Adventure|Animation|Children|Comedy|Fantasy   \n",
       "2        1  Toy Story (1995)  Adventure|Animation|Children|Comedy|Fantasy   \n",
       "3        1  Toy Story (1995)  Adventure|Animation|Children|Comedy|Fantasy   \n",
       "4        1  Toy Story (1995)  Adventure|Animation|Children|Comedy|Fantasy   \n",
       "\n",
       "   tagId  relevance  \n",
       "0    1.0    0.02875  \n",
       "1    2.0    0.02375  \n",
       "2    3.0    0.06250  \n",
       "3    4.0    0.07575  \n",
       "4    5.0    0.14075  "
      ]
     },
     "execution_count": 143,
     "metadata": {},
     "output_type": "execute_result"
    }
   ],
   "source": [
    "df.head()"
   ]
  },
  {
   "cell_type": "code",
   "execution_count": 144,
   "metadata": {},
   "outputs": [],
   "source": [
    "# Keep only the top 40 tags for each movie\n",
    "df_gscores = df_gscores.sort_values(by=['movieId', 'relevance'], ascending=[True, False])\n",
    "df_gscores = df_gscores.groupby('movieId', group_keys=False).apply(lambda x: x.nlargest(40, 'relevance')).reset_index(drop=True)"
   ]
  },
  {
   "cell_type": "code",
   "execution_count": null,
   "metadata": {},
   "outputs": [],
   "source": [
    "# Aggregate the tags and relevances\n",
    "df_gscores = df_gscores.groupby(['movieId', 'title', 'genres']).agg({'relevance': list, 'tag': list}).reset_index()"
   ]
  },
  {
   "cell_type": "code",
   "execution_count": null,
   "metadata": {},
   "outputs": [],
   "source": [
    "# Merge and clean more\n",
    "df_ratings.drop(columns=['timestamp', 'title'], inplace=True)\n",
    "df = pd.merge(df_gscores, df_ratings, on='movieId', how='left')\n",
    "df.dropna(inplace=True)\n",
    "df['userId'] = df['userId'].astype(int)"
   ]
  },
  {
   "cell_type": "code",
   "execution_count": null,
   "metadata": {},
   "outputs": [
    {
     "name": "stdout",
     "output_type": "stream",
     "text": [
      "<class 'pandas.core.frame.DataFrame'>\n",
      "Index: 25000095 entries, 0 to 25003470\n",
      "Data columns (total 7 columns):\n",
      " #   Column     Dtype  \n",
      "---  ------     -----  \n",
      " 0   movieId    int64  \n",
      " 1   title      object \n",
      " 2   genres     object \n",
      " 3   relevance  object \n",
      " 4   tag        object \n",
      " 5   userId     int32  \n",
      " 6   rating     float64\n",
      "dtypes: float64(1), int32(1), int64(1), object(4)\n",
      "memory usage: 1.4+ GB\n"
     ]
    }
   ],
   "source": [
    "df.info()"
   ]
  },
  {
   "cell_type": "code",
   "execution_count": null,
   "metadata": {},
   "outputs": [],
   "source": [
    "# Count the occurrences of each movieId and filter out movieIds that occur less than 2000 times\n",
    "movie_counts = df['movieId'].value_counts()\n",
    "movie_ids_to_keep = movie_counts[movie_counts >= 2000].index\n",
    "df = df[df['movieId'].isin(movie_ids_to_keep)]\n"
   ]
  },
  {
   "cell_type": "code",
   "execution_count": null,
   "metadata": {},
   "outputs": [
    {
     "data": {
      "text/html": [
       "<div>\n",
       "<style scoped>\n",
       "    .dataframe tbody tr th:only-of-type {\n",
       "        vertical-align: middle;\n",
       "    }\n",
       "\n",
       "    .dataframe tbody tr th {\n",
       "        vertical-align: top;\n",
       "    }\n",
       "\n",
       "    .dataframe thead th {\n",
       "        text-align: right;\n",
       "    }\n",
       "</style>\n",
       "<table border=\"1\" class=\"dataframe\">\n",
       "  <thead>\n",
       "    <tr style=\"text-align: right;\">\n",
       "      <th></th>\n",
       "      <th>movieId</th>\n",
       "      <th>title</th>\n",
       "      <th>genres</th>\n",
       "      <th>relevance</th>\n",
       "      <th>tag</th>\n",
       "      <th>userId</th>\n",
       "      <th>rating</th>\n",
       "    </tr>\n",
       "  </thead>\n",
       "  <tbody>\n",
       "    <tr>\n",
       "      <th>0</th>\n",
       "      <td>1</td>\n",
       "      <td>Toy Story (1995)</td>\n",
       "      <td>Adventure|Animation|Children|Comedy|Fantasy</td>\n",
       "      <td>[0.99925, 0.99875, 0.99575, 0.98575, 0.98425, ...</td>\n",
       "      <td>[toys, computer animation, pixar animation, ki...</td>\n",
       "      <td>2</td>\n",
       "      <td>3.5</td>\n",
       "    </tr>\n",
       "    <tr>\n",
       "      <th>1</th>\n",
       "      <td>1</td>\n",
       "      <td>Toy Story (1995)</td>\n",
       "      <td>Adventure|Animation|Children|Comedy|Fantasy</td>\n",
       "      <td>[0.99925, 0.99875, 0.99575, 0.98575, 0.98425, ...</td>\n",
       "      <td>[toys, computer animation, pixar animation, ki...</td>\n",
       "      <td>3</td>\n",
       "      <td>4.0</td>\n",
       "    </tr>\n",
       "    <tr>\n",
       "      <th>2</th>\n",
       "      <td>1</td>\n",
       "      <td>Toy Story (1995)</td>\n",
       "      <td>Adventure|Animation|Children|Comedy|Fantasy</td>\n",
       "      <td>[0.99925, 0.99875, 0.99575, 0.98575, 0.98425, ...</td>\n",
       "      <td>[toys, computer animation, pixar animation, ki...</td>\n",
       "      <td>4</td>\n",
       "      <td>3.0</td>\n",
       "    </tr>\n",
       "    <tr>\n",
       "      <th>3</th>\n",
       "      <td>1</td>\n",
       "      <td>Toy Story (1995)</td>\n",
       "      <td>Adventure|Animation|Children|Comedy|Fantasy</td>\n",
       "      <td>[0.99925, 0.99875, 0.99575, 0.98575, 0.98425, ...</td>\n",
       "      <td>[toys, computer animation, pixar animation, ki...</td>\n",
       "      <td>5</td>\n",
       "      <td>4.0</td>\n",
       "    </tr>\n",
       "    <tr>\n",
       "      <th>4</th>\n",
       "      <td>1</td>\n",
       "      <td>Toy Story (1995)</td>\n",
       "      <td>Adventure|Animation|Children|Comedy|Fantasy</td>\n",
       "      <td>[0.99925, 0.99875, 0.99575, 0.98575, 0.98425, ...</td>\n",
       "      <td>[toys, computer animation, pixar animation, ki...</td>\n",
       "      <td>8</td>\n",
       "      <td>4.0</td>\n",
       "    </tr>\n",
       "  </tbody>\n",
       "</table>\n",
       "</div>"
      ],
      "text/plain": [
       "   movieId             title                                       genres  \\\n",
       "0        1  Toy Story (1995)  Adventure|Animation|Children|Comedy|Fantasy   \n",
       "1        1  Toy Story (1995)  Adventure|Animation|Children|Comedy|Fantasy   \n",
       "2        1  Toy Story (1995)  Adventure|Animation|Children|Comedy|Fantasy   \n",
       "3        1  Toy Story (1995)  Adventure|Animation|Children|Comedy|Fantasy   \n",
       "4        1  Toy Story (1995)  Adventure|Animation|Children|Comedy|Fantasy   \n",
       "\n",
       "                                           relevance  \\\n",
       "0  [0.99925, 0.99875, 0.99575, 0.98575, 0.98425, ...   \n",
       "1  [0.99925, 0.99875, 0.99575, 0.98575, 0.98425, ...   \n",
       "2  [0.99925, 0.99875, 0.99575, 0.98575, 0.98425, ...   \n",
       "3  [0.99925, 0.99875, 0.99575, 0.98575, 0.98425, ...   \n",
       "4  [0.99925, 0.99875, 0.99575, 0.98575, 0.98425, ...   \n",
       "\n",
       "                                                 tag  userId  rating  \n",
       "0  [toys, computer animation, pixar animation, ki...       2     3.5  \n",
       "1  [toys, computer animation, pixar animation, ki...       3     4.0  \n",
       "2  [toys, computer animation, pixar animation, ki...       4     3.0  \n",
       "3  [toys, computer animation, pixar animation, ki...       5     4.0  \n",
       "4  [toys, computer animation, pixar animation, ki...       8     4.0  "
      ]
     },
     "execution_count": 136,
     "metadata": {},
     "output_type": "execute_result"
    }
   ],
   "source": [
    "df.head()"
   ]
  },
  {
   "cell_type": "code",
   "execution_count": null,
   "metadata": {},
   "outputs": [
    {
     "name": "stderr",
     "output_type": "stream",
     "text": [
      "C:\\Users\\Leo\\AppData\\Local\\Temp\\ipykernel_11752\\4005301193.py:10: DeprecationWarning: DataFrameGroupBy.apply operated on the grouping columns. This behavior is deprecated, and in a future version of pandas the grouping columns will be excluded from the operation. Either pass `include_groups=False` to exclude the groupings or explicitly select the grouping columns after groupby to silence this warning.\n",
      "  df = df.groupby('movieId', group_keys=False).apply(sample_log_base_1_004)\n"
     ]
    },
    {
     "data": {
      "text/plain": [
       "movieId\n",
       "356       2833\n",
       "318       2833\n",
       "296       2827\n",
       "593       2809\n",
       "2571      2804\n",
       "          ... \n",
       "8966      1905\n",
       "86298     1905\n",
       "4291      1904\n",
       "6890      1904\n",
       "100714    1904\n",
       "Name: count, Length: 2428, dtype: int64"
      ]
     },
     "execution_count": 137,
     "metadata": {},
     "output_type": "execute_result"
    }
   ],
   "source": [
    "import numpy as np\n",
    "\n",
    "# Function to sample rows based on the logarithm to base 1.004 of the number of rows\n",
    "def sample_log_base_1_004(group):\n",
    "    n_rows = len(group)\n",
    "    sample_size = int(np.round(np.log(n_rows) / np.log(1.004)))\n",
    "    return group.sample(n=min(sample_size, n_rows))\n",
    "\n",
    "# Group by 'movieId' and apply the sampling function\n",
    "df = df.groupby('movieId', group_keys=False).apply(sample_log_base_1_004)\n",
    "\n",
    "df['movieId'].value_counts()\n"
   ]
  },
  {
   "cell_type": "code",
   "execution_count": null,
   "metadata": {},
   "outputs": [
    {
     "name": "stdout",
     "output_type": "stream",
     "text": [
      "<class 'pandas.core.frame.DataFrame'>\n",
      "Index: 5273559 entries, 48137 to 24962653\n",
      "Data columns (total 7 columns):\n",
      " #   Column     Dtype  \n",
      "---  ------     -----  \n",
      " 0   movieId    int64  \n",
      " 1   title      object \n",
      " 2   genres     object \n",
      " 3   relevance  object \n",
      " 4   tag        object \n",
      " 5   userId     int32  \n",
      " 6   rating     float64\n",
      "dtypes: float64(1), int32(1), int64(1), object(4)\n",
      "memory usage: 301.8+ MB\n"
     ]
    },
    {
     "data": {
      "text/html": [
       "<div>\n",
       "<style scoped>\n",
       "    .dataframe tbody tr th:only-of-type {\n",
       "        vertical-align: middle;\n",
       "    }\n",
       "\n",
       "    .dataframe tbody tr th {\n",
       "        vertical-align: top;\n",
       "    }\n",
       "\n",
       "    .dataframe thead th {\n",
       "        text-align: right;\n",
       "    }\n",
       "</style>\n",
       "<table border=\"1\" class=\"dataframe\">\n",
       "  <thead>\n",
       "    <tr style=\"text-align: right;\">\n",
       "      <th></th>\n",
       "      <th>movieId</th>\n",
       "      <th>title</th>\n",
       "      <th>genres</th>\n",
       "      <th>relevance</th>\n",
       "      <th>tag</th>\n",
       "      <th>userId</th>\n",
       "      <th>rating</th>\n",
       "    </tr>\n",
       "  </thead>\n",
       "  <tbody>\n",
       "    <tr>\n",
       "      <th>48137</th>\n",
       "      <td>1</td>\n",
       "      <td>Toy Story (1995)</td>\n",
       "      <td>Adventure|Animation|Children|Comedy|Fantasy</td>\n",
       "      <td>[0.99925, 0.99875, 0.99575, 0.98575, 0.98425, ...</td>\n",
       "      <td>[toys, computer animation, pixar animation, ki...</td>\n",
       "      <td>136843</td>\n",
       "      <td>4.0</td>\n",
       "    </tr>\n",
       "    <tr>\n",
       "      <th>54244</th>\n",
       "      <td>1</td>\n",
       "      <td>Toy Story (1995)</td>\n",
       "      <td>Adventure|Animation|Children|Comedy|Fantasy</td>\n",
       "      <td>[0.99925, 0.99875, 0.99575, 0.98575, 0.98425, ...</td>\n",
       "      <td>[toys, computer animation, pixar animation, ki...</td>\n",
       "      <td>153907</td>\n",
       "      <td>3.0</td>\n",
       "    </tr>\n",
       "    <tr>\n",
       "      <th>35688</th>\n",
       "      <td>1</td>\n",
       "      <td>Toy Story (1995)</td>\n",
       "      <td>Adventure|Animation|Children|Comedy|Fantasy</td>\n",
       "      <td>[0.99925, 0.99875, 0.99575, 0.98575, 0.98425, ...</td>\n",
       "      <td>[toys, computer animation, pixar animation, ki...</td>\n",
       "      <td>101322</td>\n",
       "      <td>3.5</td>\n",
       "    </tr>\n",
       "    <tr>\n",
       "      <th>12334</th>\n",
       "      <td>1</td>\n",
       "      <td>Toy Story (1995)</td>\n",
       "      <td>Adventure|Animation|Children|Comedy|Fantasy</td>\n",
       "      <td>[0.99925, 0.99875, 0.99575, 0.98575, 0.98425, ...</td>\n",
       "      <td>[toys, computer animation, pixar animation, ki...</td>\n",
       "      <td>34935</td>\n",
       "      <td>3.0</td>\n",
       "    </tr>\n",
       "    <tr>\n",
       "      <th>2707</th>\n",
       "      <td>1</td>\n",
       "      <td>Toy Story (1995)</td>\n",
       "      <td>Adventure|Animation|Children|Comedy|Fantasy</td>\n",
       "      <td>[0.99925, 0.99875, 0.99575, 0.98575, 0.98425, ...</td>\n",
       "      <td>[toys, computer animation, pixar animation, ki...</td>\n",
       "      <td>7683</td>\n",
       "      <td>3.5</td>\n",
       "    </tr>\n",
       "  </tbody>\n",
       "</table>\n",
       "</div>"
      ],
      "text/plain": [
       "       movieId             title                                       genres  \\\n",
       "48137        1  Toy Story (1995)  Adventure|Animation|Children|Comedy|Fantasy   \n",
       "54244        1  Toy Story (1995)  Adventure|Animation|Children|Comedy|Fantasy   \n",
       "35688        1  Toy Story (1995)  Adventure|Animation|Children|Comedy|Fantasy   \n",
       "12334        1  Toy Story (1995)  Adventure|Animation|Children|Comedy|Fantasy   \n",
       "2707         1  Toy Story (1995)  Adventure|Animation|Children|Comedy|Fantasy   \n",
       "\n",
       "                                               relevance  \\\n",
       "48137  [0.99925, 0.99875, 0.99575, 0.98575, 0.98425, ...   \n",
       "54244  [0.99925, 0.99875, 0.99575, 0.98575, 0.98425, ...   \n",
       "35688  [0.99925, 0.99875, 0.99575, 0.98575, 0.98425, ...   \n",
       "12334  [0.99925, 0.99875, 0.99575, 0.98575, 0.98425, ...   \n",
       "2707   [0.99925, 0.99875, 0.99575, 0.98575, 0.98425, ...   \n",
       "\n",
       "                                                     tag  userId  rating  \n",
       "48137  [toys, computer animation, pixar animation, ki...  136843     4.0  \n",
       "54244  [toys, computer animation, pixar animation, ki...  153907     3.0  \n",
       "35688  [toys, computer animation, pixar animation, ki...  101322     3.5  \n",
       "12334  [toys, computer animation, pixar animation, ki...   34935     3.0  \n",
       "2707   [toys, computer animation, pixar animation, ki...    7683     3.5  "
      ]
     },
     "execution_count": 139,
     "metadata": {},
     "output_type": "execute_result"
    }
   ],
   "source": [
    "df.info()\n",
    "df.head()"
   ]
  },
  {
   "cell_type": "code",
   "execution_count": null,
   "metadata": {},
   "outputs": [],
   "source": [
    "# Safe the dataframe locally\n",
    "\n",
    "df.to_csv('../data/processed/ml-25m/preprocessed_data_movielens.csv', index=False)"
   ]
  },
  {
   "cell_type": "code",
   "execution_count": null,
   "metadata": {},
   "outputs": [],
   "source": []
  }
 ],
 "metadata": {
  "kernelspec": {
   "display_name": "Python 3",
   "language": "python",
   "name": "python3"
  },
  "language_info": {
   "codemirror_mode": {
    "name": "ipython",
    "version": 3
   },
   "file_extension": ".py",
   "mimetype": "text/x-python",
   "name": "python",
   "nbconvert_exporter": "python",
   "pygments_lexer": "ipython3",
   "version": "3.12.3"
  }
 },
 "nbformat": 4,
 "nbformat_minor": 2
}
