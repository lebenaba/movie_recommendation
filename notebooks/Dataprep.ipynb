{
 "cells": [
  {
   "cell_type": "code",
   "execution_count": 10,
   "metadata": {},
   "outputs": [],
   "source": [
    "import pandas as pd\n",
    "\n",
    "df_tags = pd.read_csv('../data/raw/ml-25m/tags.csv')\n",
    "df_gscores = pd.read_csv('../data/raw/ml-25m/genome-scores.csv')\n",
    "df_gtags = pd.read_csv('../data/raw/ml-25m/genome-tags.csv')\n",
    "df_links = pd.read_csv('../data/raw/ml-25m/links.csv')\n",
    "df_movies = pd.read_csv('../data/raw/ml-25m/movies.csv')\n",
    "df_ratings = pd.read_csv('../data/raw/ml-25m/ratings.csv')"
   ]
  },
  {
   "cell_type": "code",
   "execution_count": 11,
   "metadata": {},
   "outputs": [],
   "source": [
    "# Create combined dataframe from the smaller dataframes and cleaning it\n",
    "df = pd.merge(df_movies, df_gscores, how=\"left\", on='movieId')\n",
    "df_gscores = pd.merge(df, df_gtags, how=\"left\", on='tagId')\n",
    "df_gscores.drop(columns=['tagId'], inplace=True)"
   ]
  },
  {
   "cell_type": "code",
   "execution_count": 13,
   "metadata": {},
   "outputs": [
    {
     "name": "stderr",
     "output_type": "stream",
     "text": [
      "C:\\Users\\Leo\\AppData\\Local\\Temp\\ipykernel_19856\\3995359352.py:3: DeprecationWarning: DataFrameGroupBy.apply operated on the grouping columns. This behavior is deprecated, and in a future version of pandas the grouping columns will be excluded from the operation. Either pass `include_groups=False` to exclude the groupings or explicitly select the grouping columns after groupby to silence this warning.\n",
      "  df_gscores = df_gscores.groupby('movieId', group_keys=False).apply(lambda x: x.nlargest(40, 'relevance')).reset_index(drop=True)\n"
     ]
    }
   ],
   "source": [
    "# Keep only the top 40 tags for each movie\n",
    "df_gscores = df_gscores.sort_values(by=['movieId', 'relevance'], ascending=[True, False])\n",
    "df_gscores = df_gscores.groupby('movieId', group_keys=False).apply(lambda x: x.nlargest(40, 'relevance')).reset_index(drop=True)"
   ]
  },
  {
   "cell_type": "code",
   "execution_count": 14,
   "metadata": {},
   "outputs": [],
   "source": [
    "#The same movieId refers to the same movie between `ratings.csv`, `tags.csv`, `movies.csv`, and `links.csv`\n",
    "df = pd.merge(df_movies, df_ratings, how=\"left\", on=['movieId'])\n",
    "df = pd.merge(df, df_tags, on=['movieId', 'userId', 'timestamp'], how='left')\n",
    "df = pd.merge(df, df_gtags, on=['tag'], how='left')\n",
    "df = pd.merge(df, df_gscores, on=['tagId', 'movieId'], how='left')"
   ]
  },
  {
   "cell_type": "code",
   "execution_count": 15,
   "metadata": {},
   "outputs": [],
   "source": [
    "# Merge and clean more\n",
    "df_ratings.drop(columns=['timestamp'], inplace=True)\n",
    "df = pd.merge(df_gscores, df_ratings, on='movieId', how='left')\n",
    "df.dropna(inplace=True)\n",
    "df['userId'] = df['userId'].astype(int)\n",
    "# removed user that is outlyer\n",
    "df = df[df['userId'] != 75309]"
   ]
  },
  {
   "cell_type": "code",
   "execution_count": 17,
   "metadata": {},
   "outputs": [],
   "source": [
    "# Count the occurrences of each movieId and filter out movieIds that occur less than 2000 times\n",
    "movie_counts = df['movieId'].value_counts()\n",
    "movie_ids_to_keep = movie_counts[movie_counts >= 2000].index\n",
    "df = df[df['movieId'].isin(movie_ids_to_keep)]\n"
   ]
  },
  {
   "cell_type": "code",
   "execution_count": 19,
   "metadata": {},
   "outputs": [
    {
     "name": "stderr",
     "output_type": "stream",
     "text": [
      "C:\\Users\\Leo\\AppData\\Local\\Temp\\ipykernel_19856\\4005301193.py:10: DeprecationWarning: DataFrameGroupBy.apply operated on the grouping columns. This behavior is deprecated, and in a future version of pandas the grouping columns will be excluded from the operation. Either pass `include_groups=False` to exclude the groupings or explicitly select the grouping columns after groupby to silence this warning.\n",
      "  df = df.groupby('movieId', group_keys=False).apply(sample_log_base_1_004)\n"
     ]
    },
    {
     "data": {
      "text/plain": [
       "movieId\n",
       "318      2833\n",
       "356      2833\n",
       "296      2827\n",
       "593      2809\n",
       "2571     2804\n",
       "         ... \n",
       "8966     1905\n",
       "86298    1905\n",
       "3388     1905\n",
       "6890     1904\n",
       "4291     1904\n",
       "Name: count, Length: 2427, dtype: int64"
      ]
     },
     "execution_count": 19,
     "metadata": {},
     "output_type": "execute_result"
    }
   ],
   "source": [
    "##### Deadlines:\n",
    "- Report 1. Data viz (5 graphs) + preprocessing. Friday, May 17\n",
    "- Report 2. Modelling. Friday, June 14\n",
    "- Final report. Friday, June 21\n"
   ]
  },
  {
   "cell_type": "code",
   "execution_count": 21,
   "metadata": {},
   "outputs": [],
   "source": [
    "# Safe the dataframe locally\n",
    "\n",
    "df.to_csv('../data/processed/preprocessed_data_movielens.csv', index=False)"
   ]
  },
  {
   "cell_type": "code",
   "execution_count": 23,
   "metadata": {},
   "outputs": [
    {
     "name": "stdout",
     "output_type": "stream",
     "text": [
      "User 75390 exists in DataFrame: False\n"
     ]
    }
   ],
   "source": [
    "# test if the outlyer is still in the dataframe\n",
    "user_exists = df['userId'].isin([75309]).any()\n",
    "print(\"User 75390 exists in DataFrame:\", user_exists)"
   ]
  }
 ],
 "metadata": {
  "kernelspec": {
   "display_name": "Python 3",
   "language": "python",
   "name": "python3"
  },
  "language_info": {
   "codemirror_mode": {
    "name": "ipython",
    "version": 3
   },
   "file_extension": ".py",
   "mimetype": "text/x-python",
   "name": "python",
   "nbconvert_exporter": "python",
   "pygments_lexer": "ipython3",
   "version": "3.11.7"
  }
 },
 "nbformat": 4,
 "nbformat_minor": 2
}
