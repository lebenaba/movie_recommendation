{
 "cells": [
  {
   "cell_type": "code",
   "execution_count": 1,
   "metadata": {},
   "outputs": [],
   "source": [
    "import pandas as pd\n",
    "\n",
    "df_tags = pd.read_csv('../data/raw/ml-25m/tags.csv')\n",
    "df_gscores = pd.read_csv('../data/raw/ml-25m/genome-scores.csv')\n",
    "df_gtags = pd.read_csv('../data/raw/ml-25m/genome-tags.csv')\n",
    "df_links = pd.read_csv('../data/raw/ml-25m/links.csv')\n",
    "df_movies = pd.read_csv('../data/raw/ml-25m/movies.csv')\n",
    "df_ratings = pd.read_csv('../data/raw/ml-25m/ratings.csv')"
   ]
  },
  {
   "cell_type": "code",
   "execution_count": 2,
   "metadata": {},
   "outputs": [],
   "source": [
    "# Create combined dataframe from the smaller dataframes and cleaning it\n",
    "df = pd.merge(df_movies, df_gscores, how=\"left\", on='movieId')\n",
    "df_gscores = pd.merge(df, df_gtags, how=\"left\", on='tagId')\n",
    "df_gscores.drop(columns=['tagId'], inplace=True)"
   ]
  },
  {
   "cell_type": "code",
   "execution_count": 3,
   "metadata": {},
   "outputs": [
    {
     "data": {
      "text/html": [
       "<div>\n",
       "<style scoped>\n",
       "    .dataframe tbody tr th:only-of-type {\n",
       "        vertical-align: middle;\n",
       "    }\n",
       "\n",
       "    .dataframe tbody tr th {\n",
       "        vertical-align: top;\n",
       "    }\n",
       "\n",
       "    .dataframe thead th {\n",
       "        text-align: right;\n",
       "    }\n",
       "</style>\n",
       "<table border=\"1\" class=\"dataframe\">\n",
       "  <thead>\n",
       "    <tr style=\"text-align: right;\">\n",
       "      <th></th>\n",
       "      <th>movieId</th>\n",
       "      <th>tagId</th>\n",
       "      <th>relevance</th>\n",
       "    </tr>\n",
       "  </thead>\n",
       "  <tbody>\n",
       "    <tr>\n",
       "      <th>0</th>\n",
       "      <td>1</td>\n",
       "      <td>1</td>\n",
       "      <td>0.02875</td>\n",
       "    </tr>\n",
       "    <tr>\n",
       "      <th>1</th>\n",
       "      <td>1</td>\n",
       "      <td>2</td>\n",
       "      <td>0.02375</td>\n",
       "    </tr>\n",
       "    <tr>\n",
       "      <th>2</th>\n",
       "      <td>1</td>\n",
       "      <td>3</td>\n",
       "      <td>0.06250</td>\n",
       "    </tr>\n",
       "    <tr>\n",
       "      <th>3</th>\n",
       "      <td>1</td>\n",
       "      <td>4</td>\n",
       "      <td>0.07575</td>\n",
       "    </tr>\n",
       "    <tr>\n",
       "      <th>4</th>\n",
       "      <td>1</td>\n",
       "      <td>5</td>\n",
       "      <td>0.14075</td>\n",
       "    </tr>\n",
       "  </tbody>\n",
       "</table>\n",
       "</div>"
      ],
      "text/plain": [
       "   movieId  tagId  relevance\n",
       "0        1      1    0.02875\n",
       "1        1      2    0.02375\n",
       "2        1      3    0.06250\n",
       "3        1      4    0.07575\n",
       "4        1      5    0.14075"
      ]
     },
     "execution_count": 3,
     "metadata": {},
     "output_type": "execute_result"
    }
   ],
   "source": [
    "df_gscores.head()"
   ]
  },
  {
   "cell_type": "code",
   "execution_count": 4,
   "metadata": {},
   "outputs": [
    {
     "name": "stderr",
     "output_type": "stream",
     "text": [
      "C:\\Users\\Focus\\AppData\\Local\\Temp\\ipykernel_2204\\3995359352.py:3: DeprecationWarning: DataFrameGroupBy.apply operated on the grouping columns. This behavior is deprecated, and in a future version of pandas the grouping columns will be excluded from the operation. Either pass `include_groups=False` to exclude the groupings or explicitly select the grouping columns after groupby to silence this warning.\n",
      "  df_gscores = df_gscores.groupby('movieId', group_keys=False).apply(lambda x: x.nlargest(40, 'relevance')).reset_index(drop=True)\n"
     ]
    }
   ],
   "source": [
    "# Keep only the top 40 tags for each movie\n",
    "df_gscores = df_gscores.sort_values(by=['movieId', 'relevance'], ascending=[True, False])\n",
    "df_gscores = df_gscores.groupby('movieId', group_keys=False).apply(lambda x: x.nlargest(40, 'relevance')).reset_index(drop=True)"
   ]
  },
  {
   "cell_type": "code",
   "execution_count": 5,
   "metadata": {},
   "outputs": [],
   "source": [
    "#The same movieId refers to the same movie between `ratings.csv`, `tags.csv`, `movies.csv`, and `links.csv`\n",
    "df = pd.merge(df_movies, df_ratings, how=\"left\", on=['movieId'])\n",
    "df = pd.merge(df, df_tags, on=['movieId', 'userId', 'timestamp'], how='left')\n",
    "df = pd.merge(df, df_gtags, on=['tag'], how='left')\n",
    "df = pd.merge(df, df_gscores, on=['tagId', 'movieId'], how='left')"
   ]
  },
  {
   "cell_type": "code",
   "execution_count": 6,
   "metadata": {},
   "outputs": [],
   "source": [
    "# Merge and clean more\n",
    "df_ratings.drop(columns=['timestamp'], inplace=True)\n",
    "df = pd.merge(df_gscores, df_ratings, on='movieId', how='left')\n",
    "df.dropna(inplace=True)\n",
    "df['userId'] = df['userId'].astype(int)"
   ]
  },
  {
   "cell_type": "code",
   "execution_count": 7,
   "metadata": {},
   "outputs": [
    {
     "name": "stdout",
     "output_type": "stream",
     "text": [
      "<class 'pandas.core.frame.DataFrame'>\n",
      "Index: 25000095 entries, 0 to 25003470\n",
      "Data columns (total 7 columns):\n",
      " #   Column     Dtype  \n",
      "---  ------     -----  \n",
      " 0   movieId    int64  \n",
      " 1   title      object \n",
      " 2   genres     object \n",
      " 3   relevance  object \n",
      " 4   tag        object \n",
      " 5   userId     int32  \n",
      " 6   rating     float64\n",
      "dtypes: float64(1), int32(1), int64(1), object(4)\n",
      "memory usage: 1.4+ GB\n"
     ]
    }
   ],
   "source": [
    "df.info()"
   ]
  },
  {
   "cell_type": "code",
   "execution_count": 8,
   "metadata": {},
   "outputs": [],
   "source": [
    "# Count the occurrences of each movieId and filter out movieIds that occur less than 2000 times\n",
    "movie_counts = df['movieId'].value_counts()\n",
    "movie_ids_to_keep = movie_counts[movie_counts >= 2000].index\n",
    "df = df[df['movieId'].isin(movie_ids_to_keep)]\n"
   ]
  },
  {
   "cell_type": "code",
   "execution_count": 9,
   "metadata": {},
   "outputs": [
    {
     "data": {
      "text/plain": [
       "genres\n",
       "Drama                                   1766138\n",
       "Comedy                                  1513066\n",
       "Comedy|Romance                           902164\n",
       "Drama|Romance                            796458\n",
       "Comedy|Drama                             721506\n",
       "                                         ...   \n",
       "Adventure|Children|Drama|War                  1\n",
       "Adventure|Fantasy|Western                     1\n",
       "Action|Comedy|Documentary|Thriller            1\n",
       "Adventure|Fantasy|Sci-Fi|Western              1\n",
       "Comedy|Horror|Mystery|Sci-Fi|Western          1\n",
       "Name: count, Length: 1639, dtype: int64"
      ]
     },
     "execution_count": 9,
     "metadata": {},
     "output_type": "execute_result"
    }
   ],
   "source": [
    "df['genres'].value_counts()"
   ]
  },
  {
   "cell_type": "code",
   "execution_count": 10,
   "metadata": {},
   "outputs": [
    {
     "name": "stderr",
     "output_type": "stream",
     "text": [
      "C:\\Users\\Focus\\AppData\\Local\\Temp\\ipykernel_2204\\4005301193.py:10: DeprecationWarning: DataFrameGroupBy.apply operated on the grouping columns. This behavior is deprecated, and in a future version of pandas the grouping columns will be excluded from the operation. Either pass `include_groups=False` to exclude the groupings or explicitly select the grouping columns after groupby to silence this warning.\n",
      "  df = df.groupby('movieId', group_keys=False).apply(sample_log_base_1_004)\n"
     ]
    },
    {
     "data": {
      "text/plain": [
       "movieId\n",
       "356       2833\n",
       "318       2833\n",
       "296       2827\n",
       "593       2809\n",
       "2571      2804\n",
       "          ... \n",
       "8966      1905\n",
       "86298     1905\n",
       "4291      1904\n",
       "6890      1904\n",
       "100714    1904\n",
       "Name: count, Length: 2428, dtype: int64"
      ]
     },
     "execution_count": 10,
     "metadata": {},
     "output_type": "execute_result"
    }
   ],
   "source": [
    "##### Deadlines:\n",
    "- Report 1. Data viz (5 graphs) + preprocessing. Friday, May 17\n",
    "- Report 2. Modelling. Friday, June 14\n",
    "- Final report. Friday, June 21\n"
   ]
  },
  {
   "cell_type": "code",
   "execution_count": 11,
   "metadata": {},
   "outputs": [
    {
     "name": "stdout",
     "output_type": "stream",
     "text": [
      "<class 'pandas.core.frame.DataFrame'>\n",
      "Index: 5273559 entries, 26201 to 24963297\n",
      "Data columns (total 7 columns):\n",
      " #   Column     Dtype  \n",
      "---  ------     -----  \n",
      " 0   movieId    int64  \n",
      " 1   title      object \n",
      " 2   genres     object \n",
      " 3   relevance  object \n",
      " 4   tag        object \n",
      " 5   userId     int32  \n",
      " 6   rating     float64\n",
      "dtypes: float64(1), int32(1), int64(1), object(4)\n",
      "memory usage: 301.8+ MB\n"
     ]
    },
    {
     "data": {
      "text/html": [
       "<div>\n",
       "<style scoped>\n",
       "    .dataframe tbody tr th:only-of-type {\n",
       "        vertical-align: middle;\n",
       "    }\n",
       "\n",
       "    .dataframe tbody tr th {\n",
       "        vertical-align: top;\n",
       "    }\n",
       "\n",
       "    .dataframe thead th {\n",
       "        text-align: right;\n",
       "    }\n",
       "</style>\n",
       "<table border=\"1\" class=\"dataframe\">\n",
       "  <thead>\n",
       "    <tr style=\"text-align: right;\">\n",
       "      <th></th>\n",
       "      <th>movieId</th>\n",
       "      <th>title</th>\n",
       "      <th>genres</th>\n",
       "      <th>relevance</th>\n",
       "      <th>tag</th>\n",
       "      <th>userId</th>\n",
       "      <th>rating</th>\n",
       "    </tr>\n",
       "  </thead>\n",
       "  <tbody>\n",
       "    <tr>\n",
       "      <th>26201</th>\n",
       "      <td>1</td>\n",
       "      <td>Toy Story (1995)</td>\n",
       "      <td>Adventure|Animation|Children|Comedy|Fantasy</td>\n",
       "      <td>[0.99925, 0.99875, 0.99575, 0.98575, 0.98425, ...</td>\n",
       "      <td>[toys, computer animation, pixar animation, ki...</td>\n",
       "      <td>74244</td>\n",
       "      <td>4.0</td>\n",
       "    </tr>\n",
       "    <tr>\n",
       "      <th>19183</th>\n",
       "      <td>1</td>\n",
       "      <td>Toy Story (1995)</td>\n",
       "      <td>Adventure|Animation|Children|Comedy|Fantasy</td>\n",
       "      <td>[0.99925, 0.99875, 0.99575, 0.98575, 0.98425, ...</td>\n",
       "      <td>[toys, computer animation, pixar animation, ki...</td>\n",
       "      <td>54322</td>\n",
       "      <td>4.0</td>\n",
       "    </tr>\n",
       "    <tr>\n",
       "      <th>37420</th>\n",
       "      <td>1</td>\n",
       "      <td>Toy Story (1995)</td>\n",
       "      <td>Adventure|Animation|Children|Comedy|Fantasy</td>\n",
       "      <td>[0.99925, 0.99875, 0.99575, 0.98575, 0.98425, ...</td>\n",
       "      <td>[toys, computer animation, pixar animation, ki...</td>\n",
       "      <td>106130</td>\n",
       "      <td>4.5</td>\n",
       "    </tr>\n",
       "    <tr>\n",
       "      <th>15349</th>\n",
       "      <td>1</td>\n",
       "      <td>Toy Story (1995)</td>\n",
       "      <td>Adventure|Animation|Children|Comedy|Fantasy</td>\n",
       "      <td>[0.99925, 0.99875, 0.99575, 0.98575, 0.98425, ...</td>\n",
       "      <td>[toys, computer animation, pixar animation, ki...</td>\n",
       "      <td>43484</td>\n",
       "      <td>3.5</td>\n",
       "    </tr>\n",
       "    <tr>\n",
       "      <th>5934</th>\n",
       "      <td>1</td>\n",
       "      <td>Toy Story (1995)</td>\n",
       "      <td>Adventure|Animation|Children|Comedy|Fantasy</td>\n",
       "      <td>[0.99925, 0.99875, 0.99575, 0.98575, 0.98425, ...</td>\n",
       "      <td>[toys, computer animation, pixar animation, ki...</td>\n",
       "      <td>16874</td>\n",
       "      <td>4.0</td>\n",
       "    </tr>\n",
       "  </tbody>\n",
       "</table>\n",
       "</div>"
      ],
      "text/plain": [
       "       movieId             title                                       genres  \\\n",
       "26201        1  Toy Story (1995)  Adventure|Animation|Children|Comedy|Fantasy   \n",
       "19183        1  Toy Story (1995)  Adventure|Animation|Children|Comedy|Fantasy   \n",
       "37420        1  Toy Story (1995)  Adventure|Animation|Children|Comedy|Fantasy   \n",
       "15349        1  Toy Story (1995)  Adventure|Animation|Children|Comedy|Fantasy   \n",
       "5934         1  Toy Story (1995)  Adventure|Animation|Children|Comedy|Fantasy   \n",
       "\n",
       "                                               relevance  \\\n",
       "26201  [0.99925, 0.99875, 0.99575, 0.98575, 0.98425, ...   \n",
       "19183  [0.99925, 0.99875, 0.99575, 0.98575, 0.98425, ...   \n",
       "37420  [0.99925, 0.99875, 0.99575, 0.98575, 0.98425, ...   \n",
       "15349  [0.99925, 0.99875, 0.99575, 0.98575, 0.98425, ...   \n",
       "5934   [0.99925, 0.99875, 0.99575, 0.98575, 0.98425, ...   \n",
       "\n",
       "                                                     tag  userId  rating  \n",
       "26201  [toys, computer animation, pixar animation, ki...   74244     4.0  \n",
       "19183  [toys, computer animation, pixar animation, ki...   54322     4.0  \n",
       "37420  [toys, computer animation, pixar animation, ki...  106130     4.5  \n",
       "15349  [toys, computer animation, pixar animation, ki...   43484     3.5  \n",
       "5934   [toys, computer animation, pixar animation, ki...   16874     4.0  "
      ]
     },
     "execution_count": 11,
     "metadata": {},
     "output_type": "execute_result"
    }
   ],
   "source": [
    "df.info()\n",
    "df.head()"
   ]
  },
  {
   "cell_type": "code",
   "execution_count": 12,
   "metadata": {},
   "outputs": [],
   "source": [
    "# Safe the dataframe locally\n",
    "df.to_csv('../data/processed/preprocessed_data_movielens.csv', index=False)"
   ]
  }
 ],
 "metadata": {
  "kernelspec": {
   "display_name": "Python 3",
   "language": "python",
   "name": "python3"
  },
  "language_info": {
   "codemirror_mode": {
    "name": "ipython",
    "version": 3
   },
   "file_extension": ".py",
   "mimetype": "text/x-python",
   "name": "python",
   "nbconvert_exporter": "python",
   "pygments_lexer": "ipython3",
   "version": "3.12.1"
  }
 },
 "nbformat": 4,
 "nbformat_minor": 2
}
