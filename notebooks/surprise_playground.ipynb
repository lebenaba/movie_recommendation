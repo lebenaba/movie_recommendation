{
 "cells": [
  {
   "cell_type": "markdown",
   "metadata": {},
   "source": [
    "### Automatic cross-validation"
   ]
  },
  {
   "cell_type": "code",
   "execution_count": 3,
   "metadata": {},
   "outputs": [
    {
     "name": "stdout",
     "output_type": "stream",
     "text": [
      "Evaluating RMSE, MAE of algorithm SVD on 5 split(s).\n",
      "\n",
      "                  Fold 1  Fold 2  Fold 3  Fold 4  Fold 5  Mean    Std     \n",
      "RMSE (testset)    0.9490  0.9349  0.9310  0.9366  0.9274  0.9358  0.0073  \n",
      "MAE (testset)     0.7480  0.7393  0.7352  0.7367  0.7291  0.7377  0.0062  \n",
      "Fit time          0.70    0.73    0.72    0.72    0.70    0.71    0.01    \n",
      "Test time         0.14    0.13    0.09    0.13    0.12    0.12    0.02    \n"
     ]
    },
    {
     "data": {
      "text/plain": [
       "{'test_rmse': array([0.94895533, 0.93485383, 0.93101334, 0.93655514, 0.92738631]),\n",
       " 'test_mae': array([0.74796064, 0.73933601, 0.73515609, 0.73671914, 0.72908893]),\n",
       " 'fit_time': (0.7009801864624023,\n",
       "  0.7341670989990234,\n",
       "  0.7211644649505615,\n",
       "  0.7167453765869141,\n",
       "  0.7019352912902832),\n",
       " 'test_time': (0.13703227043151855,\n",
       "  0.1290299892425537,\n",
       "  0.09202146530151367,\n",
       "  0.1260054111480713,\n",
       "  0.12499189376831055)}"
      ]
     },
     "execution_count": 3,
     "metadata": {},
     "output_type": "execute_result"
    }
   ],
   "source": [
    "from surprise import Dataset, SVD\n",
    "from surprise.model_selection import cross_validate\n",
    "\n",
    "\n",
    "# Load the movielens-100k dataset (download it if needed),\n",
    "data = Dataset.load_builtin(\"ml-100k\")\n",
    "\n",
    "# We'll use the famous SVD algorithm.\n",
    "algo = SVD()\n",
    "\n",
    "# Run 5-fold cross-validation and print results\n",
    "cross_validate(algo, data, measures=[\"RMSE\", \"MAE\"], cv=5, verbose=True)"
   ]
  },
  {
   "cell_type": "markdown",
   "metadata": {},
   "source": [
    "### Use a custom dataset"
   ]
  },
  {
   "cell_type": "code",
   "execution_count": 19,
   "metadata": {},
   "outputs": [
    {
     "name": "stdout",
     "output_type": "stream",
     "text": [
      "Estimating biases using als...\n",
      "Estimating biases using als...\n",
      "Estimating biases using als...\n",
      "Estimating biases using als...\n",
      "Estimating biases using als...\n",
      "Evaluating RMSE, MAE of algorithm BaselineOnly on 5 split(s).\n",
      "\n",
      "                  Fold 1  Fold 2  Fold 3  Fold 4  Fold 5  Mean    Std     \n",
      "RMSE (testset)    0.9453  0.9362  0.9550  0.9387  0.9474  0.9445  0.0067  \n",
      "MAE (testset)     0.7468  0.7435  0.7560  0.7446  0.7525  0.7487  0.0048  \n",
      "Fit time          0.14    0.17    0.16    0.16    0.16    0.16    0.01    \n",
      "Test time         0.05    0.05    0.06    0.05    0.05    0.05    0.00    \n"
     ]
    },
    {
     "data": {
      "text/plain": [
       "{'test_rmse': array([0.94534981, 0.93615582, 0.95503278, 0.93874078, 0.94743453]),\n",
       " 'test_mae': array([0.74684604, 0.74347603, 0.75601081, 0.74461369, 0.75252522]),\n",
       " 'fit_time': (0.13503289222717285,\n",
       "  0.1690373420715332,\n",
       "  0.1560354232788086,\n",
       "  0.16303730010986328,\n",
       "  0.15703582763671875),\n",
       " 'test_time': (0.05000948905944824,\n",
       "  0.05101203918457031,\n",
       "  0.056012868881225586,\n",
       "  0.050011396408081055,\n",
       "  0.04901123046875)}"
      ]
     },
     "execution_count": 19,
     "metadata": {},
     "output_type": "execute_result"
    }
   ],
   "source": [
    "import os\n",
    "\n",
    "from surprise import BaselineOnly, Dataset, Reader\n",
    "from surprise.model_selection import cross_validate\n",
    "\n",
    "# path to dataset file\n",
    "file_path = os.path.expanduser(\"~/.surprise_data/ml-100k/ml-100k/u.data\")\n",
    "\n",
    "# As we're loading a custom dataset, we need to define a reader. In the\n",
    "# movielens-100k dataset, each line has the following format:\n",
    "# 'user item rating timestamp', separated by '\\t' characters.\n",
    "reader = Reader(line_format=\"user item rating timestamp\", sep=\"\\t\")\n",
    "\n",
    "data = Dataset.load_from_file(file_path, reader=reader)\n",
    "\n",
    "# We can now use this dataset as we please, e.g. calling cross_validate\n",
    "cross_validate(BaselineOnly(), data, verbose=True)"
   ]
  },
  {
   "cell_type": "markdown",
   "metadata": {},
   "source": [
    "### Use cross-validation iterators"
   ]
  },
  {
   "cell_type": "code",
   "execution_count": 10,
   "metadata": {},
   "outputs": [
    {
     "name": "stdout",
     "output_type": "stream",
     "text": [
      "RMSE: 0.9412\n",
      "RMSE: 0.9509\n",
      "RMSE: 0.9513\n"
     ]
    }
   ],
   "source": [
    "from surprise import accuracy, Dataset, SVD\n",
    "from surprise.model_selection import KFold\n",
    "\n",
    "# Load the movielens-100k dataset\n",
    "data = Dataset.load_builtin(\"ml-100k\")\n",
    "\n",
    "# define a cross-validation iterator\n",
    "kf = KFold(n_splits=3)\n",
    "\n",
    "algo = SVD()\n",
    "\n",
    "for trainset, testset in kf.split(data):\n",
    "\n",
    "    # train and test algorithm.\n",
    "    algo.fit(trainset)\n",
    "    predictions = algo.test(testset)\n",
    "\n",
    "    # Compute and print Root Mean Squared Error\n",
    "    accuracy.rmse(predictions, verbose=True)"
   ]
  },
  {
   "cell_type": "markdown",
   "metadata": {},
   "source": [
    "###  Cross-validation with folds predefined by some files"
   ]
  },
  {
   "cell_type": "code",
   "execution_count": 11,
   "metadata": {},
   "outputs": [
    {
     "name": "stdout",
     "output_type": "stream",
     "text": [
      "RMSE: 0.9504\n",
      "RMSE: 0.9424\n",
      "RMSE: 0.9309\n",
      "RMSE: 0.9345\n",
      "RMSE: 0.9369\n"
     ]
    }
   ],
   "source": [
    "import os\n",
    "\n",
    "from surprise import accuracy, Dataset, Reader, SVD\n",
    "from surprise.model_selection import PredefinedKFold\n",
    "\n",
    "# path to dataset folder\n",
    "files_dir = os.path.expanduser(\"~/.surprise_data/ml-100k/ml-100k/\")\n",
    "\n",
    "# This time, we'll use the built-in reader.\n",
    "reader = Reader(\"ml-100k\")\n",
    "\n",
    "# folds_files is a list of tuples containing file paths:\n",
    "# [(u1.base, u1.test), (u2.base, u2.test), ... (u5.base, u5.test)]\n",
    "train_file = files_dir + \"u%d.base\"\n",
    "test_file = files_dir + \"u%d.test\"\n",
    "folds_files = [(train_file % i, test_file % i) for i in (1, 2, 3, 4, 5)]\n",
    "\n",
    "data = Dataset.load_from_folds(folds_files, reader=reader)\n",
    "pkf = PredefinedKFold()\n",
    "\n",
    "algo = SVD()\n",
    "\n",
    "for trainset, testset in pkf.split(data):\n",
    "\n",
    "    # train and test algorithm.\n",
    "    algo.fit(trainset)\n",
    "    predictions = algo.test(testset)\n",
    "\n",
    "    # Compute and print Root Mean Squared Error\n",
    "    accuracy.rmse(predictions, verbose=True)"
   ]
  },
  {
   "cell_type": "markdown",
   "metadata": {},
   "source": [
    "### Train-test split and fit() method"
   ]
  },
  {
   "cell_type": "code",
   "execution_count": 8,
   "metadata": {},
   "outputs": [
    {
     "name": "stdout",
     "output_type": "stream",
     "text": [
      "RMSE: 0.9395\n"
     ]
    },
    {
     "data": {
      "text/plain": [
       "0.9395339744660888"
      ]
     },
     "execution_count": 8,
     "metadata": {},
     "output_type": "execute_result"
    }
   ],
   "source": [
    "from surprise import accuracy, Dataset, SVD\n",
    "from surprise.model_selection import train_test_split\n",
    "\n",
    "# Load the movielens-100k dataset (download it if needed),\n",
    "data = Dataset.load_builtin(\"ml-100k\")\n",
    "\n",
    "# sample random trainset and testset\n",
    "# test set is made of 25% of the ratings.\n",
    "trainset, testset = train_test_split(data, test_size=0.25)\n",
    "\n",
    "# We'll use the famous SVD algorithm.\n",
    "algo = SVD()\n",
    "\n",
    "# Train the algorithm on the trainset, and predict ratings for the testset\n",
    "algo.fit(trainset)\n",
    "predictions = algo.test(testset)\n",
    "\n",
    "# Then compute RMSE\n",
    "accuracy.rmse(predictions)"
   ]
  },
  {
   "cell_type": "markdown",
   "metadata": {},
   "source": [
    "### Train on a whole trainset and the predict() method"
   ]
  },
  {
   "cell_type": "code",
   "execution_count": 9,
   "metadata": {},
   "outputs": [
    {
     "name": "stdout",
     "output_type": "stream",
     "text": [
      "Computing the msd similarity matrix...\n",
      "Done computing similarity matrix.\n",
      "user: 196        item: 302        r_ui = 4.00   est = 4.06   {'actual_k': 40, 'was_impossible': False}\n"
     ]
    }
   ],
   "source": [
    "from surprise import Dataset, KNNBasic\n",
    "\n",
    "# Load the movielens-100k dataset\n",
    "data = Dataset.load_builtin(\"ml-100k\")\n",
    "\n",
    "# Retrieve the trainset.\n",
    "trainset = data.build_full_trainset()\n",
    "\n",
    "# Build an algorithm, and train it.\n",
    "algo = KNNBasic()\n",
    "algo.fit(trainset)\n",
    "\n",
    "uid = str(196)  # raw user id (as in the ratings file). They are **strings**!\n",
    "iid = str(302)  # raw item id (as in the ratings file). They are **strings**!\n",
    "\n",
    "# get a prediction for specific users and items. r_ui represents the true, known rating.\n",
    "pred = algo.predict(uid, iid, r_ui=4, verbose=True)\n",
    "\n",
    "# Note: The predict() uses raw ids. As the dataset we have used has been read from a file, the raw ids are strings (even if they represent numbers)."
   ]
  },
  {
   "cell_type": "markdown",
   "metadata": {},
   "source": [
    "### Tune algorithm parameters with GridSearchCV"
   ]
  },
  {
   "cell_type": "code",
   "execution_count": 12,
   "metadata": {},
   "outputs": [
    {
     "name": "stdout",
     "output_type": "stream",
     "text": [
      "0.9633656595058318\n",
      "{'n_epochs': 10, 'lr_all': 0.005, 'reg_all': 0.4}\n"
     ]
    }
   ],
   "source": [
    "from surprise import Dataset, SVD\n",
    "from surprise.model_selection import GridSearchCV\n",
    "\n",
    "# Use movielens-100K\n",
    "data = Dataset.load_builtin(\"ml-100k\")\n",
    "\n",
    "param_grid = {\"n_epochs\": [5, 10], \"lr_all\": [0.002, 0.005], \"reg_all\": [0.4, 0.6]}\n",
    "gs = GridSearchCV(SVD, param_grid, measures=[\"rmse\", \"mae\"], cv=3)\n",
    "\n",
    "gs.fit(data)\n",
    "\n",
    "# best RMSE score\n",
    "print(gs.best_score[\"rmse\"])\n",
    "\n",
    "# combination of parameters that gave the best RMSE score\n",
    "print(gs.best_params[\"rmse\"])"
   ]
  },
  {
   "cell_type": "code",
   "execution_count": 13,
   "metadata": {},
   "outputs": [
    {
     "data": {
      "text/plain": [
       "<surprise.prediction_algorithms.matrix_factorization.SVD at 0x28de8c5b800>"
      ]
     },
     "execution_count": 13,
     "metadata": {},
     "output_type": "execute_result"
    }
   ],
   "source": [
    "# We can now use the algorithm that yields the best rmse:\n",
    "algo = gs.best_estimator[\"rmse\"]\n",
    "algo.fit(data.build_full_trainset())"
   ]
  },
  {
   "cell_type": "code",
   "execution_count": 17,
   "metadata": {},
   "outputs": [
    {
     "data": {
      "text/html": [
       "<div>\n",
       "<style scoped>\n",
       "    .dataframe tbody tr th:only-of-type {\n",
       "        vertical-align: middle;\n",
       "    }\n",
       "\n",
       "    .dataframe tbody tr th {\n",
       "        vertical-align: top;\n",
       "    }\n",
       "\n",
       "    .dataframe thead th {\n",
       "        text-align: right;\n",
       "    }\n",
       "</style>\n",
       "<table border=\"1\" class=\"dataframe\">\n",
       "  <thead>\n",
       "    <tr style=\"text-align: right;\">\n",
       "      <th></th>\n",
       "      <th>split0_test_rmse</th>\n",
       "      <th>split1_test_rmse</th>\n",
       "      <th>split2_test_rmse</th>\n",
       "      <th>mean_test_rmse</th>\n",
       "      <th>std_test_rmse</th>\n",
       "      <th>rank_test_rmse</th>\n",
       "      <th>split0_test_mae</th>\n",
       "      <th>split1_test_mae</th>\n",
       "      <th>split2_test_mae</th>\n",
       "      <th>mean_test_mae</th>\n",
       "      <th>std_test_mae</th>\n",
       "      <th>rank_test_mae</th>\n",
       "      <th>mean_fit_time</th>\n",
       "      <th>std_fit_time</th>\n",
       "      <th>mean_test_time</th>\n",
       "      <th>std_test_time</th>\n",
       "      <th>params</th>\n",
       "      <th>param_n_epochs</th>\n",
       "      <th>param_lr_all</th>\n",
       "      <th>param_reg_all</th>\n",
       "    </tr>\n",
       "  </thead>\n",
       "  <tbody>\n",
       "    <tr>\n",
       "      <th>0</th>\n",
       "      <td>0.993824</td>\n",
       "      <td>0.998935</td>\n",
       "      <td>0.998765</td>\n",
       "      <td>0.997175</td>\n",
       "      <td>0.002370</td>\n",
       "      <td>7</td>\n",
       "      <td>0.802444</td>\n",
       "      <td>0.808015</td>\n",
       "      <td>0.807708</td>\n",
       "      <td>0.806056</td>\n",
       "      <td>0.002557</td>\n",
       "      <td>7</td>\n",
       "      <td>0.169706</td>\n",
       "      <td>0.000943</td>\n",
       "      <td>0.187709</td>\n",
       "      <td>0.023982</td>\n",
       "      <td>{'n_epochs': 5, 'lr_all': 0.002, 'reg_all': 0.4}</td>\n",
       "      <td>5</td>\n",
       "      <td>0.002</td>\n",
       "      <td>0.4</td>\n",
       "    </tr>\n",
       "    <tr>\n",
       "      <th>1</th>\n",
       "      <td>0.999967</td>\n",
       "      <td>1.005216</td>\n",
       "      <td>1.004401</td>\n",
       "      <td>1.003195</td>\n",
       "      <td>0.002306</td>\n",
       "      <td>8</td>\n",
       "      <td>0.811082</td>\n",
       "      <td>0.816832</td>\n",
       "      <td>0.816111</td>\n",
       "      <td>0.814675</td>\n",
       "      <td>0.002558</td>\n",
       "      <td>8</td>\n",
       "      <td>0.150368</td>\n",
       "      <td>0.002626</td>\n",
       "      <td>0.187042</td>\n",
       "      <td>0.026324</td>\n",
       "      <td>{'n_epochs': 5, 'lr_all': 0.002, 'reg_all': 0.6}</td>\n",
       "      <td>5</td>\n",
       "      <td>0.002</td>\n",
       "      <td>0.6</td>\n",
       "    </tr>\n",
       "    <tr>\n",
       "      <th>2</th>\n",
       "      <td>0.969914</td>\n",
       "      <td>0.976222</td>\n",
       "      <td>0.974347</td>\n",
       "      <td>0.973495</td>\n",
       "      <td>0.002645</td>\n",
       "      <td>3</td>\n",
       "      <td>0.777794</td>\n",
       "      <td>0.785082</td>\n",
       "      <td>0.782946</td>\n",
       "      <td>0.781941</td>\n",
       "      <td>0.003059</td>\n",
       "      <td>2</td>\n",
       "      <td>0.146905</td>\n",
       "      <td>0.000182</td>\n",
       "      <td>0.184110</td>\n",
       "      <td>0.024808</td>\n",
       "      <td>{'n_epochs': 5, 'lr_all': 0.005, 'reg_all': 0.4}</td>\n",
       "      <td>5</td>\n",
       "      <td>0.005</td>\n",
       "      <td>0.4</td>\n",
       "    </tr>\n",
       "    <tr>\n",
       "      <th>3</th>\n",
       "      <td>0.978679</td>\n",
       "      <td>0.985357</td>\n",
       "      <td>0.983013</td>\n",
       "      <td>0.982350</td>\n",
       "      <td>0.002766</td>\n",
       "      <td>5</td>\n",
       "      <td>0.788419</td>\n",
       "      <td>0.796213</td>\n",
       "      <td>0.794061</td>\n",
       "      <td>0.792897</td>\n",
       "      <td>0.003287</td>\n",
       "      <td>5</td>\n",
       "      <td>0.146367</td>\n",
       "      <td>0.000472</td>\n",
       "      <td>0.200712</td>\n",
       "      <td>0.000943</td>\n",
       "      <td>{'n_epochs': 5, 'lr_all': 0.005, 'reg_all': 0.6}</td>\n",
       "      <td>5</td>\n",
       "      <td>0.005</td>\n",
       "      <td>0.6</td>\n",
       "    </tr>\n",
       "    <tr>\n",
       "      <th>4</th>\n",
       "      <td>0.974362</td>\n",
       "      <td>0.980554</td>\n",
       "      <td>0.978855</td>\n",
       "      <td>0.977924</td>\n",
       "      <td>0.002612</td>\n",
       "      <td>4</td>\n",
       "      <td>0.781975</td>\n",
       "      <td>0.789086</td>\n",
       "      <td>0.787010</td>\n",
       "      <td>0.786024</td>\n",
       "      <td>0.002985</td>\n",
       "      <td>4</td>\n",
       "      <td>0.289596</td>\n",
       "      <td>0.001123</td>\n",
       "      <td>0.188061</td>\n",
       "      <td>0.023345</td>\n",
       "      <td>{'n_epochs': 10, 'lr_all': 0.002, 'reg_all': 0.4}</td>\n",
       "      <td>10</td>\n",
       "      <td>0.002</td>\n",
       "      <td>0.4</td>\n",
       "    </tr>\n",
       "    <tr>\n",
       "      <th>5</th>\n",
       "      <td>0.982540</td>\n",
       "      <td>0.988541</td>\n",
       "      <td>0.986812</td>\n",
       "      <td>0.985964</td>\n",
       "      <td>0.002522</td>\n",
       "      <td>6</td>\n",
       "      <td>0.792460</td>\n",
       "      <td>0.799303</td>\n",
       "      <td>0.797490</td>\n",
       "      <td>0.796417</td>\n",
       "      <td>0.002895</td>\n",
       "      <td>6</td>\n",
       "      <td>0.289399</td>\n",
       "      <td>0.002358</td>\n",
       "      <td>0.193044</td>\n",
       "      <td>0.031280</td>\n",
       "      <td>{'n_epochs': 10, 'lr_all': 0.002, 'reg_all': 0.6}</td>\n",
       "      <td>10</td>\n",
       "      <td>0.002</td>\n",
       "      <td>0.6</td>\n",
       "    </tr>\n",
       "    <tr>\n",
       "      <th>6</th>\n",
       "      <td>0.959311</td>\n",
       "      <td>0.966822</td>\n",
       "      <td>0.963964</td>\n",
       "      <td>0.963366</td>\n",
       "      <td>0.003096</td>\n",
       "      <td>1</td>\n",
       "      <td>0.767837</td>\n",
       "      <td>0.776586</td>\n",
       "      <td>0.772908</td>\n",
       "      <td>0.772444</td>\n",
       "      <td>0.003587</td>\n",
       "      <td>1</td>\n",
       "      <td>0.286867</td>\n",
       "      <td>0.001967</td>\n",
       "      <td>0.186039</td>\n",
       "      <td>0.026326</td>\n",
       "      <td>{'n_epochs': 10, 'lr_all': 0.005, 'reg_all': 0.4}</td>\n",
       "      <td>10</td>\n",
       "      <td>0.005</td>\n",
       "      <td>0.4</td>\n",
       "    </tr>\n",
       "    <tr>\n",
       "      <th>7</th>\n",
       "      <td>0.969237</td>\n",
       "      <td>0.976691</td>\n",
       "      <td>0.973790</td>\n",
       "      <td>0.973239</td>\n",
       "      <td>0.003068</td>\n",
       "      <td>2</td>\n",
       "      <td>0.779464</td>\n",
       "      <td>0.788192</td>\n",
       "      <td>0.784966</td>\n",
       "      <td>0.784207</td>\n",
       "      <td>0.003604</td>\n",
       "      <td>3</td>\n",
       "      <td>0.285495</td>\n",
       "      <td>0.001007</td>\n",
       "      <td>0.185693</td>\n",
       "      <td>0.026633</td>\n",
       "      <td>{'n_epochs': 10, 'lr_all': 0.005, 'reg_all': 0.6}</td>\n",
       "      <td>10</td>\n",
       "      <td>0.005</td>\n",
       "      <td>0.6</td>\n",
       "    </tr>\n",
       "  </tbody>\n",
       "</table>\n",
       "</div>"
      ],
      "text/plain": [
       "   split0_test_rmse  split1_test_rmse  split2_test_rmse  mean_test_rmse  \\\n",
       "0          0.993824          0.998935          0.998765        0.997175   \n",
       "1          0.999967          1.005216          1.004401        1.003195   \n",
       "2          0.969914          0.976222          0.974347        0.973495   \n",
       "3          0.978679          0.985357          0.983013        0.982350   \n",
       "4          0.974362          0.980554          0.978855        0.977924   \n",
       "5          0.982540          0.988541          0.986812        0.985964   \n",
       "6          0.959311          0.966822          0.963964        0.963366   \n",
       "7          0.969237          0.976691          0.973790        0.973239   \n",
       "\n",
       "   std_test_rmse  rank_test_rmse  split0_test_mae  split1_test_mae  \\\n",
       "0       0.002370               7         0.802444         0.808015   \n",
       "1       0.002306               8         0.811082         0.816832   \n",
       "2       0.002645               3         0.777794         0.785082   \n",
       "3       0.002766               5         0.788419         0.796213   \n",
       "4       0.002612               4         0.781975         0.789086   \n",
       "5       0.002522               6         0.792460         0.799303   \n",
       "6       0.003096               1         0.767837         0.776586   \n",
       "7       0.003068               2         0.779464         0.788192   \n",
       "\n",
       "   split2_test_mae  mean_test_mae  std_test_mae  rank_test_mae  mean_fit_time  \\\n",
       "0         0.807708       0.806056      0.002557              7       0.169706   \n",
       "1         0.816111       0.814675      0.002558              8       0.150368   \n",
       "2         0.782946       0.781941      0.003059              2       0.146905   \n",
       "3         0.794061       0.792897      0.003287              5       0.146367   \n",
       "4         0.787010       0.786024      0.002985              4       0.289596   \n",
       "5         0.797490       0.796417      0.002895              6       0.289399   \n",
       "6         0.772908       0.772444      0.003587              1       0.286867   \n",
       "7         0.784966       0.784207      0.003604              3       0.285495   \n",
       "\n",
       "   std_fit_time  mean_test_time  std_test_time  \\\n",
       "0      0.000943        0.187709       0.023982   \n",
       "1      0.002626        0.187042       0.026324   \n",
       "2      0.000182        0.184110       0.024808   \n",
       "3      0.000472        0.200712       0.000943   \n",
       "4      0.001123        0.188061       0.023345   \n",
       "5      0.002358        0.193044       0.031280   \n",
       "6      0.001967        0.186039       0.026326   \n",
       "7      0.001007        0.185693       0.026633   \n",
       "\n",
       "                                              params  param_n_epochs  \\\n",
       "0   {'n_epochs': 5, 'lr_all': 0.002, 'reg_all': 0.4}               5   \n",
       "1   {'n_epochs': 5, 'lr_all': 0.002, 'reg_all': 0.6}               5   \n",
       "2   {'n_epochs': 5, 'lr_all': 0.005, 'reg_all': 0.4}               5   \n",
       "3   {'n_epochs': 5, 'lr_all': 0.005, 'reg_all': 0.6}               5   \n",
       "4  {'n_epochs': 10, 'lr_all': 0.002, 'reg_all': 0.4}              10   \n",
       "5  {'n_epochs': 10, 'lr_all': 0.002, 'reg_all': 0.6}              10   \n",
       "6  {'n_epochs': 10, 'lr_all': 0.005, 'reg_all': 0.4}              10   \n",
       "7  {'n_epochs': 10, 'lr_all': 0.005, 'reg_all': 0.6}              10   \n",
       "\n",
       "   param_lr_all  param_reg_all  \n",
       "0         0.002            0.4  \n",
       "1         0.002            0.6  \n",
       "2         0.005            0.4  \n",
       "3         0.005            0.6  \n",
       "4         0.002            0.4  \n",
       "5         0.002            0.6  \n",
       "6         0.005            0.4  \n",
       "7         0.005            0.6  "
      ]
     },
     "execution_count": 17,
     "metadata": {},
     "output_type": "execute_result"
    }
   ],
   "source": [
    "import pandas as pd\n",
    "results_df = pd.DataFrame.from_dict(gs.cv_results)\n",
    "results_df"
   ]
  }
 ],
 "metadata": {
  "kernelspec": {
   "display_name": "Python 3",
   "language": "python",
   "name": "python3"
  },
  "language_info": {
   "codemirror_mode": {
    "name": "ipython",
    "version": 3
   },
   "file_extension": ".py",
   "mimetype": "text/x-python",
   "name": "python",
   "nbconvert_exporter": "python",
   "pygments_lexer": "ipython3",
   "version": "3.12.1"
  }
 },
 "nbformat": 4,
 "nbformat_minor": 2
}
