{
 "cells": [
  {
   "cell_type": "code",
   "execution_count": 2,
   "metadata": {},
   "outputs": [],
   "source": [
    "import random\n",
    "import joblib\n",
    "from surprise import Dataset, Reader\n",
    "from surprise.model_selection import train_test_split, cross_validate, GridSearchCV\n",
    "import pandas as pd\n",
    "import numpy as np"
   ]
  },
  {
   "cell_type": "code",
   "execution_count": 3,
   "metadata": {},
   "outputs": [],
   "source": [
    "\"\"\"Some algorithms randomly initialize their parameters (sometimes with numpy), and the cross-validation folds are also randomly generated. \n",
    "If you need to reproduce your experiments multiple times, you just have to set the seed of the RNG at the beginning of your program:\"\"\"\n",
    "\n",
    "my_seed = 42\n",
    "random.seed(my_seed)\n",
    "np.random.seed(my_seed)"
   ]
  },
  {
   "cell_type": "markdown",
   "metadata": {},
   "source": [
    "### Loading data and preparing data"
   ]
  },
  {
   "cell_type": "code",
   "execution_count": 22,
   "metadata": {},
   "outputs": [],
   "source": [
    "df = joblib.load('../data/processed/preprocessed_data_movielens.pkl')\n",
    "df.drop(columns=['title','genres','relevance','tag'], inplace=True)\n",
    "# sort columns in required order\n",
    "df = df[['userId', 'movieId', 'rating']]\n",
    "# reset index, which was nonsense after import\n",
    "df = df.reset_index().drop(columns=['index'])"
   ]
  },
  {
   "cell_type": "code",
   "execution_count": 23,
   "metadata": {},
   "outputs": [],
   "source": [
    "# Load the data into Surprise format, columns have been sorted in required order (raw user id, raw item id, rating) beforehand\n",
    "reader = Reader(rating_scale=(0.5, 5.0))\n",
    "data = Dataset.load_from_df(df, reader)"
   ]
  },
  {
   "cell_type": "markdown",
   "metadata": {},
   "source": [
    "### Parameter tuning"
   ]
  },
  {
   "cell_type": "code",
   "execution_count": null,
   "metadata": {},
   "outputs": [],
   "source": [
    "from surprise import KNNBaseline\n",
    "\n",
    "# define sim_options to be tested\n",
    "sim_options = {\n",
    "\"name\": [\"msd\", \"cosine\", \"pearson\", \"pearson_baseline\"],\n",
    "\"min_support\": [3, 4, 5],\n",
    "\"user_based\": [False], # only item-base approach, since it is generally better suited for the task and user based would require enormous amounts of memory\n",
    "}\n",
    "param_grid = {\"sim_options\": sim_options,\n",
    "              \"k\": [20, 30, 40], # The (max) number of neighbors to take into account for aggregation\n",
    "              \"min_k\": [1, 2, 3]} # The minimum number of neighbors to take into account for aggregation\n",
    "gs = GridSearchCV(KNNBaseline, param_grid, measures=[\"rmse\", \"mse\", \"mae\"], cv=3, n_jobs=-1)\n",
    "gs.fit(data)\n",
    "print(gs.best_score)\n",
    "print(gs.best_params)\n",
    "\n",
    "# save GridSearchCV object to file in models folder\n",
    "joblib.dump(gs, '../models/surp_gridsearchcv_knnBaseline.pkl')"
   ]
  },
  {
   "cell_type": "code",
   "execution_count": null,
   "metadata": {},
   "outputs": [],
   "source": [
    "from surprise import KNNWithZScore\n",
    "\n",
    "# define sim_options to be tested\n",
    "sim_options = {\n",
    "\"name\": [\"msd\", \"cosine\", \"pearson\", \"pearson_baseline\"],\n",
    "\"min_support\": [3, 4, 5],\n",
    "\"user_based\": [False], # only item-base approach, since it is generally better suited for the task and user based would require enormous amounts of memory\n",
    "}\n",
    "param_grid = {\"sim_options\": sim_options,\n",
    "              \"k\": [20, 30, 40], # The (max) number of neighbors to take into account for aggregation\n",
    "              \"min_k\": [1, 2, 3]} # The minimum number of neighbors to take into account for aggregation\n",
    "gs = GridSearchCV(KNNWithZScore, param_grid, measures=[\"rmse\", \"mse\", \"mae\"], cv=3, n_jobs=-1)\n",
    "gs.fit(data)\n",
    "print(gs.best_score)\n",
    "print(gs.best_params)\n",
    "\n",
    "# save GridSearchCV object to file in models folder\n",
    "joblib.dump(gs, '../models/surp_gridsearchcv_knnZScore.pkl')"
   ]
  }
 ],
 "metadata": {
  "kernelspec": {
   "display_name": "Python 3",
   "language": "python",
   "name": "python3"
  },
  "language_info": {
   "codemirror_mode": {
    "name": "ipython",
    "version": 3
   },
   "file_extension": ".py",
   "mimetype": "text/x-python",
   "name": "python",
   "nbconvert_exporter": "python",
   "pygments_lexer": "ipython3",
   "version": "3.12.1"
  }
 },
 "nbformat": 4,
 "nbformat_minor": 2
}
