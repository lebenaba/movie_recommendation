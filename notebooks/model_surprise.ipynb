{
 "cells": [
  {
   "cell_type": "code",
   "execution_count": 9,
   "metadata": {},
   "outputs": [],
   "source": [
    "# import pandas as pd\n",
    "# from surprise import Dataset\n",
    "# from surprise import Reader\n",
    "# # This is the same data that was plotted for similarity earlier\n",
    "# # with one new user \"E\" who has rated only movie 1\n",
    "# ratings_dict = {\n",
    "# \"item\": [1, 2, 1, 2, 1, 2, 1, 2, 1],\n",
    "# \"user\": ['A', 'A', 'B', 'B', 'C', 'C', 'D', 'D', 'E'],\n",
    "# \"rating\": [1, 2, 2, 4, 2.5, 4, 4.5, 5, 3],\n",
    "# }\n",
    "# df = pd.DataFrame(ratings_dict)\n",
    "# df_pre = pd.read_csv('../data/processed/preprocessed_data_movielens.csv')\n",
    "# df_pre = df_pre.drop(columns=['title','genres','relevance','tag'])\n",
    "# df_pre.head()\n",
    "# # The Reader class is used to parse a file containing ratings. The default format in which it accepts data is that each rating is stored in a separate line in the order user item rating.\n",
    "# reader1 = Reader(rating_scale=(1, 5))\n",
    "# reader2 = Reader(line_format='item user rating', rating_scale=(0.5, 5))\n",
    "\n",
    "# # The Dataset module is used to load data from files, Pandas dataframes, or even built-in datasets available for experimentation.\n",
    "# # Loads Pandas dataframe\n",
    "# test_data = Dataset.load_from_df(df[[\"user\", \"item\", \"rating\"]], reader1)\n",
    "# # Loads the builtin Movielens-100k data\n",
    "# movielens_100k = Dataset.load_builtin('ml-100k')\n",
    "# # Load preprocessed data\n",
    "# data = Dataset.load_from_df(df_pre, reader2)"
   ]
  },
  {
   "cell_type": "code",
   "execution_count": 1,
   "metadata": {},
   "outputs": [
    {
     "name": "stdout",
     "output_type": "stream",
     "text": [
      "Evaluating RMSE, MAE of algorithm BaselineOnly on 5 split(s).\n",
      "\n",
      "                  Fold 1  Fold 2  Fold 3  Fold 4  Fold 5  Mean    Std     \n",
      "RMSE (testset)    0.8598  0.8605  0.8596  0.8597  0.8594  0.8598  0.0004  \n",
      "MAE (testset)     0.6563  0.6567  0.6561  0.6562  0.6559  0.6563  0.0003  \n",
      "Fit time          13.61   14.10   12.73   14.41   12.83   13.54   0.67    \n",
      "Test time         32.08   31.78   35.06   32.93   32.52   32.87   1.16    \n"
     ]
    },
    {
     "data": {
      "text/plain": [
       "{'test_rmse': array([0.85980001, 0.8604538 , 0.85962623, 0.85966432, 0.85943012]),\n",
       " 'test_mae': array([0.65625061, 0.65673368, 0.65611308, 0.6562477 , 0.65591931]),\n",
       " 'fit_time': (13.608110666275024,\n",
       "  14.100187301635742,\n",
       "  12.733914613723755,\n",
       "  14.410256147384644,\n",
       "  12.83238434791565),\n",
       " 'test_time': (32.07837247848511,\n",
       "  31.775968551635742,\n",
       "  35.05826759338379,\n",
       "  32.92880654335022,\n",
       "  32.518630266189575)}"
      ]
     },
     "execution_count": 1,
     "metadata": {},
     "output_type": "execute_result"
    }
   ],
   "source": [
    "import os\n",
    "\n",
    "from surprise import BaselineOnly, Dataset, Reader\n",
    "from surprise.model_selection import cross_validate\n",
    "\n",
    "# path to dataset file\n",
    "file_path = '../data/raw/ml-25m/ratings.csv'\n",
    "\n",
    "# As we're loading a custom dataset, we need to define a reader. In the movielens-25M dataset, each line has the following format:\n",
    "# 'user item rating timestamp', separated by ',' characters.\n",
    "# the rating scale differs from the default which is (1,5)\n",
    "# the first line of the csv-file holds the column labels and has to be skipped\n",
    "reader = Reader(line_format=\"user item rating timestamp\", sep=\",\", rating_scale=(0.5,5.0), skip_lines=1)\n",
    "\n",
    "data = Dataset.load_from_file(file_path, reader=reader)\n",
    "\n",
    "# We can now use this dataset as we please, e.g. calling cross_validate\n",
    "cross_validate(BaselineOnly(), data, n_jobs=-1, verbose=True)"
   ]
  }
 ],
 "metadata": {
  "kernelspec": {
   "display_name": "Python 3",
   "language": "python",
   "name": "python3"
  },
  "language_info": {
   "codemirror_mode": {
    "name": "ipython",
    "version": 3
   },
   "file_extension": ".py",
   "mimetype": "text/x-python",
   "name": "python",
   "nbconvert_exporter": "python",
   "pygments_lexer": "ipython3",
   "version": "3.12.1"
  }
 },
 "nbformat": 4,
 "nbformat_minor": 2
}
