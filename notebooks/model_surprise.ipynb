{
 "cells": [
  {
   "cell_type": "code",
   "execution_count": 22,
   "metadata": {},
   "outputs": [],
   "source": [
    "import random\n",
    "from surprise import Dataset, Reader\n",
    "from surprise.model_selection import train_test_split, cross_validate\n",
    "import pandas as pd\n",
    "import numpy as np\n",
    "import seaborn as sns\n",
    "import matplotlib.pyplot as plt\n",
    "import plotly.graph_objects as go \n",
    "from plotly.subplots import make_subplots"
   ]
  },
  {
   "cell_type": "code",
   "execution_count": 10,
   "metadata": {},
   "outputs": [],
   "source": [
    "\"\"\"Some algorithms randomly initialize their parameters (sometimes with numpy), and the cross-validation folds are also randomly generated. \n",
    "If you need to reproduce your experiments multiple times, you just have to set the seed of the RNG at the beginning of your program:\"\"\"\n",
    "\n",
    "my_seed = 42\n",
    "random.seed(my_seed)\n",
    "np.random.seed(my_seed)"
   ]
  },
  {
   "cell_type": "markdown",
   "metadata": {},
   "source": [
    "### Loading data and preparing data"
   ]
  },
  {
   "cell_type": "code",
   "execution_count": 2,
   "metadata": {},
   "outputs": [
    {
     "data": {
      "text/html": [
       "<div>\n",
       "<style scoped>\n",
       "    .dataframe tbody tr th:only-of-type {\n",
       "        vertical-align: middle;\n",
       "    }\n",
       "\n",
       "    .dataframe tbody tr th {\n",
       "        vertical-align: top;\n",
       "    }\n",
       "\n",
       "    .dataframe thead th {\n",
       "        text-align: right;\n",
       "    }\n",
       "</style>\n",
       "<table border=\"1\" class=\"dataframe\">\n",
       "  <thead>\n",
       "    <tr style=\"text-align: right;\">\n",
       "      <th></th>\n",
       "      <th>userId</th>\n",
       "      <th>movieId</th>\n",
       "      <th>rating</th>\n",
       "    </tr>\n",
       "  </thead>\n",
       "  <tbody>\n",
       "    <tr>\n",
       "      <th>0</th>\n",
       "      <td>74244</td>\n",
       "      <td>1</td>\n",
       "      <td>4.0</td>\n",
       "    </tr>\n",
       "    <tr>\n",
       "      <th>1</th>\n",
       "      <td>54322</td>\n",
       "      <td>1</td>\n",
       "      <td>4.0</td>\n",
       "    </tr>\n",
       "    <tr>\n",
       "      <th>2</th>\n",
       "      <td>106130</td>\n",
       "      <td>1</td>\n",
       "      <td>4.5</td>\n",
       "    </tr>\n",
       "    <tr>\n",
       "      <th>3</th>\n",
       "      <td>43484</td>\n",
       "      <td>1</td>\n",
       "      <td>3.5</td>\n",
       "    </tr>\n",
       "    <tr>\n",
       "      <th>4</th>\n",
       "      <td>16874</td>\n",
       "      <td>1</td>\n",
       "      <td>4.0</td>\n",
       "    </tr>\n",
       "  </tbody>\n",
       "</table>\n",
       "</div>"
      ],
      "text/plain": [
       "   userId  movieId  rating\n",
       "0   74244        1     4.0\n",
       "1   54322        1     4.0\n",
       "2  106130        1     4.5\n",
       "3   43484        1     3.5\n",
       "4   16874        1     4.0"
      ]
     },
     "execution_count": 2,
     "metadata": {},
     "output_type": "execute_result"
    }
   ],
   "source": [
    "# Write preprocessed date into a DataFrame\n",
    "df = pd.read_csv('../data/processed/preprocessed_data_movielens.csv')\n",
    "df.drop(columns=['title','genres','relevance','tag'], inplace=True)\n",
    "df = df[['userId', 'movieId', 'rating']]\n",
    "df.head()"
   ]
  },
  {
   "cell_type": "code",
   "execution_count": 3,
   "metadata": {},
   "outputs": [],
   "source": [
    "# Load the data into Surprise format, columns have been sorted in required order (raw user id, raw item id, rating) beforehand\n",
    "reader = Reader(rating_scale=(0.5, 5.0))\n",
    "data = Dataset.load_from_df(df, reader)"
   ]
  },
  {
   "cell_type": "code",
   "execution_count": 11,
   "metadata": {},
   "outputs": [],
   "source": [
    "# Split the data into training and test sets\n",
    "trainset, testset = train_test_split(data, test_size=0.2)"
   ]
  },
  {
   "cell_type": "markdown",
   "metadata": {},
   "source": [
    "### Defining options"
   ]
  },
  {
   "cell_type": "code",
   "execution_count": 12,
   "metadata": {},
   "outputs": [],
   "source": [
    "sim_options = {\n",
    "    'name': 'cosine',\n",
    "    'user_based': False  # Compute similarities between items\n",
    "}"
   ]
  },
  {
   "cell_type": "markdown",
   "metadata": {},
   "source": [
    "### Trying different models"
   ]
  },
  {
   "cell_type": "code",
   "execution_count": 13,
   "metadata": {},
   "outputs": [
    {
     "name": "stdout",
     "output_type": "stream",
     "text": [
      "Computing the cosine similarity matrix...\n",
      "Done computing similarity matrix.\n",
      "MAE:  0.7179\n",
      "MSE: 0.8918\n",
      "RMSE: 0.9443\n",
      "Mean Absolute Error (MAE): 0.7179\n",
      "Mean Square Error (MSE): 0.8918\n",
      "Root Mean Square Error (RMSE): 0.9443\n"
     ]
    }
   ],
   "source": [
    "from surprise import KNNBasic\n",
    "\n",
    "algo = KNNBasic(sim_options=sim_options)\n",
    "\n",
    "# Train the model\n",
    "algo.fit(trainset)\n",
    "\n",
    "# Generating Predictions\n",
    "predictions = algo.test(testset)\n",
    "\n",
    "# Calculating performance metrics\n",
    "from surprise import accuracy\n",
    "\n",
    "mae_knnb = accuracy.mae(predictions, verbose=True)\n",
    "mse_knnb = accuracy.mse(predictions, verbose=True)\n",
    "rmse_knnb = accuracy.rmse(predictions, verbose=True)\n",
    "\n",
    "print(f\"Mean Absolute Error (MAE): {mae_knnb:.4f}\")\n",
    "print(f\"Mean Square Error (MSE): {mse_knnb:.4f}\")\n",
    "print(f\"Root Mean Square Error (RMSE): {rmse_knnb:.4f}\")"
   ]
  },
  {
   "cell_type": "code",
   "execution_count": 14,
   "metadata": {},
   "outputs": [
    {
     "name": "stdout",
     "output_type": "stream",
     "text": [
      "Computing the cosine similarity matrix...\n",
      "Done computing similarity matrix.\n",
      "MAE:  0.6546\n",
      "MSE: 0.7441\n",
      "RMSE: 0.8626\n"
     ]
    }
   ],
   "source": [
    "from surprise import KNNWithMeans\n",
    "\n",
    "algo = KNNWithMeans(sim_options=sim_options)\n",
    "\n",
    "# Train the model\n",
    "algo.fit(trainset)\n",
    "\n",
    "# Generating Predictions\n",
    "predictions = algo.test(testset)\n",
    "\n",
    "# Calculating performance metrics\n",
    "from surprise import accuracy\n",
    "\n",
    "mae_knnm = accuracy.mae(predictions, verbose=True)\n",
    "mse_knnm = accuracy.mse(predictions, verbose=True)\n",
    "rmse_knnm = accuracy.rmse(predictions, verbose=True)\n",
    "\n",
    "# print(f\"Mean Absolute Error (MAE): {mae_knnm:.4f}\")\n",
    "# print(f\"Mean Square Error (MSE): {mse_knnm:.4f}\")\n",
    "# print(f\"Root Mean Square Error (RMSE): {rmse_knnm:.4f}\")"
   ]
  },
  {
   "cell_type": "code",
   "execution_count": 21,
   "metadata": {},
   "outputs": [
    {
     "name": "stdout",
     "output_type": "stream",
     "text": [
      "Estimating biases using als...\n",
      "Computing the cosine similarity matrix...\n",
      "Done computing similarity matrix.\n",
      "MAE:  0.6535\n",
      "MSE: 0.7424\n",
      "RMSE: 0.8616\n"
     ]
    }
   ],
   "source": [
    "from surprise import KNNBaseline\n",
    "\n",
    "algo = KNNBaseline(sim_options=sim_options)\n",
    "\n",
    "# Train the model\n",
    "algo.fit(trainset)\n",
    "\n",
    "# Generating Predictions\n",
    "predictions = algo.test(testset)\n",
    "\n",
    "# Calculating performance metrics\n",
    "from surprise import accuracy\n",
    "\n",
    "mae_knnbl = accuracy.mae(predictions, verbose=True)\n",
    "mse_knnbl = accuracy.mse(predictions, verbose=True)\n",
    "rmse_knnbl = accuracy.rmse(predictions, verbose=True)\n",
    "\n",
    "# print(f\"Mean Absolute Error (MAE): {mae_knnbl:.4f}\")\n",
    "# print(f\"Mean Square Error (MSE): {mse_knnbl:.4f}\")\n",
    "# print(f\"Root Mean Square Error (RMSE): {rmse_knnbl:.4f}\")"
   ]
  },
  {
   "cell_type": "code",
   "execution_count": 37,
   "metadata": {},
   "outputs": [
    {
     "name": "stdout",
     "output_type": "stream",
     "text": [
      "Computing the cosine similarity matrix...\n",
      "Done computing similarity matrix.\n",
      "MAE:  0.6540\n",
      "MSE: 0.7453\n",
      "RMSE: 0.8633\n"
     ]
    }
   ],
   "source": [
    "from surprise import KNNWithZScore\n",
    "\n",
    "algo = KNNWithZScore(sim_options=sim_options)\n",
    "\n",
    "# Train the model\n",
    "algo.fit(trainset)\n",
    "\n",
    "# Generating Predictions\n",
    "predictions = algo.test(testset)\n",
    "\n",
    "# Calculating performance metrics\n",
    "from surprise import accuracy\n",
    "\n",
    "mae_knnz = accuracy.mae(predictions, verbose=True)\n",
    "mse_knnz = accuracy.mse(predictions, verbose=True)\n",
    "rmse_knnz = accuracy.rmse(predictions, verbose=True)\n",
    "\n",
    "# print(f\"Mean Absolute Error (MAE): {mae_knnz:.4f}\")\n",
    "# print(f\"Mean Square Error (MSE): {mse_knnz:.4f}\")\n",
    "# print(f\"Root Mean Square Error (RMSE): {rmse_knnz:.4f}\")"
   ]
  },
  {
   "cell_type": "markdown",
   "metadata": {},
   "source": [
    "#### Template"
   ]
  },
  {
   "cell_type": "code",
   "execution_count": null,
   "metadata": {},
   "outputs": [],
   "source": [
    "from surprise import KNNWithMeans\n",
    "\n",
    "algo = KNNWithMeans(sim_options=sim_options)\n",
    "\n",
    "# Train the model\n",
    "algo.fit(trainset)\n",
    "\n",
    "# Generating Predictions\n",
    "predictions = algo.test(testset)\n",
    "\n",
    "# Calculating performance metrics\n",
    "from surprise import accuracy\n",
    "\n",
    "mae = accuracy.mae(predictions, verbose=True)\n",
    "mse = accuracy.mse(predictions, verbose=True)\n",
    "rmse = accuracy.rmse(predictions, verbose=True)\n",
    "\n",
    "print(f\"Mean Absolute Error (MAE): {mae:.4f}\")\n",
    "print(f\"Mean Square Error (MSE): {mse:.4f}\")\n",
    "print(f\"Root Mean Square Error (RMSE): {rmse:.4f}\")"
   ]
  },
  {
   "cell_type": "markdown",
   "metadata": {},
   "source": [
    "### Graphical interpretation of performance metrics"
   ]
  },
  {
   "cell_type": "markdown",
   "metadata": {},
   "source": [
    "#### with matplotlib"
   ]
  },
  {
   "cell_type": "code",
   "execution_count": 20,
   "metadata": {},
   "outputs": [
    {
     "data": {
      "text/plain": [
       "<BarContainer object of 3 artists>"
      ]
     },
     "execution_count": 20,
     "metadata": {},
     "output_type": "execute_result"
    },
    {
     "data": {
      "image/png": "[encoded data removed]",
      "text/plain": [
       "<Figure size 1200x600 with 1 Axes>"
      ]
     },
     "metadata": {},
     "output_type": "display_data"
    }
   ],
   "source": [
    "mae = [mae_knnb, mae_knnm] #, mae_knnbl, mae_knnz]\n",
    "mse = [mse_knnb, mse_knnm] #, mse_knnbl, mse_knnz]\n",
    "rmse = [rmse_knnb, rmse_knnm] #, rmse_knnbl, rmse_knnz]\n",
    "metrics = [mae, mse, rmse]\n",
    "fig = plt.figure(figsize=(12,6))\n",
    "\n",
    "plt.bar(['mae', 'mse', 'rmse'], [mae[0], mse[0], rmse[0]])\n",
    "plt.bar(['mae', 'mse', 'rmse'], [mae[1], mse[1], rmse[1]])"
   ]
  },
  {
   "cell_type": "markdown",
   "metadata": {},
   "source": [
    "#### with plotly"
   ]
  },
  {
   "cell_type": "code",
   "execution_count": 43,
   "metadata": {},
   "outputs": [
    {
     "data": {
      "application/vnd.plotly.v1+json": {
       "config": {
        "plotlyServerURL": "https://plot.ly"
       },
       "data": [
        {
         "marker": {
          "color": "lightgreen"
         },
         "name": "knn basic",
         "orientation": "v",
         "type": "bar",
         "x": [
          "mae",
          "mse",
          "rmse"
         ],
         "y": [
          0.7178972076508022,
          0.8917591738490382,
          0.944330013209915
         ]
        },
        {
         "marker": {
          "color": "mediumturquoise"
         },
         "name": "knn with means",
         "orientation": "v",
         "type": "bar",
         "x": [
          "mae",
          "mse",
          "rmse"
         ],
         "y": [
          0.6545594835649655,
          0.7441406435483026,
          0.862635869616087
         ]
        },
        {
         "name": "knn baseline",
         "orientation": "v",
         "type": "bar",
         "x": [
          "mae",
          "mse",
          "rmse"
         ],
         "y": [
          0.6534589266585881,
          0.7423793473051965,
          0.8616143843420887
         ]
        },
        {
         "name": "knn with z-score",
         "orientation": "v",
         "type": "bar",
         "x": [
          "mae",
          "mse",
          "rmse"
         ],
         "y": [
          0.653977970691303,
          0.7453112634842691,
          0.863314116347155
         ]
        }
       ],
       "layout": {
        "autosize": false,
        "height": 400,
        "template": {
         "data": {
          "bar": [
           {
            "error_x": {
             "color": "#2a3f5f"
            },
            "error_y": {
             "color": "#2a3f5f"
            },
            "marker": {
             "line": {
              "color": "#E5ECF6",
              "width": 0.5
             },
             "pattern": {
              "fillmode": "overlay",
              "size": 10,
              "solidity": 0.2
             }
            },
            "type": "bar"
           }
          ],
          "barpolar": [
           {
            "marker": {
             "line": {
              "color": "#E5ECF6",
              "width": 0.5
             },
             "pattern": {
              "fillmode": "overlay",
              "size": 10,
              "solidity": 0.2
             }
            },
            "type": "barpolar"
           }
          ],
          "carpet": [
           {
            "aaxis": {
             "endlinecolor": "#2a3f5f",
             "gridcolor": "white",
             "linecolor": "white",
             "minorgridcolor": "white",
             "startlinecolor": "#2a3f5f"
            },
            "baxis": {
             "endlinecolor": "#2a3f5f",
             "gridcolor": "white",
             "linecolor": "white",
             "minorgridcolor": "white",
             "startlinecolor": "#2a3f5f"
            },
            "type": "carpet"
           }
          ],
          "choropleth": [
           {
            "colorbar": {
             "outlinewidth": 0,
             "ticks": ""
            },
            "type": "choropleth"
           }
          ],
          "contour": [
           {
            "colorbar": {
             "outlinewidth": 0,
             "ticks": ""
            },
            "colorscale": [
             [
              0,
              "#0d0887"
             ],
             [
              0.1111111111111111,
              "#46039f"
             ],
             [
              0.2222222222222222,
              "#7201a8"
             ],
             [
              0.3333333333333333,
              "#9c179e"
             ],
             [
              0.4444444444444444,
              "#bd3786"
             ],
             [
              0.5555555555555556,
              "#d8576b"
             ],
             [
              0.6666666666666666,
              "#ed7953"
             ],
             [
              0.7777777777777778,
              "#fb9f3a"
             ],
             [
              0.8888888888888888,
              "#fdca26"
             ],
             [
              1,
              "#f0f921"
             ]
            ],
            "type": "contour"
           }
          ],
          "contourcarpet": [
           {
            "colorbar": {
             "outlinewidth": 0,
             "ticks": ""
            },
            "type": "contourcarpet"
           }
          ],
          "heatmap": [
           {
            "colorbar": {
             "outlinewidth": 0,
             "ticks": ""
            },
            "colorscale": [
             [
              0,
              "#0d0887"
             ],
             [
              0.1111111111111111,
              "#46039f"
             ],
             [
              0.2222222222222222,
              "#7201a8"
             ],
             [
              0.3333333333333333,
              "#9c179e"
             ],
             [
              0.4444444444444444,
              "#bd3786"
             ],
             [
              0.5555555555555556,
              "#d8576b"
             ],
             [
              0.6666666666666666,
              "#ed7953"
             ],
             [
              0.7777777777777778,
              "#fb9f3a"
             ],
             [
              0.8888888888888888,
              "#fdca26"
             ],
             [
              1,
              "#f0f921"
             ]
            ],
            "type": "heatmap"
           }
          ],
          "heatmapgl": [
           {
            "colorbar": {
             "outlinewidth": 0,
             "ticks": ""
            },
            "colorscale": [
             [
              0,
              "#0d0887"
             ],
             [
              0.1111111111111111,
              "#46039f"
             ],
             [
              0.2222222222222222,
              "#7201a8"
             ],
             [
              0.3333333333333333,
              "#9c179e"
             ],
             [
              0.4444444444444444,
              "#bd3786"
             ],
             [
              0.5555555555555556,
              "#d8576b"
             ],
             [
              0.6666666666666666,
              "#ed7953"
             ],
             [
              0.7777777777777778,
              "#fb9f3a"
             ],
             [
              0.8888888888888888,
              "#fdca26"
             ],
             [
              1,
              "#f0f921"
             ]
            ],
            "type": "heatmapgl"
           }
          ],
          "histogram": [
           {
            "marker": {
             "pattern": {
              "fillmode": "overlay",
              "size": 10,
              "solidity": 0.2
             }
            },
            "type": "histogram"
           }
          ],
          "histogram2d": [
           {
            "colorbar": {
             "outlinewidth": 0,
             "ticks": ""
            },
            "colorscale": [
             [
              0,
              "#0d0887"
             ],
             [
              0.1111111111111111,
              "#46039f"
             ],
             [
              0.2222222222222222,
              "#7201a8"
             ],
             [
              0.3333333333333333,
              "#9c179e"
             ],
             [
              0.4444444444444444,
              "#bd3786"
             ],
             [
              0.5555555555555556,
              "#d8576b"
             ],
             [
              0.6666666666666666,
              "#ed7953"
             ],
             [
              0.7777777777777778,
              "#fb9f3a"
             ],
             [
              0.8888888888888888,
              "#fdca26"
             ],
             [
              1,
              "#f0f921"
             ]
            ],
            "type": "histogram2d"
           }
          ],
          "histogram2dcontour": [
           {
            "colorbar": {
             "outlinewidth": 0,
             "ticks": ""
            },
            "colorscale": [
             [
              0,
              "#0d0887"
             ],
             [
              0.1111111111111111,
              "#46039f"
             ],
             [
              0.2222222222222222,
              "#7201a8"
             ],
             [
              0.3333333333333333,
              "#9c179e"
             ],
             [
              0.4444444444444444,
              "#bd3786"
             ],
             [
              0.5555555555555556,
              "#d8576b"
             ],
             [
              0.6666666666666666,
              "#ed7953"
             ],
             [
              0.7777777777777778,
              "#fb9f3a"
             ],
             [
              0.8888888888888888,
              "#fdca26"
             ],
             [
              1,
              "#f0f921"
             ]
            ],
            "type": "histogram2dcontour"
           }
          ],
          "mesh3d": [
           {
            "colorbar": {
             "outlinewidth": 0,
             "ticks": ""
            },
            "type": "mesh3d"
           }
          ],
          "parcoords": [
           {
            "line": {
             "colorbar": {
              "outlinewidth": 0,
              "ticks": ""
             }
            },
            "type": "parcoords"
           }
          ],
          "pie": [
           {
            "automargin": true,
            "type": "pie"
           }
          ],
          "scatter": [
           {
            "fillpattern": {
             "fillmode": "overlay",
             "size": 10,
             "solidity": 0.2
            },
            "type": "scatter"
           }
          ],
          "scatter3d": [
           {
            "line": {
             "colorbar": {
              "outlinewidth": 0,
              "ticks": ""
             }
            },
            "marker": {
             "colorbar": {
              "outlinewidth": 0,
              "ticks": ""
             }
            },
            "type": "scatter3d"
           }
          ],
          "scattercarpet": [
           {
            "marker": {
             "colorbar": {
              "outlinewidth": 0,
              "ticks": ""
             }
            },
            "type": "scattercarpet"
           }
          ],
          "scattergeo": [
           {
            "marker": {
             "colorbar": {
              "outlinewidth": 0,
              "ticks": ""
             }
            },
            "type": "scattergeo"
           }
          ],
          "scattergl": [
           {
            "marker": {
             "colorbar": {
              "outlinewidth": 0,
              "ticks": ""
             }
            },
            "type": "scattergl"
           }
          ],
          "scattermapbox": [
           {
            "marker": {
             "colorbar": {
              "outlinewidth": 0,
              "ticks": ""
             }
            },
            "type": "scattermapbox"
           }
          ],
          "scatterpolar": [
           {
            "marker": {
             "colorbar": {
              "outlinewidth": 0,
              "ticks": ""
             }
            },
            "type": "scatterpolar"
           }
          ],
          "scatterpolargl": [
           {
            "marker": {
             "colorbar": {
              "outlinewidth": 0,
              "ticks": ""
             }
            },
            "type": "scatterpolargl"
           }
          ],
          "scatterternary": [
           {
            "marker": {
             "colorbar": {
              "outlinewidth": 0,
              "ticks": ""
             }
            },
            "type": "scatterternary"
           }
          ],
          "surface": [
           {
            "colorbar": {
             "outlinewidth": 0,
             "ticks": ""
            },
            "colorscale": [
             [
              0,
              "#0d0887"
             ],
             [
              0.1111111111111111,
              "#46039f"
             ],
             [
              0.2222222222222222,
              "#7201a8"
             ],
             [
              0.3333333333333333,
              "#9c179e"
             ],
             [
              0.4444444444444444,
              "#bd3786"
             ],
             [
              0.5555555555555556,
              "#d8576b"
             ],
             [
              0.6666666666666666,
              "#ed7953"
             ],
             [
              0.7777777777777778,
              "#fb9f3a"
             ],
             [
              0.8888888888888888,
              "#fdca26"
             ],
             [
              1,
              "#f0f921"
             ]
            ],
            "type": "surface"
           }
          ],
          "table": [
           {
            "cells": {
             "fill": {
              "color": "#EBF0F8"
             },
             "line": {
              "color": "white"
             }
            },
            "header": {
             "fill": {
              "color": "#C8D4E3"
             },
             "line": {
              "color": "white"
             }
            },
            "type": "table"
           }
          ]
         },
         "layout": {
          "annotationdefaults": {
           "arrowcolor": "#2a3f5f",
           "arrowhead": 0,
           "arrowwidth": 1
          },
          "autotypenumbers": "strict",
          "coloraxis": {
           "colorbar": {
            "outlinewidth": 0,
            "ticks": ""
           }
          },
          "colorscale": {
           "diverging": [
            [
             0,
             "#8e0152"
            ],
            [
             0.1,
             "#c51b7d"
            ],
            [
             0.2,
             "#de77ae"
            ],
            [
             0.3,
             "#f1b6da"
            ],
            [
             0.4,
             "#fde0ef"
            ],
            [
             0.5,
             "#f7f7f7"
            ],
            [
             0.6,
             "#e6f5d0"
            ],
            [
             0.7,
             "#b8e186"
            ],
            [
             0.8,
             "#7fbc41"
            ],
            [
             0.9,
             "#4d9221"
            ],
            [
             1,
             "#276419"
            ]
           ],
           "sequential": [
            [
             0,
             "#0d0887"
            ],
            [
             0.1111111111111111,
             "#46039f"
            ],
            [
             0.2222222222222222,
             "#7201a8"
            ],
            [
             0.3333333333333333,
             "#9c179e"
            ],
            [
             0.4444444444444444,
             "#bd3786"
            ],
            [
             0.5555555555555556,
             "#d8576b"
            ],
            [
             0.6666666666666666,
             "#ed7953"
            ],
            [
             0.7777777777777778,
             "#fb9f3a"
            ],
            [
             0.8888888888888888,
             "#fdca26"
            ],
            [
             1,
             "#f0f921"
            ]
           ],
           "sequentialminus": [
            [
             0,
             "#0d0887"
            ],
            [
             0.1111111111111111,
             "#46039f"
            ],
            [
             0.2222222222222222,
             "#7201a8"
            ],
            [
             0.3333333333333333,
             "#9c179e"
            ],
            [
             0.4444444444444444,
             "#bd3786"
            ],
            [
             0.5555555555555556,
             "#d8576b"
            ],
            [
             0.6666666666666666,
             "#ed7953"
            ],
            [
             0.7777777777777778,
             "#fb9f3a"
            ],
            [
             0.8888888888888888,
             "#fdca26"
            ],
            [
             1,
             "#f0f921"
            ]
           ]
          },
          "colorway": [
           "#636efa",
           "#EF553B",
           "#00cc96",
           "#ab63fa",
           "#FFA15A",
           "#19d3f3",
           "#FF6692",
           "#B6E880",
           "#FF97FF",
           "#FECB52"
          ],
          "font": {
           "color": "#2a3f5f"
          },
          "geo": {
           "bgcolor": "white",
           "lakecolor": "white",
           "landcolor": "#E5ECF6",
           "showlakes": true,
           "showland": true,
           "subunitcolor": "white"
          },
          "hoverlabel": {
           "align": "left"
          },
          "hovermode": "closest",
          "mapbox": {
           "style": "light"
          },
          "paper_bgcolor": "white",
          "plot_bgcolor": "#E5ECF6",
          "polar": {
           "angularaxis": {
            "gridcolor": "white",
            "linecolor": "white",
            "ticks": ""
           },
           "bgcolor": "#E5ECF6",
           "radialaxis": {
            "gridcolor": "white",
            "linecolor": "white",
            "ticks": ""
           }
          },
          "scene": {
           "xaxis": {
            "backgroundcolor": "#E5ECF6",
            "gridcolor": "white",
            "gridwidth": 2,
            "linecolor": "white",
            "showbackground": true,
            "ticks": "",
            "zerolinecolor": "white"
           },
           "yaxis": {
            "backgroundcolor": "#E5ECF6",
            "gridcolor": "white",
            "gridwidth": 2,
            "linecolor": "white",
            "showbackground": true,
            "ticks": "",
            "zerolinecolor": "white"
           },
           "zaxis": {
            "backgroundcolor": "#E5ECF6",
            "gridcolor": "white",
            "gridwidth": 2,
            "linecolor": "white",
            "showbackground": true,
            "ticks": "",
            "zerolinecolor": "white"
           }
          },
          "shapedefaults": {
           "line": {
            "color": "#2a3f5f"
           }
          },
          "ternary": {
           "aaxis": {
            "gridcolor": "white",
            "linecolor": "white",
            "ticks": ""
           },
           "baxis": {
            "gridcolor": "white",
            "linecolor": "white",
            "ticks": ""
           },
           "bgcolor": "#E5ECF6",
           "caxis": {
            "gridcolor": "white",
            "linecolor": "white",
            "ticks": ""
           }
          },
          "title": {
           "x": 0.05
          },
          "xaxis": {
           "automargin": true,
           "gridcolor": "white",
           "linecolor": "white",
           "ticks": "",
           "title": {
            "standoff": 15
           },
           "zerolinecolor": "white",
           "zerolinewidth": 2
          },
          "yaxis": {
           "automargin": true,
           "gridcolor": "white",
           "linecolor": "white",
           "ticks": "",
           "title": {
            "standoff": 15
           },
           "zerolinecolor": "white",
           "zerolinewidth": 2
          }
         }
        },
        "title": {
         "text": "Performance metrics for knn-models",
         "x": 0.5
        },
        "width": 800,
        "xaxis": {
         "title": {
          "text": "Metric"
         }
        }
       }
      }
     },
     "metadata": {},
     "output_type": "display_data"
    }
   ],
   "source": [
    "metrics_knnb = [mae_knnb, mse_knnb, rmse_knnb]\n",
    "metrics_knnm = [mae_knnm, mse_knnm, rmse_knnm]\n",
    "metrics_knnbl = [mae_knnbl, mse_knnbl, rmse_knnbl]\n",
    "metrics_knnz = [mae_knnz, mse_knnz, rmse_knnz]\n",
    "\n",
    "fig = go.Figure()\n",
    "\n",
    "fig.add_trace(go.Bar(x = ['mae', 'mse', 'rmse'], y = metrics_knnb, name = 'knn basic', marker_color = 'lightgreen', orientation='v'))\n",
    "fig.add_trace(go.Bar(x = ['mae', 'mse', 'rmse'], y = metrics_knnm, name = 'knn with means', marker_color = 'mediumturquoise', orientation='v')) \n",
    "fig.add_trace(go.Bar(x = ['mae', 'mse', 'rmse'], y = metrics_knnbl, name = 'knn baseline', orientation='v')) \n",
    "fig.add_trace(go.Bar(x = ['mae', 'mse', 'rmse'], y = metrics_knnz, name = 'knn with z-score', orientation='v')) \n",
    "\n",
    "fig.update_layout(title = 'Performance metrics for knn-models', title_x = 0.5, xaxis_title = 'Metric') # Title and axis titles\n",
    "fig.update_layout(autosize=False, width=800, height=400) # Figure size\n",
    "#fig.update_yaxes(range = [0.6,1])\n",
    "fig.show()"
   ]
  },
  {
   "cell_type": "markdown",
   "metadata": {},
   "source": [
    "### Comparison with whole dataset?"
   ]
  },
  {
   "cell_type": "code",
   "execution_count": 1,
   "metadata": {},
   "outputs": [
    {
     "name": "stdout",
     "output_type": "stream",
     "text": [
      "Evaluating RMSE, MAE of algorithm BaselineOnly on 5 split(s).\n",
      "\n",
      "                  Fold 1  Fold 2  Fold 3  Fold 4  Fold 5  Mean    Std     \n",
      "RMSE (testset)    0.8598  0.8605  0.8596  0.8597  0.8594  0.8598  0.0004  \n",
      "MAE (testset)     0.6563  0.6567  0.6561  0.6562  0.6559  0.6563  0.0003  \n",
      "Fit time          13.61   14.10   12.73   14.41   12.83   13.54   0.67    \n",
      "Test time         32.08   31.78   35.06   32.93   32.52   32.87   1.16    \n"
     ]
    },
    {
     "data": {
      "text/plain": [
       "{'test_rmse': array([0.85980001, 0.8604538 , 0.85962623, 0.85966432, 0.85943012]),\n",
       " 'test_mae': array([0.65625061, 0.65673368, 0.65611308, 0.6562477 , 0.65591931]),\n",
       " 'fit_time': (13.608110666275024,\n",
       "  14.100187301635742,\n",
       "  12.733914613723755,\n",
       "  14.410256147384644,\n",
       "  12.83238434791565),\n",
       " 'test_time': (32.07837247848511,\n",
       "  31.775968551635742,\n",
       "  35.05826759338379,\n",
       "  32.92880654335022,\n",
       "  32.518630266189575)}"
      ]
     },
     "execution_count": 1,
     "metadata": {},
     "output_type": "execute_result"
    }
   ],
   "source": [
    "# import os\n",
    "\n",
    "# from surprise import BaselineOnly, Dataset, Reader\n",
    "# from surprise.model_selection import cross_validate\n",
    "\n",
    "# # path to dataset file\n",
    "# file_path = '../data/raw/ml-25m/ratings.csv'\n",
    "\n",
    "# # As we're loading a custom dataset, we need to define a reader. In the movielens-25M dataset, each line has the following format:\n",
    "# # 'user item rating timestamp', separated by ',' characters.\n",
    "# # the rating scale differs from the default which is (1,5)\n",
    "# # the first line of the csv-file holds the column labels and has to be skipped\n",
    "# reader = Reader(line_format=\"user item rating timestamp\", sep=\",\", rating_scale=(0.5,5.0), skip_lines=1)\n",
    "\n",
    "# data_raw = Dataset.load_from_file(file_path, reader=reader)\n",
    "\n",
    "# # We can now use this dataset as we please, e.g. calling cross_validate\n",
    "# cross_validate(BaselineOnly(), data_raw, verbose=True)"
   ]
  },
  {
   "cell_type": "markdown",
   "metadata": {},
   "source": [
    "### Example general process"
   ]
  },
  {
   "cell_type": "code",
   "execution_count": 15,
   "metadata": {},
   "outputs": [
    {
     "name": "stdout",
     "output_type": "stream",
     "text": [
      "Computing the cosine similarity matrix...\n",
      "Done computing similarity matrix.\n",
      "MAE:  0.6560\n",
      "Mean Absolute Error (MAE): 0.6559659619299026\n"
     ]
    }
   ],
   "source": [
    "# Step 1: Data Preparation\n",
    "from surprise import Dataset, Reader\n",
    "from surprise.model_selection import train_test_split\n",
    "\n",
    "# Load the data into Surprise format, sort columns in order raw user id, raw item id, rating\n",
    "# reader = Reader(rating_scale=(0.5, 5.0))\n",
    "# data = Dataset.load_from_df(df[['userId', 'movieId', 'rating']], reader)\n",
    "\n",
    "# Split the data into training and test sets\n",
    "trainset, testset = train_test_split(data, test_size=0.25)\n",
    "\n",
    "# Step 2: Training the Model\n",
    "from surprise import KNNWithMeans\n",
    "\n",
    "# Using KNN with means for item-based collaborative filtering\n",
    "sim_options = {\n",
    "    'name': 'cosine',\n",
    "    'user_based': False  # Compute similarities between items\n",
    "}\n",
    "\n",
    "algo = KNNWithMeans(sim_options=sim_options)\n",
    "\n",
    "# Train the model\n",
    "algo.fit(trainset)\n",
    "\n",
    "# Step 3: Generating Predictions\n",
    "predictions = algo.test(testset)\n",
    "\n",
    "# Step 4: Calculating MAE\n",
    "from surprise import accuracy\n",
    "\n",
    "# Calculate MAE\n",
    "mae = accuracy.mae(predictions, verbose=True)\n",
    "mse = accuracy.mse(predictions, verbose=True)\n",
    "rmse = accuracy.rmse(predictions, verbose=True)\n",
    "#fcp = accuracy.fcp(predictions, verbose=True)\n",
    "print(f\"Mean Absolute Error (MAE): {mae:.4f}\")\n",
    "print(f\"Mean Square Error (MSE): {mse:.4f}\")\n",
    "print(f\"Root Mean Square Error (RMSE): {rmse:.4f}\")\n",
    "#print(f\"Fraction of Concordant Pairs (FCP): {fcp:.4f}\")"
   ]
  },
  {
   "cell_type": "markdown",
   "metadata": {},
   "source": [
    "### Cross-validation"
   ]
  },
  {
   "cell_type": "code",
   "execution_count": 25,
   "metadata": {},
   "outputs": [
    {
     "name": "stdout",
     "output_type": "stream",
     "text": [
      "Computing the cosine similarity matrix...\n",
      "Done computing similarity matrix.\n",
      "Computing the cosine similarity matrix...\n",
      "Done computing similarity matrix.\n",
      "Computing the cosine similarity matrix...\n",
      "Done computing similarity matrix.\n",
      "Computing the cosine similarity matrix...\n",
      "Done computing similarity matrix.\n",
      "Computing the cosine similarity matrix...\n",
      "Done computing similarity matrix.\n",
      "Evaluating RMSE, MAE of algorithm KNNWithMeans on 5 split(s).\n",
      "\n",
      "                  Fold 1  Fold 2  Fold 3  Fold 4  Fold 5  Mean    Std     \n",
      "RMSE (testset)    0.8612  0.8619  0.8621  0.8635  0.8636  0.8624  0.0009  \n",
      "MAE (testset)     0.6531  0.6541  0.6539  0.6550  0.6549  0.6542  0.0007  \n",
      "Fit time          59.80   62.52   60.56   61.86   62.21   61.39   1.04    \n",
      "Test time         114.31  111.47  112.56  116.20  116.51  114.21  1.97    \n",
      "{'test_rmse': array([0.86116486, 0.86190431, 0.86207547, 0.86353446, 0.86355266]), 'test_mae': array([0.65311526, 0.65409545, 0.65392462, 0.65502981, 0.65485074]), 'fit_time': (59.804460287094116, 62.52206349372864, 60.56190299987793, 61.856820821762085, 62.207032203674316), 'test_time': (114.31254196166992, 111.47289991378784, 112.56114101409912, 116.20355749130249, 116.5123279094696)}\n"
     ]
    }
   ],
   "source": [
    "# We can now use this dataset as we please, e.g. calling cross_validate\n",
    "print(cross_validate(KNNWithMeans(sim_options=sim_options), data, verbose=True))"
   ]
  },
  {
   "cell_type": "code",
   "execution_count": 27,
   "metadata": {},
   "outputs": [
    {
     "name": "stdout",
     "output_type": "stream",
     "text": [
      "Computing the cosine similarity matrix...\n",
      "Done computing similarity matrix.\n",
      "Computing the cosine similarity matrix...\n",
      "Done computing similarity matrix.\n",
      "Computing the cosine similarity matrix...\n",
      "Done computing similarity matrix.\n",
      "Computing the cosine similarity matrix...\n",
      "Done computing similarity matrix.\n",
      "Computing the cosine similarity matrix...\n",
      "Done computing similarity matrix.\n",
      "Evaluating RMSE, MAE of algorithm KNNBasic on 5 split(s).\n",
      "\n",
      "                  Fold 1  Fold 2  Fold 3  Fold 4  Fold 5  Mean    Std     \n",
      "RMSE (testset)    0.9446  0.9451  0.9446  0.9457  0.9440  0.9448  0.0006  \n",
      "MAE (testset)     0.7178  0.7181  0.7178  0.7184  0.7173  0.7179  0.0004  \n",
      "Fit time          60.15   60.94   60.86   60.74   60.35   60.61   0.31    \n",
      "Test time         107.58  108.92  106.22  107.40  108.25  107.67  0.90    \n",
      "{'test_rmse': array([0.94460723, 0.94506173, 0.94460162, 0.94567242, 0.94396863]), 'test_mae': array([0.71784157, 0.71808259, 0.71782377, 0.71841161, 0.71730852]), 'fit_time': (60.14763832092285, 60.93690800666809, 60.85549235343933, 60.74435353279114, 60.34861755371094), 'test_time': (107.58052968978882, 108.92042255401611, 106.21549558639526, 107.40167117118835, 108.24549341201782)}\n"
     ]
    }
   ],
   "source": [
    "# We can now use this dataset as we please, e.g. calling cross_validate\n",
    "sim_options = {\n",
    "    'name': 'cosine',\n",
    "    'user_based': False  # Compute similarities between items\n",
    "}\n",
    "cv_knnb = cross_validate(KNNBasic(sim_options=sim_options), data, verbose=True)\n",
    "print(cv_knnb)"
   ]
  },
  {
   "cell_type": "code",
   "execution_count": 38,
   "metadata": {},
   "outputs": [
    {
     "name": "stdout",
     "output_type": "stream",
     "text": [
      "Element 0 of dict: 0.9446072271341195\n",
      "RSME mean: 0.9447823243994385\n"
     ]
    }
   ],
   "source": [
    "print('Element 0 of dict:', cv_knnb['test_rmse'][0])\n",
    "print('RSME mean:', cv_knnb['test_rmse'].mean())"
   ]
  },
  {
   "cell_type": "code",
   "execution_count": 24,
   "metadata": {},
   "outputs": [
    {
     "name": "stdout",
     "output_type": "stream",
     "text": [
      "Estimating biases using als...\n",
      "Estimating biases using als...\n",
      "Estimating biases using als...\n",
      "Estimating biases using als...\n",
      "Estimating biases using als...\n",
      "Evaluating RMSE, MAE of algorithm BaselineOnly on 5 split(s).\n",
      "\n",
      "                  Fold 1  Fold 2  Fold 3  Fold 4  Fold 5  Mean    Std     \n",
      "RMSE (testset)    0.8711  0.8717  0.8722  0.8735  0.8722  0.8722  0.0008  \n",
      "MAE (testset)     0.6680  0.6678  0.6683  0.6695  0.6685  0.6684  0.0006  \n",
      "Fit time          13.80   14.68   14.82   15.27   14.72   14.66   0.48    \n",
      "Test time         8.49    5.71    7.94    7.95    7.91    7.60    0.97    \n"
     ]
    },
    {
     "data": {
      "text/plain": [
       "{'test_rmse': array([0.87109061, 0.87174423, 0.87221979, 0.87353911, 0.87220833]),\n",
       " 'test_mae': array([0.667955  , 0.66778051, 0.66834774, 0.66954866, 0.66851245]),\n",
       " 'fit_time': (13.79632043838501,\n",
       "  14.67921757698059,\n",
       "  14.823809146881104,\n",
       "  15.265122652053833,\n",
       "  14.715065717697144),\n",
       " 'test_time': (8.492265939712524,\n",
       "  5.707574367523193,\n",
       "  7.942520618438721,\n",
       "  7.946498394012451,\n",
       "  7.908499240875244)}"
      ]
     },
     "execution_count": 24,
     "metadata": {},
     "output_type": "execute_result"
    }
   ],
   "source": [
    "# We can now use this dataset as we please, e.g. calling cross_validate\n",
    "cross_validate(BaselineOnly(), data, verbose=True)"
   ]
  },
  {
   "cell_type": "markdown",
   "metadata": {},
   "source": [
    "### Train on a whole trainset and the predict() method"
   ]
  },
  {
   "cell_type": "code",
   "execution_count": 19,
   "metadata": {},
   "outputs": [
    {
     "name": "stdout",
     "output_type": "stream",
     "text": [
      "Computing the cosine similarity matrix...\n",
      "Done computing similarity matrix.\n",
      "user: 74244      item: 1          r_ui = 4.00   est = 3.47   {'was_impossible': True, 'reason': 'User and/or item is unknown.'}\n"
     ]
    }
   ],
   "source": [
    "from surprise import KNNBasic\n",
    "\n",
    "# Retrieve the trainset.\n",
    "trainset_full = data.build_full_trainset()\n",
    "\n",
    "# Build an algorithm, and train it.\n",
    "sim_options_full = {\n",
    "    'name': 'cosine',\n",
    "    'user_based': False  # Compute similarities between items\n",
    "}\n",
    "algo_full = KNNBasic(sim_options=sim_options_full)\n",
    "algo_full.fit(trainset_full)\n",
    "\n",
    "uid = str(74244)  # raw user id (as in the ratings file). They are **strings**!\n",
    "iid = str(1)  # raw item id (as in the ratings file). They are **strings**!\n",
    "\n",
    "# get a prediction for specific users and items. r_ui represents the true, known rating.\n",
    "pred = algo_full.predict(uid, iid, r_ui=4, verbose=True)\n",
    "\n",
    "# Note: The predict() uses raw ids. As the dataset we have used has been read from a file, the raw ids are strings (even if they represent numbers)."
   ]
  },
  {
   "cell_type": "code",
   "execution_count": 21,
   "metadata": {},
   "outputs": [
    {
     "name": "stdout",
     "output_type": "stream",
     "text": [
      "user: 124114     item: 542        r_ui = 4.00   est = 3.47   {'was_impossible': True, 'reason': 'User and/or item is unknown.'}\n"
     ]
    }
   ],
   "source": [
    "uid = str(124114)  # raw user id (as in the ratings file). They are **strings**!\n",
    "iid = str(542)  # raw item id (as in the ratings file). They are **strings**!\n",
    "\n",
    "# get a prediction for specific users and items. r_ui represents the true, known rating.\n",
    "pred = algo_full.predict(uid, iid, r_ui=4, verbose=True)"
   ]
  },
  {
   "cell_type": "code",
   "execution_count": 17,
   "metadata": {},
   "outputs": [
    {
     "data": {
      "text/plain": [
       "[Prediction(uid=26746, iid=70286, r_ui=4.0, est=3.3372547969244026, details={'actual_k': 9, 'was_impossible': False}),\n",
       " Prediction(uid=124114, iid=542, r_ui=2.0, est=2.869563721033683, details={'actual_k': 29, 'was_impossible': False}),\n",
       " Prediction(uid=141598, iid=69844, r_ui=4.0, est=3.9901629366236504, details={'actual_k': 40, 'was_impossible': False}),\n",
       " Prediction(uid=149555, iid=88, r_ui=3.0, est=3.406322234316517, details={'actual_k': 23, 'was_impossible': False}),\n",
       " Prediction(uid=107294, iid=319, r_ui=5.0, est=4.070038909860552, details={'actual_k': 12, 'was_impossible': False}),\n",
       " Prediction(uid=109995, iid=477, r_ui=4.0, est=3.865748086923187, details={'actual_k': 13, 'was_impossible': False}),\n",
       " Prediction(uid=145419, iid=3507, r_ui=4.0, est=4.636028992555722, details={'actual_k': 21, 'was_impossible': False}),\n",
       " Prediction(uid=97401, iid=164, r_ui=2.0, est=4.203599499898937, details={'actual_k': 40, 'was_impossible': False}),\n",
       " Prediction(uid=109885, iid=2403, r_ui=4.0, est=3.334029048614288, details={'actual_k': 22, 'was_impossible': False}),\n",
       " Prediction(uid=97076, iid=65682, r_ui=4.0, est=3.399773305479319, details={'actual_k': 40, 'was_impossible': False}),\n",
       " Prediction(uid=5114, iid=72737, r_ui=2.0, est=2.9391581392047565, details={'actual_k': 40, 'was_impossible': False}),\n",
       " Prediction(uid=35930, iid=49278, r_ui=4.5, est=4.216813842224378, details={'actual_k': 40, 'was_impossible': False}),\n",
       " Prediction(uid=68646, iid=3703, r_ui=4.0, est=3.3200661491847816, details={'actual_k': 40, 'was_impossible': False}),\n",
       " Prediction(uid=39525, iid=905, r_ui=4.0, est=3.6884244988020414, details={'actual_k': 40, 'was_impossible': False}),\n",
       " Prediction(uid=113784, iid=5971, r_ui=4.5, est=4.491291433292083, details={'actual_k': 40, 'was_impossible': False}),\n",
       " Prediction(uid=73353, iid=39446, r_ui=3.0, est=2.838656001506591, details={'actual_k': 40, 'was_impossible': False}),\n",
       " Prediction(uid=30594, iid=2827, r_ui=4.5, est=2.6605668364135333, details={'actual_k': 40, 'was_impossible': False}),\n",
       " Prediction(uid=121201, iid=4881, r_ui=4.0, est=4.190844116302235, details={'actual_k': 24, 'was_impossible': False}),\n",
       " Prediction(uid=89754, iid=2333, r_ui=4.0, est=3.813470089685472, details={'actual_k': 40, 'was_impossible': False}),\n",
       " Prediction(uid=114666, iid=1591, r_ui=3.0, est=2.392841942582522, details={'actual_k': 40, 'was_impossible': False}),\n",
       " Prediction(uid=126970, iid=4681, r_ui=4.0, est=2.9398042868598973, details={'actual_k': 40, 'was_impossible': False}),\n",
       " Prediction(uid=12223, iid=93838, r_ui=4.0, est=3.568961836882359, details={'actual_k': 40, 'was_impossible': False}),\n",
       " Prediction(uid=18631, iid=3107, r_ui=3.0, est=3.777792813404976, details={'actual_k': 18, 'was_impossible': False}),\n",
       " Prediction(uid=27229, iid=4361, r_ui=3.5, est=3.517534820897062, details={'actual_k': 40, 'was_impossible': False}),\n",
       " Prediction(uid=154518, iid=6934, r_ui=2.5, est=3.4774405550865124, details={'actual_k': 7, 'was_impossible': False}),\n",
       " Prediction(uid=151205, iid=3949, r_ui=5.0, est=4.425489506166879, details={'actual_k': 26, 'was_impossible': False}),\n",
       " Prediction(uid=126258, iid=3365, r_ui=3.0, est=3.6016722262680214, details={'actual_k': 40, 'was_impossible': False}),\n",
       " Prediction(uid=16541, iid=1020, r_ui=4.0, est=3.471591199736828, details={'actual_k': 40, 'was_impossible': False}),\n",
       " Prediction(uid=45811, iid=2133, r_ui=3.0, est=3.875171007264048, details={'actual_k': 30, 'was_impossible': False}),\n",
       " Prediction(uid=153740, iid=15, r_ui=4.0, est=2.792643814903738, details={'actual_k': 40, 'was_impossible': False}),\n",
       " Prediction(uid=28791, iid=2761, r_ui=4.5, est=4.676737030655545, details={'actual_k': 21, 'was_impossible': False}),\n",
       " Prediction(uid=87594, iid=6537, r_ui=1.0, est=2.2354676266511646, details={'actual_k': 40, 'was_impossible': False}),\n",
       " Prediction(uid=41913, iid=2160, r_ui=4.0, est=4.607809586766295, details={'actual_k': 9, 'was_impossible': False}),\n",
       " Prediction(uid=64415, iid=915, r_ui=4.0, est=4.382208452609649, details={'actual_k': 40, 'was_impossible': False}),\n",
       " Prediction(uid=142282, iid=1274, r_ui=3.0, est=3.4355107545597265, details={'actual_k': 40, 'was_impossible': False}),\n",
       " Prediction(uid=11488, iid=1541, r_ui=2.0, est=3.2664753280225383, details={'actual_k': 7, 'was_impossible': False}),\n",
       " Prediction(uid=46819, iid=5991, r_ui=5.0, est=3.1292795872347936, details={'actual_k': 40, 'was_impossible': False}),\n",
       " Prediction(uid=145666, iid=3249, r_ui=4.0, est=3.237407416759758, details={'actual_k': 40, 'was_impossible': False}),\n",
       " Prediction(uid=116760, iid=1095, r_ui=3.0, est=2.917407036104114, details={'actual_k': 40, 'was_impossible': False}),\n",
       " Prediction(uid=49971, iid=73, r_ui=2.5, est=3.4073824230996044, details={'actual_k': 38, 'was_impossible': False}),\n",
       " Prediction(uid=57433, iid=2991, r_ui=3.5, est=3.2944746315321596, details={'actual_k': 40, 'was_impossible': False}),\n",
       " Prediction(uid=26672, iid=1425, r_ui=2.5, est=1.869587365330504, details={'actual_k': 40, 'was_impossible': False}),\n",
       " Prediction(uid=155932, iid=2336, r_ui=4.0, est=3.789519409708525, details={'actual_k': 31, 'was_impossible': False}),\n",
       " Prediction(uid=29049, iid=2471, r_ui=3.0, est=1.966886085215196, details={'actual_k': 40, 'was_impossible': False}),\n",
       " Prediction(uid=29495, iid=101, r_ui=3.5, est=3.731395628508994, details={'actual_k': 40, 'was_impossible': False}),\n",
       " Prediction(uid=136895, iid=371, r_ui=4.0, est=3.593299575761468, details={'actual_k': 19, 'was_impossible': False}),\n",
       " Prediction(uid=111002, iid=153, r_ui=3.0, est=3.3895003414384575, details={'actual_k': 13, 'was_impossible': False}),\n",
       " Prediction(uid=98457, iid=187541, r_ui=4.0, est=4.52230254309373, details={'actual_k': 40, 'was_impossible': False}),\n",
       " Prediction(uid=114553, iid=55995, r_ui=3.0, est=3.157958439765067, details={'actual_k': 40, 'was_impossible': False}),\n",
       " Prediction(uid=134515, iid=48385, r_ui=2.0, est=3.1661693491230025, details={'actual_k': 40, 'was_impossible': False}),\n",
       " Prediction(uid=150345, iid=3386, r_ui=5.0, est=3.63878892315215, details={'actual_k': 40, 'was_impossible': False}),\n",
       " Prediction(uid=61411, iid=45499, r_ui=3.0, est=3.2461171855914532, details={'actual_k': 18, 'was_impossible': False}),\n",
       " Prediction(uid=70802, iid=8376, r_ui=2.5, est=3.4837476172520967, details={'actual_k': 19, 'was_impossible': False}),\n",
       " Prediction(uid=138890, iid=166528, r_ui=4.0, est=3.723116479536038, details={'actual_k': 40, 'was_impossible': False}),\n",
       " Prediction(uid=129979, iid=6947, r_ui=5.0, est=4.258254226592353, details={'actual_k': 14, 'was_impossible': False}),\n",
       " Prediction(uid=129568, iid=1372, r_ui=5.0, est=3.8325916322684153, details={'actual_k': 39, 'was_impossible': False}),\n",
       " Prediction(uid=57873, iid=4816, r_ui=1.5, est=3.212531453246536, details={'actual_k': 40, 'was_impossible': False}),\n",
       " Prediction(uid=73229, iid=3275, r_ui=4.0, est=3.638200030736217, details={'actual_k': 40, 'was_impossible': False}),\n",
       " Prediction(uid=110851, iid=1359, r_ui=2.5, est=3.022738808305604, details={'actual_k': 40, 'was_impossible': False}),\n",
       " Prediction(uid=69395, iid=34437, r_ui=4.0, est=4.078668001742078, details={'actual_k': 40, 'was_impossible': False}),\n",
       " Prediction(uid=28844, iid=1517, r_ui=4.0, est=3.598380053975625, details={'actual_k': 40, 'was_impossible': False}),\n",
       " Prediction(uid=14441, iid=6662, r_ui=3.0, est=3.550106062937445, details={'actual_k': 28, 'was_impossible': False}),\n",
       " Prediction(uid=91883, iid=2539, r_ui=2.5, est=2.8731153735115966, details={'actual_k': 40, 'was_impossible': False}),\n",
       " Prediction(uid=39536, iid=52245, r_ui=3.0, est=3.0972858656313544, details={'actual_k': 40, 'was_impossible': False}),\n",
       " Prediction(uid=16054, iid=1222, r_ui=4.5, est=4.143284745106559, details={'actual_k': 16, 'was_impossible': False}),\n",
       " Prediction(uid=15698, iid=379, r_ui=2.0, est=2.1530155196293617, details={'actual_k': 40, 'was_impossible': False}),\n",
       " Prediction(uid=34370, iid=535, r_ui=4.0, est=3.62220335653464, details={'actual_k': 40, 'was_impossible': False}),\n",
       " Prediction(uid=125016, iid=413, r_ui=2.0, est=3.0431220208792094, details={'actual_k': 31, 'was_impossible': False}),\n",
       " Prediction(uid=107379, iid=1212, r_ui=5.0, est=4.901666531286458, details={'actual_k': 40, 'was_impossible': False}),\n",
       " Prediction(uid=135992, iid=203, r_ui=4.0, est=3.2176152652326255, details={'actual_k': 16, 'was_impossible': False}),\n",
       " Prediction(uid=76127, iid=115210, r_ui=4.0, est=4.612134770699478, details={'actual_k': 28, 'was_impossible': False}),\n",
       " Prediction(uid=5114, iid=6535, r_ui=3.0, est=1.935804051548553, details={'actual_k': 40, 'was_impossible': False}),\n",
       " Prediction(uid=144774, iid=3984, r_ui=4.0, est=3.811036488353566, details={'actual_k': 40, 'was_impossible': False}),\n",
       " Prediction(uid=130495, iid=7323, r_ui=4.0, est=3.658674273475761, details={'actual_k': 40, 'was_impossible': False}),\n",
       " Prediction(uid=99952, iid=2161, r_ui=4.0, est=3.64640368535931, details={'actual_k': 40, 'was_impossible': False}),\n",
       " Prediction(uid=187, iid=188, r_ui=4.0, est=3.9441251272148694, details={'actual_k': 40, 'was_impossible': False}),\n",
       " Prediction(uid=59907, iid=1409, r_ui=5.0, est=3.954334600742128, details={'actual_k': 4, 'was_impossible': False}),\n",
       " Prediction(uid=97994, iid=2594, r_ui=4.0, est=3.900785496738367, details={'actual_k': 40, 'was_impossible': False}),\n",
       " Prediction(uid=11312, iid=880, r_ui=3.0, est=1.7652272726999771, details={'actual_k': 40, 'was_impossible': False}),\n",
       " Prediction(uid=16696, iid=6333, r_ui=4.5, est=3.504653606966597, details={'actual_k': 40, 'was_impossible': False}),\n",
       " Prediction(uid=79856, iid=2268, r_ui=4.0, est=3.758258064952481, details={'actual_k': 40, 'was_impossible': False}),\n",
       " Prediction(uid=82446, iid=3101, r_ui=2.5, est=2.917761096675715, details={'actual_k': 7, 'was_impossible': False}),\n",
       " Prediction(uid=27425, iid=1569, r_ui=4.0, est=3.5728054578769055, details={'actual_k': 40, 'was_impossible': False}),\n",
       " Prediction(uid=9522, iid=5060, r_ui=5.0, est=3.0595174356416903, details={'actual_k': 40, 'was_impossible': False}),\n",
       " Prediction(uid=1038, iid=778, r_ui=4.5, est=3.672536575819709, details={'actual_k': 40, 'was_impossible': False}),\n",
       " Prediction(uid=4676, iid=3259, r_ui=3.0, est=3.328628998416086, details={'actual_k': 40, 'was_impossible': False}),\n",
       " Prediction(uid=161284, iid=2794, r_ui=4.5, est=3.435149586865029, details={'actual_k': 24, 'was_impossible': False}),\n",
       " Prediction(uid=148802, iid=54272, r_ui=3.5, est=3.563527451452254, details={'actual_k': 40, 'was_impossible': False}),\n",
       " Prediction(uid=152650, iid=72737, r_ui=3.0, est=4.292864242814919, details={'actual_k': 40, 'was_impossible': False}),\n",
       " Prediction(uid=28141, iid=2167, r_ui=4.0, est=2.603820233058899, details={'actual_k': 40, 'was_impossible': False}),\n",
       " Prediction(uid=3691, iid=60, r_ui=3.0, est=3.1429830490252932, details={'actual_k': 15, 'was_impossible': False}),\n",
       " Prediction(uid=2500, iid=5621, r_ui=3.0, est=2.822323445084262, details={'actual_k': 40, 'was_impossible': False}),\n",
       " Prediction(uid=19242, iid=2762, r_ui=4.5, est=4.937908040980229, details={'actual_k': 40, 'was_impossible': False}),\n",
       " Prediction(uid=100219, iid=737, r_ui=3.0, est=2.27426349004341, details={'actual_k': 40, 'was_impossible': False}),\n",
       " Prediction(uid=93116, iid=3668, r_ui=3.0, est=3.827636045678929, details={'actual_k': 40, 'was_impossible': False}),\n",
       " Prediction(uid=35362, iid=57528, r_ui=3.5, est=3.3664494296574623, details={'actual_k': 40, 'was_impossible': False}),\n",
       " Prediction(uid=33001, iid=59022, r_ui=1.0, est=1.834664487126801, details={'actual_k': 28, 'was_impossible': False}),\n",
       " Prediction(uid=88578, iid=2657, r_ui=3.0, est=3.489953783614725, details={'actual_k': 40, 'was_impossible': False}),\n",
       " Prediction(uid=7860, iid=76251, r_ui=3.0, est=3.9136343629406656, details={'actual_k': 6, 'was_impossible': False}),\n",
       " Prediction(uid=77535, iid=3298, r_ui=4.0, est=4.440828264606425, details={'actual_k': 40, 'was_impossible': False}),\n",
       " Prediction(uid=73783, iid=3452, r_ui=3.5, est=3.6647919589188374, details={'actual_k': 30, 'was_impossible': False}),\n",
       " Prediction(uid=149968, iid=4014, r_ui=4.0, est=3.932746007919541, details={'actual_k': 40, 'was_impossible': False}),\n",
       " Prediction(uid=92969, iid=1088, r_ui=1.0, est=2.691942892613716, details={'actual_k': 40, 'was_impossible': False}),\n",
       " Prediction(uid=67427, iid=3253, r_ui=3.5, est=3.2440905504538193, details={'actual_k': 34, 'was_impossible': False}),\n",
       " Prediction(uid=80587, iid=52722, r_ui=3.5, est=3.0618378809342937, details={'actual_k': 40, 'was_impossible': False}),\n",
       " Prediction(uid=39415, iid=412, r_ui=3.5, est=3.1494781880803675, details={'actual_k': 40, 'was_impossible': False}),\n",
       " Prediction(uid=78063, iid=1380, r_ui=0.5, est=1.172045784837208, details={'actual_k': 4, 'was_impossible': False}),\n",
       " Prediction(uid=54365, iid=1635, r_ui=3.0, est=3.921552142186334, details={'actual_k': 40, 'was_impossible': False}),\n",
       " Prediction(uid=34072, iid=1261, r_ui=3.5, est=3.3218597692288023, details={'actual_k': 40, 'was_impossible': False}),\n",
       " Prediction(uid=136351, iid=2139, r_ui=3.5, est=3.117710280763954, details={'actual_k': 40, 'was_impossible': False}),\n",
       " Prediction(uid=88524, iid=260, r_ui=3.0, est=4.119837563566497, details={'actual_k': 15, 'was_impossible': False}),\n",
       " Prediction(uid=68595, iid=1500, r_ui=3.0, est=3.889973505119022, details={'actual_k': 40, 'was_impossible': False}),\n",
       " Prediction(uid=21343, iid=434, r_ui=1.5, est=3.096660664850951, details={'actual_k': 40, 'was_impossible': False}),\n",
       " Prediction(uid=3186, iid=663, r_ui=3.0, est=2.6840192048165785, details={'actual_k': 40, 'was_impossible': False}),\n",
       " Prediction(uid=102232, iid=102407, r_ui=4.5, est=4.5327681958004336, details={'actual_k': 35, 'was_impossible': False}),\n",
       " Prediction(uid=156261, iid=86644, r_ui=3.0, est=3.53166329883026, details={'actual_k': 40, 'was_impossible': False}),\n",
       " Prediction(uid=130946, iid=65, r_ui=4.0, est=2.525818811065105, details={'actual_k': 15, 'was_impossible': False}),\n",
       " Prediction(uid=51536, iid=2468, r_ui=2.0, est=2.810279858512793, details={'actual_k': 29, 'was_impossible': False}),\n",
       " Prediction(uid=14462, iid=333, r_ui=5.0, est=3.4246240438197377, details={'actual_k': 26, 'was_impossible': False}),\n",
       " Prediction(uid=116771, iid=164179, r_ui=3.0, est=4.629815925467538, details={'actual_k': 10, 'was_impossible': False}),\n",
       " Prediction(uid=71186, iid=59387, r_ui=4.5, est=4.121305565476047, details={'actual_k': 40, 'was_impossible': False}),\n",
       " Prediction(uid=89956, iid=36, r_ui=3.0, est=4.24176524014607, details={'actual_k': 9, 'was_impossible': False}),\n",
       " Prediction(uid=86164, iid=2641, r_ui=3.0, est=2.9149048141944878, details={'actual_k': 40, 'was_impossible': False}),\n",
       " Prediction(uid=15078, iid=71464, r_ui=4.5, est=3.5806414503138018, details={'actual_k': 40, 'was_impossible': False}),\n",
       " Prediction(uid=32201, iid=3545, r_ui=4.0, est=3.8990630640310364, details={'actual_k': 26, 'was_impossible': False}),\n",
       " Prediction(uid=144844, iid=2021, r_ui=3.0, est=3.2230264159896147, details={'actual_k': 22, 'was_impossible': False}),\n",
       " Prediction(uid=11527, iid=1080, r_ui=4.5, est=4.167053996299914, details={'actual_k': 40, 'was_impossible': False}),\n",
       " Prediction(uid=103258, iid=3113, r_ui=3.0, est=3.1268952683787763, details={'actual_k': 40, 'was_impossible': False}),\n",
       " Prediction(uid=89823, iid=1527, r_ui=5.0, est=3.690021859381936, details={'actual_k': 19, 'was_impossible': False}),\n",
       " Prediction(uid=33887, iid=3504, r_ui=5.0, est=4.46611723541465, details={'actual_k': 40, 'was_impossible': False}),\n",
       " Prediction(uid=36658, iid=6157, r_ui=3.0, est=2.366579098452582, details={'actual_k': 40, 'was_impossible': False}),\n",
       " Prediction(uid=13314, iid=89470, r_ui=5.0, est=4.047505390644118, details={'actual_k': 40, 'was_impossible': False}),\n",
       " Prediction(uid=98227, iid=5294, r_ui=5.0, est=3.8095860050815813, details={'actual_k': 40, 'was_impossible': False}),\n",
       " Prediction(uid=139044, iid=527, r_ui=4.0, est=4.30169080155248, details={'actual_k': 40, 'was_impossible': False}),\n",
       " Prediction(uid=3838, iid=376, r_ui=4.0, est=3.773316520673849, details={'actual_k': 30, 'was_impossible': False}),\n",
       " Prediction(uid=76682, iid=108190, r_ui=0.5, est=3.053175911962793, details={'actual_k': 40, 'was_impossible': False}),\n",
       " Prediction(uid=38392, iid=1380, r_ui=3.0, est=3.2715735992203743, details={'actual_k': 39, 'was_impossible': False}),\n",
       " Prediction(uid=133079, iid=1265, r_ui=4.5, est=3.7120926387031643, details={'actual_k': 19, 'was_impossible': False}),\n",
       " Prediction(uid=13794, iid=533, r_ui=2.0, est=2.9486271966755004, details={'actual_k': 11, 'was_impossible': False}),\n",
       " Prediction(uid=19363, iid=492, r_ui=4.0, est=3.5738684796522304, details={'actual_k': 40, 'was_impossible': False}),\n",
       " Prediction(uid=135937, iid=3730, r_ui=4.0, est=4.1041008935995, details={'actual_k': 40, 'was_impossible': False}),\n",
       " Prediction(uid=127021, iid=720, r_ui=4.5, est=4.511023364805006, details={'actual_k': 22, 'was_impossible': False}),\n",
       " Prediction(uid=54119, iid=4718, r_ui=4.0, est=3.1835958294307463, details={'actual_k': 40, 'was_impossible': False}),\n",
       " Prediction(uid=133257, iid=8969, r_ui=3.5, est=3.403351222225907, details={'actual_k': 11, 'was_impossible': False}),\n",
       " Prediction(uid=150371, iid=55280, r_ui=4.5, est=4.263912104026515, details={'actual_k': 40, 'was_impossible': False}),\n",
       " Prediction(uid=57160, iid=1172, r_ui=4.0, est=4.0935644171181895, details={'actual_k': 40, 'was_impossible': False}),\n",
       " Prediction(uid=12573, iid=368, r_ui=4.0, est=3.6693248241837146, details={'actual_k': 12, 'was_impossible': False}),\n",
       " Prediction(uid=32352, iid=3868, r_ui=4.5, est=3.596415169149009, details={'actual_k': 40, 'was_impossible': False}),\n",
       " Prediction(uid=151049, iid=3070, r_ui=1.0, est=2.6749963885671484, details={'actual_k': 40, 'was_impossible': False}),\n",
       " Prediction(uid=15454, iid=6333, r_ui=3.0, est=3.4976962213185563, details={'actual_k': 40, 'was_impossible': False}),\n",
       " Prediction(uid=98340, iid=3791, r_ui=2.0, est=3.4320755974589527, details={'actual_k': 40, 'was_impossible': False}),\n",
       " Prediction(uid=31053, iid=4238, r_ui=3.0, est=3.0380448199773613, details={'actual_k': 40, 'was_impossible': False}),\n",
       " Prediction(uid=60670, iid=4351, r_ui=4.0, est=2.7223924385136047, details={'actual_k': 3, 'was_impossible': False}),\n",
       " Prediction(uid=2177, iid=1888, r_ui=4.0, est=3.2427907168359678, details={'actual_k': 40, 'was_impossible': False}),\n",
       " Prediction(uid=12731, iid=22, r_ui=4.0, est=3.272988334817162, details={'actual_k': 6, 'was_impossible': False}),\n",
       " Prediction(uid=45601, iid=6664, r_ui=4.0, est=3.541883624799284, details={'actual_k': 40, 'was_impossible': False}),\n",
       " Prediction(uid=75692, iid=6934, r_ui=4.0, est=2.73698414132964, details={'actual_k': 4, 'was_impossible': False}),\n",
       " Prediction(uid=13646, iid=54995, r_ui=2.0, est=3.1323615957228546, details={'actual_k': 40, 'was_impossible': False}),\n",
       " Prediction(uid=43038, iid=1371, r_ui=3.5, est=3.165134727691587, details={'actual_k': 26, 'was_impossible': False}),\n",
       " Prediction(uid=84992, iid=69481, r_ui=4.0, est=3.562804594222981, details={'actual_k': 36, 'was_impossible': False}),\n",
       " Prediction(uid=30502, iid=2700, r_ui=5.0, est=4.455791235045879, details={'actual_k': 17, 'was_impossible': False}),\n",
       " Prediction(uid=18296, iid=62374, r_ui=4.0, est=4.470581180155725, details={'actual_k': 9, 'was_impossible': False}),\n",
       " Prediction(uid=71677, iid=72998, r_ui=5.0, est=4.106897096301643, details={'actual_k': 15, 'was_impossible': False}),\n",
       " Prediction(uid=42360, iid=69526, r_ui=3.5, est=3.1212625304393784, details={'actual_k': 40, 'was_impossible': False}),\n",
       " Prediction(uid=20008, iid=1641, r_ui=2.5, est=2.906887008983876, details={'actual_k': 32, 'was_impossible': False}),\n",
       " Prediction(uid=66815, iid=177593, r_ui=0.5, est=2.179384064397275, details={'actual_k': 40, 'was_impossible': False}),\n",
       " Prediction(uid=135570, iid=58, r_ui=5.0, est=4.571355763592138, details={'actual_k': 11, 'was_impossible': False}),\n",
       " Prediction(uid=100733, iid=3273, r_ui=4.0, est=2.2608851319568144, details={'actual_k': 20, 'was_impossible': False}),\n",
       " Prediction(uid=8638, iid=3101, r_ui=3.0, est=4.44417548921474, details={'actual_k': 1, 'was_impossible': False}),\n",
       " Prediction(uid=158035, iid=8950, r_ui=4.0, est=3.560468216349813, details={'actual_k': 4, 'was_impossible': False}),\n",
       " Prediction(uid=124783, iid=372, r_ui=3.0, est=3.5013172269855266, details={'actual_k': 40, 'was_impossible': False}),\n",
       " Prediction(uid=115177, iid=3526, r_ui=3.5, est=3.0233301712755334, details={'actual_k': 40, 'was_impossible': False}),\n",
       " Prediction(uid=24818, iid=3035, r_ui=3.0, est=3.684415584837323, details={'actual_k': 40, 'was_impossible': False}),\n",
       " Prediction(uid=27035, iid=2916, r_ui=2.0, est=4.368735098837873, details={'actual_k': 29, 'was_impossible': False}),\n",
       " Prediction(uid=85082, iid=1293, r_ui=4.0, est=3.680428638352831, details={'actual_k': 22, 'was_impossible': False}),\n",
       " Prediction(uid=144980, iid=4857, r_ui=4.0, est=3.412542170975324, details={'actual_k': 40, 'was_impossible': False}),\n",
       " Prediction(uid=25377, iid=2469, r_ui=4.0, est=3.19901037871329, details={'actual_k': 40, 'was_impossible': False}),\n",
       " Prediction(uid=131443, iid=299, r_ui=5.0, est=4.510862297166359, details={'actual_k': 14, 'was_impossible': False}),\n",
       " Prediction(uid=38287, iid=45501, r_ui=3.0, est=3.4008792749219086, details={'actual_k': 40, 'was_impossible': False}),\n",
       " Prediction(uid=92634, iid=3578, r_ui=4.5, est=3.75010313002928, details={'actual_k': 4, 'was_impossible': False}),\n",
       " Prediction(uid=569, iid=3108, r_ui=4.0, est=3.565815215492613, details={'actual_k': 5, 'was_impossible': False}),\n",
       " Prediction(uid=111155, iid=90866, r_ui=3.0, est=3.1608565771013915, details={'actual_k': 40, 'was_impossible': False}),\n",
       " Prediction(uid=121022, iid=6287, r_ui=2.5, est=2.68680250219317, details={'actual_k': 35, 'was_impossible': False}),\n",
       " Prediction(uid=110365, iid=2795, r_ui=3.0, est=3.8693105020158565, details={'actual_k': 40, 'was_impossible': False}),\n",
       " Prediction(uid=60050, iid=562, r_ui=5.0, est=4.495599599426385, details={'actual_k': 12, 'was_impossible': False}),\n",
       " Prediction(uid=27917, iid=2353, r_ui=3.0, est=3.6194871013369476, details={'actual_k': 40, 'was_impossible': False}),\n",
       " Prediction(uid=161561, iid=89864, r_ui=3.0, est=3.1727803528258924, details={'actual_k': 40, 'was_impossible': False}),\n",
       " Prediction(uid=104782, iid=112290, r_ui=4.0, est=4.0050525464102655, details={'actual_k': 40, 'was_impossible': False}),\n",
       " Prediction(uid=141135, iid=31, r_ui=4.0, est=4.214085198543907, details={'actual_k': 8, 'was_impossible': False}),\n",
       " Prediction(uid=93944, iid=87869, r_ui=3.5, est=3.3270707604393683, details={'actual_k': 40, 'was_impossible': False}),\n",
       " Prediction(uid=153390, iid=6373, r_ui=4.0, est=3.474799139756499, details={'actual_k': 10, 'was_impossible': False}),\n",
       " Prediction(uid=109461, iid=3317, r_ui=2.5, est=3.038934523037909, details={'actual_k': 40, 'was_impossible': False}),\n",
       " Prediction(uid=83054, iid=2686, r_ui=4.5, est=3.57517311466404, details={'actual_k': 13, 'was_impossible': False}),\n",
       " Prediction(uid=156255, iid=6242, r_ui=3.0, est=3.8844519083799462, details={'actual_k': 6, 'was_impossible': False}),\n",
       " Prediction(uid=1089, iid=2580, r_ui=4.0, est=3.258037762634541, details={'actual_k': 40, 'was_impossible': False}),\n",
       " Prediction(uid=153657, iid=1097, r_ui=3.0, est=3.6537400005481846, details={'actual_k': 32, 'was_impossible': False}),\n",
       " Prediction(uid=21422, iid=2951, r_ui=4.0, est=4.0825412654163795, details={'actual_k': 6, 'was_impossible': False}),\n",
       " Prediction(uid=145044, iid=57640, r_ui=4.5, est=3.4052424709838727, details={'actual_k': 17, 'was_impossible': False}),\n",
       " Prediction(uid=42769, iid=3098, r_ui=5.0, est=4.0518634808014165, details={'actual_k': 24, 'was_impossible': False}),\n",
       " Prediction(uid=47520, iid=2132, r_ui=5.0, est=4.24164281538977, details={'actual_k': 11, 'was_impossible': False}),\n",
       " Prediction(uid=36658, iid=3173, r_ui=2.5, est=3.0480790825046475, details={'actual_k': 40, 'was_impossible': False}),\n",
       " Prediction(uid=155202, iid=308, r_ui=5.0, est=4.176828220216333, details={'actual_k': 13, 'was_impossible': False}),\n",
       " Prediction(uid=140117, iid=57, r_ui=3.0, est=3.1802772935649752, details={'actual_k': 40, 'was_impossible': False}),\n",
       " Prediction(uid=148538, iid=4069, r_ui=2.5, est=2.4669720636368777, details={'actual_k': 40, 'was_impossible': False}),\n",
       " Prediction(uid=116959, iid=6934, r_ui=3.5, est=2.220495695822038, details={'actual_k': 10, 'was_impossible': False}),\n",
       " Prediction(uid=3295, iid=230, r_ui=3.0, est=3.1379151681089237, details={'actual_k': 21, 'was_impossible': False}),\n",
       " Prediction(uid=13967, iid=1270, r_ui=4.0, est=4.528429807947646, details={'actual_k': 40, 'was_impossible': False}),\n",
       " Prediction(uid=26776, iid=112290, r_ui=4.0, est=3.768733182057886, details={'actual_k': 40, 'was_impossible': False}),\n",
       " Prediction(uid=84220, iid=4857, r_ui=5.0, est=4.119766364426018, details={'actual_k': 16, 'was_impossible': False}),\n",
       " Prediction(uid=5870, iid=1673, r_ui=2.0, est=3.1571612895127323, details={'actual_k': 40, 'was_impossible': False}),\n",
       " Prediction(uid=124369, iid=5669, r_ui=5.0, est=3.537012720271043, details={'actual_k': 19, 'was_impossible': False}),\n",
       " Prediction(uid=58184, iid=87430, r_ui=0.5, est=1.9531682361262814, details={'actual_k': 40, 'was_impossible': False}),\n",
       " Prediction(uid=115191, iid=45668, r_ui=2.5, est=3.789023041358654, details={'actual_k': 36, 'was_impossible': False}),\n",
       " Prediction(uid=104724, iid=2463, r_ui=5.0, est=3.321414741666334, details={'actual_k': 40, 'was_impossible': False}),\n",
       " Prediction(uid=140832, iid=5283, r_ui=4.0, est=2.63381753048365, details={'actual_k': 27, 'was_impossible': False}),\n",
       " Prediction(uid=89028, iid=3735, r_ui=4.0, est=3.277360314382588, details={'actual_k': 40, 'was_impossible': False}),\n",
       " Prediction(uid=86348, iid=466, r_ui=3.0, est=2.7296718061452703, details={'actual_k': 40, 'was_impossible': False}),\n",
       " Prediction(uid=21324, iid=72378, r_ui=4.0, est=2.9327772615544667, details={'actual_k': 5, 'was_impossible': False}),\n",
       " Prediction(uid=60641, iid=1291, r_ui=4.5, est=4.109215261658711, details={'actual_k': 40, 'was_impossible': False}),\n",
       " Prediction(uid=79967, iid=8807, r_ui=2.0, est=2.8941537695080313, details={'actual_k': 40, 'was_impossible': False}),\n",
       " Prediction(uid=75100, iid=247, r_ui=5.0, est=4.057157574022527, details={'actual_k': 35, 'was_impossible': False}),\n",
       " Prediction(uid=158655, iid=33004, r_ui=2.0, est=3.1299396976498457, details={'actual_k': 40, 'was_impossible': False}),\n",
       " Prediction(uid=159287, iid=81, r_ui=5.0, est=3.2163586459237963, details={'actual_k': 22, 'was_impossible': False}),\n",
       " Prediction(uid=122011, iid=782, r_ui=2.0, est=1.966654147097286, details={'actual_k': 40, 'was_impossible': False}),\n",
       " Prediction(uid=48748, iid=596, r_ui=4.0, est=4.112019831542508, details={'actual_k': 13, 'was_impossible': False}),\n",
       " Prediction(uid=107648, iid=120799, r_ui=3.0, est=2.7432640662827317, details={'actual_k': 40, 'was_impossible': False}),\n",
       " Prediction(uid=50686, iid=2316, r_ui=1.0, est=3.7520890398615965, details={'actual_k': 29, 'was_impossible': False}),\n",
       " Prediction(uid=60655, iid=122, r_ui=3.0, est=2.736278371601634, details={'actual_k': 40, 'was_impossible': False}),\n",
       " Prediction(uid=117244, iid=55765, r_ui=3.0, est=3.984669476281862, details={'actual_k': 40, 'was_impossible': False}),\n",
       " Prediction(uid=57545, iid=56171, r_ui=3.0, est=3.6641477029962384, details={'actual_k': 40, 'was_impossible': False}),\n",
       " Prediction(uid=48606, iid=53972, r_ui=4.0, est=3.866063867441613, details={'actual_k': 40, 'was_impossible': False}),\n",
       " Prediction(uid=44886, iid=3168, r_ui=5.0, est=3.526741566860213, details={'actual_k': 13, 'was_impossible': False}),\n",
       " Prediction(uid=47139, iid=2908, r_ui=3.0, est=4.229979514333675, details={'actual_k': 6, 'was_impossible': False}),\n",
       " Prediction(uid=4775, iid=3977, r_ui=2.0, est=2.137630979320048, details={'actual_k': 40, 'was_impossible': False}),\n",
       " Prediction(uid=101116, iid=91485, r_ui=4.5, est=3.50137188760134, details={'actual_k': 40, 'was_impossible': False}),\n",
       " Prediction(uid=112321, iid=103688, r_ui=3.5, est=3.5724016512915826, details={'actual_k': 40, 'was_impossible': False}),\n",
       " Prediction(uid=99662, iid=3246, r_ui=3.0, est=3.4846557684538295, details={'actual_k': 40, 'was_impossible': False}),\n",
       " Prediction(uid=7978, iid=4148, r_ui=4.0, est=3.288730120133982, details={'actual_k': 25, 'was_impossible': False}),\n",
       " Prediction(uid=56451, iid=1282, r_ui=4.0, est=3.207236283753357, details={'actual_k': 8, 'was_impossible': False}),\n",
       " Prediction(uid=84758, iid=3705, r_ui=4.0, est=2.6615708258006787, details={'actual_k': 40, 'was_impossible': False}),\n",
       " Prediction(uid=129566, iid=836, r_ui=3.5, est=3.276799955593492, details={'actual_k': 5, 'was_impossible': False}),\n",
       " Prediction(uid=120006, iid=2692, r_ui=5.0, est=4.133115997825348, details={'actual_k': 26, 'was_impossible': False}),\n",
       " Prediction(uid=136832, iid=2289, r_ui=5.0, est=4.098408572849344, details={'actual_k': 40, 'was_impossible': False}),\n",
       " Prediction(uid=45512, iid=61240, r_ui=1.0, est=3.0968294538385615, details={'actual_k': 24, 'was_impossible': False}),\n",
       " Prediction(uid=10917, iid=85414, r_ui=4.5, est=4.269509841908071, details={'actual_k': 40, 'was_impossible': False}),\n",
       " Prediction(uid=148832, iid=111113, r_ui=2.5, est=2.6749676875877797, details={'actual_k': 37, 'was_impossible': False}),\n",
       " Prediction(uid=63754, iid=4020, r_ui=2.5, est=2.6396495058778147, details={'actual_k': 40, 'was_impossible': False}),\n",
       " Prediction(uid=72299, iid=1544, r_ui=2.0, est=2.279565147910681, details={'actual_k': 40, 'was_impossible': False}),\n",
       " Prediction(uid=117302, iid=7151, r_ui=4.0, est=3.914959304396495, details={'actual_k': 40, 'was_impossible': False}),\n",
       " Prediction(uid=47149, iid=2567, r_ui=4.0, est=3.6571709790588125, details={'actual_k': 40, 'was_impossible': False}),\n",
       " Prediction(uid=126332, iid=2346, r_ui=3.0, est=4.032886860038529, details={'actual_k': 40, 'was_impossible': False}),\n",
       " Prediction(uid=17955, iid=2454, r_ui=3.0, est=3.626035464029944, details={'actual_k': 40, 'was_impossible': False}),\n",
       " Prediction(uid=98489, iid=1911, r_ui=2.5, est=2.619708882764538, details={'actual_k': 40, 'was_impossible': False}),\n",
       " Prediction(uid=158423, iid=6957, r_ui=3.5, est=3.1934994669491594, details={'actual_k': 40, 'was_impossible': False}),\n",
       " Prediction(uid=128876, iid=89864, r_ui=4.0, est=3.9871719322898573, details={'actual_k': 40, 'was_impossible': False}),\n",
       " Prediction(uid=83892, iid=5446, r_ui=4.0, est=3.324205921654288, details={'actual_k': 40, 'was_impossible': False}),\n",
       " Prediction(uid=65928, iid=216, r_ui=4.0, est=3.5066976278099053, details={'actual_k': 40, 'was_impossible': False}),\n",
       " Prediction(uid=125935, iid=105, r_ui=3.0, est=3.668388699796359, details={'actual_k': 9, 'was_impossible': False}),\n",
       " Prediction(uid=98623, iid=798, r_ui=1.0, est=2.590134671873732, details={'actual_k': 40, 'was_impossible': False}),\n",
       " Prediction(uid=103146, iid=101, r_ui=4.5, est=3.618671578759698, details={'actual_k': 40, 'was_impossible': False}),\n",
       " Prediction(uid=107414, iid=2990, r_ui=3.0, est=3.295852406477591, details={'actual_k': 40, 'was_impossible': False}),\n",
       " Prediction(uid=54313, iid=799, r_ui=3.5, est=2.4263956018654955, details={'actual_k': 40, 'was_impossible': False}),\n",
       " Prediction(uid=64061, iid=1262, r_ui=5.0, est=4.504126189050277, details={'actual_k': 29, 'was_impossible': False}),\n",
       " Prediction(uid=97867, iid=589, r_ui=5.0, est=3.960562532698698, details={'actual_k': 2, 'was_impossible': False}),\n",
       " Prediction(uid=94564, iid=2677, r_ui=5.0, est=4.399386836099714, details={'actual_k': 21, 'was_impossible': False}),\n",
       " Prediction(uid=107562, iid=1295, r_ui=4.0, est=3.3627056187809554, details={'actual_k': 40, 'was_impossible': False}),\n",
       " Prediction(uid=25494, iid=62434, r_ui=2.0, est=2.6070135524256353, details={'actual_k': 40, 'was_impossible': False}),\n",
       " Prediction(uid=108863, iid=103253, r_ui=2.5, est=2.408891803847398, details={'actual_k': 40, 'was_impossible': False}),\n",
       " Prediction(uid=82276, iid=47997, r_ui=3.0, est=3.06467653693218, details={'actual_k': 6, 'was_impossible': False}),\n",
       " Prediction(uid=160978, iid=257, r_ui=3.0, est=3.4914526459780824, details={'actual_k': 37, 'was_impossible': False}),\n",
       " Prediction(uid=35752, iid=2143, r_ui=4.0, est=3.8535860204935193, details={'actual_k': 22, 'was_impossible': False}),\n",
       " Prediction(uid=152325, iid=940, r_ui=4.0, est=4.20346604662663, details={'actual_k': 40, 'was_impossible': False}),\n",
       " Prediction(uid=50443, iid=2188, r_ui=3.5, est=2.8803970036849615, details={'actual_k': 14, 'was_impossible': False}),\n",
       " Prediction(uid=86043, iid=158, r_ui=4.0, est=2.5246682258053457, details={'actual_k': 11, 'was_impossible': False}),\n",
       " Prediction(uid=83503, iid=587, r_ui=5.0, est=3.304303741375091, details={'actual_k': 27, 'was_impossible': False}),\n",
       " Prediction(uid=90761, iid=1298, r_ui=4.0, est=3.7757250027303635, details={'actual_k': 40, 'was_impossible': False}),\n",
       " Prediction(uid=23395, iid=2991, r_ui=2.5, est=2.757763032669805, details={'actual_k': 40, 'was_impossible': False}),\n",
       " Prediction(uid=24883, iid=3044, r_ui=5.0, est=4.3208342458259335, details={'actual_k': 40, 'was_impossible': False}),\n",
       " Prediction(uid=27734, iid=4995, r_ui=3.0, est=3.4287262023478737, details={'actual_k': 9, 'was_impossible': False}),\n",
       " Prediction(uid=6836, iid=253, r_ui=4.0, est=3.7218468106284743, details={'actual_k': 40, 'was_impossible': False}),\n",
       " Prediction(uid=31830, iid=50872, r_ui=5.0, est=4.382301920599936, details={'actual_k': 20, 'was_impossible': False}),\n",
       " Prediction(uid=30041, iid=97, r_ui=4.0, est=3.9507365311225864, details={'actual_k': 40, 'was_impossible': False}),\n",
       " Prediction(uid=103308, iid=111364, r_ui=1.5, est=2.734584722856087, details={'actual_k': 40, 'was_impossible': False}),\n",
       " Prediction(uid=127706, iid=3861, r_ui=3.0, est=2.1418097789248565, details={'actual_k': 40, 'was_impossible': False}),\n",
       " Prediction(uid=58507, iid=79293, r_ui=2.5, est=3.6009108910985628, details={'actual_k': 40, 'was_impossible': False}),\n",
       " Prediction(uid=70617, iid=3996, r_ui=4.0, est=4.2198577145415275, details={'actual_k': 36, 'was_impossible': False}),\n",
       " Prediction(uid=27108, iid=65682, r_ui=2.5, est=3.344519689387737, details={'actual_k': 40, 'was_impossible': False}),\n",
       " Prediction(uid=124080, iid=1895, r_ui=3.0, est=2.9036091176949417, details={'actual_k': 40, 'was_impossible': False}),\n",
       " Prediction(uid=106572, iid=6378, r_ui=2.5, est=3.279632863222334, details={'actual_k': 40, 'was_impossible': False}),\n",
       " Prediction(uid=77379, iid=6796, r_ui=1.5, est=2.1390427235786467, details={'actual_k': 40, 'was_impossible': False}),\n",
       " Prediction(uid=80115, iid=2398, r_ui=4.0, est=4.082588072010517, details={'actual_k': 40, 'was_impossible': False}),\n",
       " Prediction(uid=57402, iid=2053, r_ui=2.0, est=1.7358548995638545, details={'actual_k': 21, 'was_impossible': False}),\n",
       " Prediction(uid=34900, iid=1580, r_ui=1.0, est=3.9940945813071735, details={'actual_k': 40, 'was_impossible': False}),\n",
       " Prediction(uid=155372, iid=5952, r_ui=5.0, est=3.997450349443091, details={'actual_k': 40, 'was_impossible': False}),\n",
       " Prediction(uid=94001, iid=3994, r_ui=1.5, est=2.6969280513576424, details={'actual_k': 40, 'was_impossible': False}),\n",
       " Prediction(uid=136140, iid=707, r_ui=3.0, est=3.3031591972124015, details={'actual_k': 40, 'was_impossible': False}),\n",
       " Prediction(uid=77657, iid=5108, r_ui=4.0, est=3.4036481897908226, details={'actual_k': 40, 'was_impossible': False}),\n",
       " Prediction(uid=69894, iid=171763, r_ui=3.0, est=3.4435231808761344, details={'actual_k': 40, 'was_impossible': False}),\n",
       " Prediction(uid=105714, iid=3624, r_ui=1.5, est=1.4623373475486663, details={'actual_k': 3, 'was_impossible': False}),\n",
       " Prediction(uid=113879, iid=1136, r_ui=5.0, est=3.474780976489247, details={'was_impossible': True, 'reason': 'User and/or item is unknown.'}),\n",
       " Prediction(uid=139919, iid=589, r_ui=5.0, est=4.210824263216596, details={'actual_k': 31, 'was_impossible': False}),\n",
       " Prediction(uid=86759, iid=5970, r_ui=4.0, est=3.619061461143698, details={'actual_k': 40, 'was_impossible': False}),\n",
       " Prediction(uid=7064, iid=1590, r_ui=4.5, est=2.5976415828700006, details={'actual_k': 3, 'was_impossible': False}),\n",
       " Prediction(uid=122471, iid=208, r_ui=4.0, est=3.785843659484045, details={'actual_k': 13, 'was_impossible': False}),\n",
       " Prediction(uid=148014, iid=546, r_ui=3.0, est=2.1308339217991574, details={'actual_k': 40, 'was_impossible': False}),\n",
       " Prediction(uid=5441, iid=41285, r_ui=3.5, est=3.6328572648257826, details={'actual_k': 40, 'was_impossible': False}),\n",
       " Prediction(uid=14686, iid=527, r_ui=4.5, est=4.070486771446788, details={'actual_k': 40, 'was_impossible': False}),\n",
       " Prediction(uid=53397, iid=3702, r_ui=4.0, est=3.5444062679985566, details={'actual_k': 40, 'was_impossible': False}),\n",
       " Prediction(uid=91379, iid=4728, r_ui=3.0, est=3.60799619679874, details={'actual_k': 6, 'was_impossible': False}),\n",
       " Prediction(uid=55796, iid=1747, r_ui=4.0, est=3.6462175684362084, details={'actual_k': 40, 'was_impossible': False}),\n",
       " Prediction(uid=144461, iid=1635, r_ui=5.0, est=3.9146089986518535, details={'actual_k': 40, 'was_impossible': False}),\n",
       " Prediction(uid=14876, iid=329, r_ui=3.0, est=3.1342634069154247, details={'actual_k': 40, 'was_impossible': False}),\n",
       " Prediction(uid=125392, iid=3752, r_ui=4.0, est=3.0792209729839097, details={'actual_k': 36, 'was_impossible': False}),\n",
       " Prediction(uid=78203, iid=4886, r_ui=4.0, est=4.071472510443431, details={'actual_k': 40, 'was_impossible': False}),\n",
       " Prediction(uid=91860, iid=2686, r_ui=5.0, est=4.449425866444007, details={'actual_k': 13, 'was_impossible': False}),\n",
       " Prediction(uid=96273, iid=2858, r_ui=4.5, est=4.042457639475358, details={'actual_k': 17, 'was_impossible': False}),\n",
       " Prediction(uid=151396, iid=194, r_ui=5.0, est=4.703257280109348, details={'actual_k': 11, 'was_impossible': False}),\n",
       " Prediction(uid=38393, iid=232, r_ui=5.0, est=4.498188642433167, details={'actual_k': 4, 'was_impossible': False}),\n",
       " Prediction(uid=128958, iid=7154, r_ui=3.5, est=2.5248636588311983, details={'actual_k': 40, 'was_impossible': False}),\n",
       " Prediction(uid=42733, iid=905, r_ui=5.0, est=4.799830486748824, details={'actual_k': 40, 'was_impossible': False}),\n",
       " Prediction(uid=87535, iid=72226, r_ui=4.0, est=3.6476987771821783, details={'actual_k': 40, 'was_impossible': False}),\n",
       " Prediction(uid=39971, iid=5060, r_ui=3.5, est=3.7444644094544675, details={'actual_k': 10, 'was_impossible': False}),\n",
       " Prediction(uid=15896, iid=78772, r_ui=4.0, est=2.7977207188016635, details={'actual_k': 40, 'was_impossible': False}),\n",
       " Prediction(uid=36863, iid=1305, r_ui=4.0, est=4.134536701839533, details={'actual_k': 40, 'was_impossible': False}),\n",
       " Prediction(uid=142286, iid=1969, r_ui=2.0, est=2.7917221766059432, details={'actual_k': 40, 'was_impossible': False}),\n",
       " Prediction(uid=105679, iid=195159, r_ui=3.0, est=4.026743627307056, details={'actual_k': 40, 'was_impossible': False}),\n",
       " Prediction(uid=67024, iid=88163, r_ui=3.5, est=3.755722914441722, details={'actual_k': 40, 'was_impossible': False}),\n",
       " Prediction(uid=125926, iid=1297, r_ui=3.5, est=3.8239000043648934, details={'actual_k': 40, 'was_impossible': False}),\n",
       " Prediction(uid=128184, iid=102407, r_ui=2.5, est=3.6092902248556697, details={'actual_k': 18, 'was_impossible': False}),\n",
       " Prediction(uid=115874, iid=69644, r_ui=3.5, est=3.8506386540278754, details={'actual_k': 33, 'was_impossible': False}),\n",
       " Prediction(uid=59398, iid=64622, r_ui=2.0, est=3.2196418961095192, details={'actual_k': 40, 'was_impossible': False}),\n",
       " Prediction(uid=23320, iid=4734, r_ui=4.0, est=3.711960974394034, details={'actual_k': 40, 'was_impossible': False}),\n",
       " Prediction(uid=84668, iid=3157, r_ui=1.0, est=4.189993200759833, details={'actual_k': 1, 'was_impossible': False}),\n",
       " Prediction(uid=104115, iid=41, r_ui=4.0, est=4.3678478587762815, details={'actual_k': 25, 'was_impossible': False}),\n",
       " Prediction(uid=5990, iid=930, r_ui=4.0, est=4.450389524852948, details={'actual_k': 40, 'was_impossible': False}),\n",
       " Prediction(uid=58473, iid=21, r_ui=4.0, est=3.4465078565920733, details={'actual_k': 40, 'was_impossible': False}),\n",
       " Prediction(uid=108818, iid=34162, r_ui=4.0, est=3.446269455938708, details={'actual_k': 40, 'was_impossible': False}),\n",
       " Prediction(uid=33844, iid=3980, r_ui=3.0, est=3.1641423383198037, details={'actual_k': 40, 'was_impossible': False}),\n",
       " Prediction(uid=41208, iid=74458, r_ui=5.0, est=4.17287571068541, details={'actual_k': 40, 'was_impossible': False}),\n",
       " Prediction(uid=86298, iid=62999, r_ui=2.0, est=2.314563121584418, details={'actual_k': 40, 'was_impossible': False}),\n",
       " Prediction(uid=99774, iid=46965, r_ui=1.0, est=1.8963678793068488, details={'actual_k': 40, 'was_impossible': False}),\n",
       " Prediction(uid=20979, iid=56949, r_ui=3.0, est=3.3088189365989287, details={'actual_k': 7, 'was_impossible': False}),\n",
       " Prediction(uid=158270, iid=3911, r_ui=5.0, est=3.6998954205202637, details={'actual_k': 40, 'was_impossible': False}),\n",
       " Prediction(uid=15077, iid=4105, r_ui=4.0, est=3.9583202959470833, details={'actual_k': 40, 'was_impossible': False}),\n",
       " Prediction(uid=150113, iid=104211, r_ui=3.5, est=3.0642315462992196, details={'actual_k': 40, 'was_impossible': False}),\n",
       " Prediction(uid=146460, iid=62081, r_ui=4.0, est=3.690082561369442, details={'actual_k': 29, 'was_impossible': False}),\n",
       " Prediction(uid=103034, iid=3441, r_ui=4.5, est=3.9403115610269035, details={'actual_k': 7, 'was_impossible': False}),\n",
       " Prediction(uid=129426, iid=2989, r_ui=4.0, est=3.6425903952707284, details={'actual_k': 40, 'was_impossible': False}),\n",
       " Prediction(uid=46119, iid=2282, r_ui=1.0, est=2.9563056138965016, details={'actual_k': 22, 'was_impossible': False}),\n",
       " Prediction(uid=91616, iid=6993, r_ui=5.0, est=4.263954234672481, details={'actual_k': 40, 'was_impossible': False}),\n",
       " Prediction(uid=6012, iid=147, r_ui=4.0, est=3.279543187700876, details={'actual_k': 40, 'was_impossible': False}),\n",
       " Prediction(uid=93735, iid=552, r_ui=4.0, est=3.647675625755538, details={'actual_k': 5, 'was_impossible': False}),\n",
       " Prediction(uid=69006, iid=26662, r_ui=1.5, est=3.9859407766088015, details={'actual_k': 27, 'was_impossible': False}),\n",
       " Prediction(uid=128590, iid=4844, r_ui=3.5, est=2.8936804227683455, details={'actual_k': 40, 'was_impossible': False}),\n",
       " Prediction(uid=124150, iid=1148, r_ui=4.0, est=3.9542247097857155, details={'actual_k': 40, 'was_impossible': False}),\n",
       " Prediction(uid=155778, iid=1374, r_ui=5.0, est=3.8020426612741374, details={'actual_k': 40, 'was_impossible': False}),\n",
       " Prediction(uid=51604, iid=122916, r_ui=3.0, est=3.788409601560195, details={'actual_k': 14, 'was_impossible': False}),\n",
       " Prediction(uid=162403, iid=2371, r_ui=4.0, est=3.6092844223416125, details={'actual_k': 40, 'was_impossible': False}),\n",
       " Prediction(uid=99506, iid=2468, r_ui=3.5, est=3.177972212188365, details={'actual_k': 40, 'was_impossible': False}),\n",
       " Prediction(uid=90399, iid=1772, r_ui=2.5, est=2.430772671012889, details={'actual_k': 25, 'was_impossible': False}),\n",
       " Prediction(uid=60069, iid=1422, r_ui=4.0, est=3.7641549520006072, details={'actual_k': 40, 'was_impossible': False}),\n",
       " Prediction(uid=144576, iid=1777, r_ui=5.0, est=4.1032196044823985, details={'actual_k': 40, 'was_impossible': False}),\n",
       " Prediction(uid=108152, iid=1974, r_ui=3.5, est=3.0175669843078534, details={'actual_k': 40, 'was_impossible': False}),\n",
       " Prediction(uid=53326, iid=2422, r_ui=0.5, est=1.4273736110137243, details={'actual_k': 40, 'was_impossible': False}),\n",
       " Prediction(uid=97378, iid=3967, r_ui=5.0, est=3.8184266268233182, details={'actual_k': 40, 'was_impossible': False}),\n",
       " Prediction(uid=98020, iid=1275, r_ui=4.0, est=2.9369618710298804, details={'actual_k': 40, 'was_impossible': False}),\n",
       " Prediction(uid=102513, iid=26662, r_ui=4.0, est=4.04785094550856, details={'actual_k': 35, 'was_impossible': False}),\n",
       " Prediction(uid=97527, iid=55247, r_ui=5.0, est=4.09358118745312, details={'actual_k': 28, 'was_impossible': False}),\n",
       " Prediction(uid=98315, iid=2470, r_ui=3.5, est=2.892395887032991, details={'actual_k': 6, 'was_impossible': False}),\n",
       " Prediction(uid=82788, iid=8644, r_ui=4.0, est=3.616462702600203, details={'actual_k': 40, 'was_impossible': False}),\n",
       " Prediction(uid=8149, iid=52458, r_ui=4.5, est=4.037597170344193, details={'actual_k': 40, 'was_impossible': False}),\n",
       " Prediction(uid=153776, iid=3261, r_ui=4.0, est=3.354098590540474, details={'actual_k': 40, 'was_impossible': False}),\n",
       " Prediction(uid=159504, iid=3201, r_ui=4.5, est=4.0897701398179, details={'actual_k': 40, 'was_impossible': False}),\n",
       " Prediction(uid=19844, iid=482, r_ui=3.0, est=3.2324468425572648, details={'actual_k': 40, 'was_impossible': False}),\n",
       " Prediction(uid=22457, iid=1047, r_ui=5.0, est=3.8389793188652956, details={'actual_k': 40, 'was_impossible': False}),\n",
       " Prediction(uid=151193, iid=4239, r_ui=4.5, est=4.6957493056093105, details={'actual_k': 31, 'was_impossible': False}),\n",
       " Prediction(uid=136993, iid=1303, r_ui=3.0, est=4.1906987630159485, details={'actual_k': 29, 'was_impossible': False}),\n",
       " Prediction(uid=110618, iid=1073, r_ui=4.0, est=3.710775530022529, details={'actual_k': 40, 'was_impossible': False}),\n",
       " Prediction(uid=53304, iid=34048, r_ui=4.5, est=1.576939994524062, details={'actual_k': 22, 'was_impossible': False}),\n",
       " Prediction(uid=33903, iid=593, r_ui=3.5, est=4.795203616567648, details={'actual_k': 37, 'was_impossible': False}),\n",
       " Prediction(uid=48710, iid=2641, r_ui=2.0, est=2.9480626958024145, details={'actual_k': 40, 'was_impossible': False}),\n",
       " Prediction(uid=120181, iid=203, r_ui=2.5, est=2.2175122515021686, details={'actual_k': 40, 'was_impossible': False}),\n",
       " Prediction(uid=31246, iid=317, r_ui=5.0, est=3.123356184027691, details={'actual_k': 7, 'was_impossible': False}),\n",
       " Prediction(uid=123608, iid=5103, r_ui=3.0, est=4.039798274894245, details={'actual_k': 40, 'was_impossible': False}),\n",
       " Prediction(uid=96057, iid=3062, r_ui=3.5, est=3.708228964432824, details={'actual_k': 40, 'was_impossible': False}),\n",
       " Prediction(uid=37538, iid=52975, r_ui=5.0, est=4.125300943493283, details={'actual_k': 11, 'was_impossible': False}),\n",
       " Prediction(uid=159059, iid=1395, r_ui=1.0, est=4.066459690123077, details={'actual_k': 40, 'was_impossible': False}),\n",
       " Prediction(uid=111715, iid=1459, r_ui=3.0, est=3.3655363121850366, details={'actual_k': 29, 'was_impossible': False}),\n",
       " Prediction(uid=161984, iid=2729, r_ui=4.0, est=3.7892577959164297, details={'actual_k': 40, 'was_impossible': False}),\n",
       " Prediction(uid=57152, iid=1219, r_ui=3.0, est=3.6939811304202532, details={'actual_k': 8, 'was_impossible': False}),\n",
       " Prediction(uid=149163, iid=4545, r_ui=3.0, est=2.0738621581318126, details={'actual_k': 40, 'was_impossible': False}),\n",
       " Prediction(uid=113809, iid=108190, r_ui=4.0, est=2.9024555911324024, details={'actual_k': 29, 'was_impossible': False}),\n",
       " Prediction(uid=98547, iid=5957, r_ui=2.5, est=2.8980120560341516, details={'actual_k': 40, 'was_impossible': False}),\n",
       " Prediction(uid=60409, iid=6993, r_ui=4.5, est=3.9365914973118907, details={'actual_k': 40, 'was_impossible': False}),\n",
       " Prediction(uid=28860, iid=60074, r_ui=4.5, est=3.827864431103454, details={'actual_k': 8, 'was_impossible': False}),\n",
       " Prediction(uid=9006, iid=296, r_ui=1.0, est=3.8908202114799373, details={'actual_k': 21, 'was_impossible': False}),\n",
       " Prediction(uid=109161, iid=2533, r_ui=3.0, est=3.539232336418575, details={'actual_k': 18, 'was_impossible': False}),\n",
       " Prediction(uid=26748, iid=8949, r_ui=4.0, est=3.6401929146209535, details={'actual_k': 29, 'was_impossible': False}),\n",
       " Prediction(uid=56943, iid=45, r_ui=2.0, est=3.2794052771758953, details={'actual_k': 24, 'was_impossible': False}),\n",
       " Prediction(uid=142349, iid=2642, r_ui=3.0, est=2.3294474694404705, details={'actual_k': 40, 'was_impossible': False}),\n",
       " Prediction(uid=69652, iid=4238, r_ui=2.5, est=2.9831062632240712, details={'actual_k': 40, 'was_impossible': False}),\n",
       " Prediction(uid=97999, iid=2712, r_ui=4.0, est=3.03149225890489, details={'actual_k': 40, 'was_impossible': False}),\n",
       " Prediction(uid=90402, iid=926, r_ui=4.0, est=3.919699534079227, details={'actual_k': 32, 'was_impossible': False}),\n",
       " Prediction(uid=148802, iid=51077, r_ui=3.5, est=3.20174510096487, details={'actual_k': 40, 'was_impossible': False}),\n",
       " Prediction(uid=49006, iid=59900, r_ui=3.0, est=3.216685469464719, details={'actual_k': 40, 'was_impossible': False}),\n",
       " Prediction(uid=31628, iid=1285, r_ui=4.0, est=3.775521259533554, details={'actual_k': 40, 'was_impossible': False}),\n",
       " Prediction(uid=37079, iid=2268, r_ui=3.0, est=3.5923236561343486, details={'actual_k': 23, 'was_impossible': False}),\n",
       " Prediction(uid=46494, iid=1611, r_ui=4.0, est=3.482899647438989, details={'actual_k': 40, 'was_impossible': False}),\n",
       " Prediction(uid=94038, iid=1235, r_ui=5.0, est=4.282412213121312, details={'actual_k': 6, 'was_impossible': False}),\n",
       " Prediction(uid=103312, iid=1429, r_ui=2.0, est=2.947300180009232, details={'actual_k': 40, 'was_impossible': False}),\n",
       " Prediction(uid=33127, iid=6281, r_ui=3.5, est=3.2223738904710384, details={'actual_k': 16, 'was_impossible': False}),\n",
       " Prediction(uid=11556, iid=919, r_ui=4.5, est=4.266386882745753, details={'actual_k': 40, 'was_impossible': False}),\n",
       " Prediction(uid=60695, iid=34150, r_ui=2.5, est=2.3878723109683975, details={'actual_k': 23, 'was_impossible': False}),\n",
       " Prediction(uid=26508, iid=2664, r_ui=0.5, est=3.06450273847779, details={'actual_k': 40, 'was_impossible': False}),\n",
       " Prediction(uid=109683, iid=7, r_ui=4.0, est=2.527234103058505, details={'actual_k': 24, 'was_impossible': False}),\n",
       " Prediction(uid=56709, iid=1261, r_ui=4.0, est=2.886293674482617, details={'actual_k': 40, 'was_impossible': False}),\n",
       " Prediction(uid=97896, iid=51086, r_ui=4.0, est=2.871273395661232, details={'actual_k': 40, 'was_impossible': False}),\n",
       " Prediction(uid=98825, iid=68954, r_ui=3.5, est=3.9458483734820105, details={'actual_k': 11, 'was_impossible': False}),\n",
       " Prediction(uid=28170, iid=2375, r_ui=4.0, est=2.7762347974552095, details={'actual_k': 40, 'was_impossible': False}),\n",
       " Prediction(uid=7723, iid=1573, r_ui=4.5, est=3.8181534180776198, details={'actual_k': 40, 'was_impossible': False}),\n",
       " Prediction(uid=143258, iid=1242, r_ui=4.5, est=3.374895188293711, details={'actual_k': 18, 'was_impossible': False}),\n",
       " Prediction(uid=106565, iid=2383, r_ui=1.0, est=1.9105242942522571, details={'actual_k': 40, 'was_impossible': False}),\n",
       " Prediction(uid=89538, iid=605, r_ui=2.5, est=2.2919863968910503, details={'actual_k': 40, 'was_impossible': False}),\n",
       " Prediction(uid=28380, iid=2672, r_ui=3.0, est=3.8750038051239177, details={'actual_k': 40, 'was_impossible': False}),\n",
       " Prediction(uid=36308, iid=924, r_ui=2.5, est=4.026872044691961, details={'actual_k': 22, 'was_impossible': False}),\n",
       " Prediction(uid=137094, iid=2431, r_ui=4.0, est=3.3096706598000045, details={'actual_k': 40, 'was_impossible': False}),\n",
       " Prediction(uid=130410, iid=1282, r_ui=3.0, est=3.0025094997694945, details={'actual_k': 35, 'was_impossible': False}),\n",
       " Prediction(uid=151428, iid=6947, r_ui=3.0, est=3.7030440301120446, details={'actual_k': 1, 'was_impossible': False}),\n",
       " Prediction(uid=98625, iid=74458, r_ui=5.0, est=3.174010185898919, details={'actual_k': 2, 'was_impossible': False}),\n",
       " Prediction(uid=107379, iid=38886, r_ui=4.0, est=4.323192845533007, details={'actual_k': 40, 'was_impossible': False}),\n",
       " Prediction(uid=75515, iid=1370, r_ui=1.0, est=3.465012889191865, details={'actual_k': 20, 'was_impossible': False}),\n",
       " Prediction(uid=94028, iid=6104, r_ui=4.0, est=4.216050364348066, details={'actual_k': 25, 'was_impossible': False}),\n",
       " Prediction(uid=31147, iid=2393, r_ui=3.0, est=3.7017881001452433, details={'actual_k': 40, 'was_impossible': False}),\n",
       " Prediction(uid=158771, iid=5816, r_ui=3.5, est=3.7364290153189503, details={'actual_k': 40, 'was_impossible': False}),\n",
       " Prediction(uid=113421, iid=599, r_ui=5.0, est=3.708473238024263, details={'actual_k': 5, 'was_impossible': False}),\n",
       " Prediction(uid=21501, iid=1286, r_ui=4.0, est=4.0650631902311165, details={'actual_k': 40, 'was_impossible': False}),\n",
       " Prediction(uid=31007, iid=592, r_ui=2.0, est=2.9649183166954685, details={'actual_k': 6, 'was_impossible': False}),\n",
       " Prediction(uid=109883, iid=104241, r_ui=4.0, est=3.451671274295375, details={'actual_k': 40, 'was_impossible': False}),\n",
       " Prediction(uid=88102, iid=879, r_ui=2.0, est=2.519299935682955, details={'actual_k': 40, 'was_impossible': False}),\n",
       " Prediction(uid=132648, iid=2804, r_ui=4.0, est=4.0109489522691995, details={'actual_k': 40, 'was_impossible': False}),\n",
       " Prediction(uid=41016, iid=1350, r_ui=1.0, est=3.461412052863172, details={'actual_k': 4, 'was_impossible': False}),\n",
       " Prediction(uid=111879, iid=1025, r_ui=3.0, est=3.4035663697652496, details={'actual_k': 40, 'was_impossible': False}),\n",
       " Prediction(uid=39061, iid=4054, r_ui=1.0, est=2.961827792666838, details={'actual_k': 12, 'was_impossible': False}),\n",
       " Prediction(uid=157467, iid=5669, r_ui=2.5, est=3.190469906366482, details={'actual_k': 40, 'was_impossible': False}),\n",
       " Prediction(uid=120792, iid=40732, r_ui=4.5, est=3.210918770980144, details={'actual_k': 40, 'was_impossible': False}),\n",
       " Prediction(uid=75554, iid=1247, r_ui=0.5, est=3.2343597906451347, details={'actual_k': 23, 'was_impossible': False}),\n",
       " Prediction(uid=8977, iid=2203, r_ui=5.0, est=4.5145781554055375, details={'actual_k': 30, 'was_impossible': False}),\n",
       " Prediction(uid=3874, iid=6944, r_ui=4.0, est=3.6772908161066353, details={'actual_k': 40, 'was_impossible': False}),\n",
       " Prediction(uid=129627, iid=4015, r_ui=3.5, est=3.29169889630207, details={'actual_k': 37, 'was_impossible': False}),\n",
       " Prediction(uid=39662, iid=2474, r_ui=3.0, est=3.4335275440323003, details={'actual_k': 40, 'was_impossible': False}),\n",
       " Prediction(uid=25180, iid=64620, r_ui=3.5, est=3.6173240886612392, details={'actual_k': 40, 'was_impossible': False}),\n",
       " Prediction(uid=3604, iid=27706, r_ui=4.0, est=3.0450431339457396, details={'actual_k': 40, 'was_impossible': False}),\n",
       " Prediction(uid=98123, iid=4299, r_ui=5.0, est=4.087435713390602, details={'actual_k': 39, 'was_impossible': False}),\n",
       " Prediction(uid=107461, iid=5419, r_ui=1.5, est=3.002805962091413, details={'actual_k': 5, 'was_impossible': False}),\n",
       " Prediction(uid=61010, iid=1124, r_ui=3.5, est=3.3158628016470413, details={'actual_k': 40, 'was_impossible': False}),\n",
       " Prediction(uid=9136, iid=1876, r_ui=2.0, est=3.3608575754973575, details={'actual_k': 25, 'was_impossible': False}),\n",
       " Prediction(uid=3854, iid=247, r_ui=5.0, est=4.1253956572731285, details={'actual_k': 29, 'was_impossible': False}),\n",
       " Prediction(uid=31207, iid=920, r_ui=4.0, est=3.8902270597999244, details={'actual_k': 40, 'was_impossible': False}),\n",
       " Prediction(uid=97991, iid=105504, r_ui=4.5, est=4.068242131837481, details={'actual_k': 40, 'was_impossible': False}),\n",
       " Prediction(uid=81350, iid=1344, r_ui=4.0, est=4.029019308644175, details={'actual_k': 40, 'was_impossible': False}),\n",
       " Prediction(uid=110904, iid=6708, r_ui=3.5, est=3.943539266824841, details={'actual_k': 18, 'was_impossible': False}),\n",
       " Prediction(uid=50871, iid=89753, r_ui=4.0, est=3.7040423502121254, details={'actual_k': 27, 'was_impossible': False}),\n",
       " Prediction(uid=84625, iid=88810, r_ui=4.5, est=3.649884347418815, details={'actual_k': 40, 'was_impossible': False}),\n",
       " Prediction(uid=92487, iid=65514, r_ui=5.0, est=3.812472921997424, details={'actual_k': 40, 'was_impossible': False}),\n",
       " Prediction(uid=129512, iid=694, r_ui=3.0, est=2.7079192612386023, details={'actual_k': 40, 'was_impossible': False}),\n",
       " Prediction(uid=70389, iid=2375, r_ui=2.0, est=3.0250454532577757, details={'actual_k': 40, 'was_impossible': False}),\n",
       " Prediction(uid=20501, iid=1680, r_ui=2.0, est=3.216681609103421, details={'actual_k': 21, 'was_impossible': False}),\n",
       " Prediction(uid=79442, iid=2747, r_ui=4.0, est=3.23228446168974, details={'actual_k': 40, 'was_impossible': False}),\n",
       " Prediction(uid=139696, iid=67923, r_ui=5.0, est=4.554940100472891, details={'actual_k': 17, 'was_impossible': False}),\n",
       " Prediction(uid=124422, iid=971, r_ui=4.5, est=3.821655894488206, details={'actual_k': 40, 'was_impossible': False}),\n",
       " Prediction(uid=100432, iid=1204, r_ui=5.0, est=4.669211745770623, details={'actual_k': 23, 'was_impossible': False}),\n",
       " Prediction(uid=58331, iid=122892, r_ui=2.5, est=3.789602573512219, details={'actual_k': 30, 'was_impossible': False}),\n",
       " Prediction(uid=147353, iid=171763, r_ui=4.5, est=4.963439742207494, details={'actual_k': 40, 'was_impossible': False}),\n",
       " Prediction(uid=115153, iid=381, r_ui=3.0, est=3.164393491793636, details={'actual_k': 9, 'was_impossible': False}),\n",
       " Prediction(uid=89792, iid=97921, r_ui=3.5, est=3.41287050105581, details={'actual_k': 12, 'was_impossible': False}),\n",
       " Prediction(uid=153255, iid=3070, r_ui=5.0, est=3.339686644933336, details={'actual_k': 40, 'was_impossible': False}),\n",
       " Prediction(uid=136687, iid=1347, r_ui=4.0, est=2.973892822508854, details={'actual_k': 40, 'was_impossible': False}),\n",
       " Prediction(uid=87477, iid=8638, r_ui=4.0, est=3.9053724029566874, details={'actual_k': 40, 'was_impossible': False}),\n",
       " Prediction(uid=126107, iid=8641, r_ui=3.5, est=3.604353165161828, details={'actual_k': 40, 'was_impossible': False}),\n",
       " Prediction(uid=26016, iid=930, r_ui=2.0, est=3.5859207033214204, details={'actual_k': 40, 'was_impossible': False}),\n",
       " Prediction(uid=156197, iid=4553, r_ui=4.0, est=3.7999124456393316, details={'actual_k': 35, 'was_impossible': False}),\n",
       " Prediction(uid=49889, iid=2959, r_ui=4.5, est=4.324928595292637, details={'actual_k': 16, 'was_impossible': False}),\n",
       " Prediction(uid=130750, iid=903, r_ui=5.0, est=4.71951605799109, details={'actual_k': 40, 'was_impossible': False}),\n",
       " Prediction(uid=24206, iid=266, r_ui=5.0, est=4.502338209874689, details={'actual_k': 3, 'was_impossible': False}),\n",
       " Prediction(uid=31161, iid=195, r_ui=3.0, est=3.4920354530334277, details={'actual_k': 18, 'was_impossible': False}),\n",
       " Prediction(uid=141687, iid=6993, r_ui=4.0, est=4.3917410738902305, details={'actual_k': 33, 'was_impossible': False}),\n",
       " Prediction(uid=149481, iid=120799, r_ui=4.0, est=3.762329659508132, details={'actual_k': 40, 'was_impossible': False}),\n",
       " Prediction(uid=47873, iid=799, r_ui=5.0, est=2.852659276910522, details={'actual_k': 32, 'was_impossible': False}),\n",
       " Prediction(uid=32333, iid=3893, r_ui=3.0, est=3.4314977584398814, details={'actual_k': 40, 'was_impossible': False}),\n",
       " Prediction(uid=115576, iid=4262, r_ui=4.5, est=4.3150841753979785, details={'actual_k': 39, 'was_impossible': False}),\n",
       " Prediction(uid=116688, iid=3556, r_ui=4.0, est=3.5511768858189643, details={'actual_k': 40, 'was_impossible': False}),\n",
       " Prediction(uid=31006, iid=81932, r_ui=4.5, est=3.83829975549763, details={'actual_k': 40, 'was_impossible': False}),\n",
       " Prediction(uid=22380, iid=1022, r_ui=3.0, est=3.5351941247583443, details={'actual_k': 40, 'was_impossible': False}),\n",
       " Prediction(uid=137525, iid=260, r_ui=4.5, est=4.2846984872382, details={'actual_k': 40, 'was_impossible': False}),\n",
       " Prediction(uid=161223, iid=1288, r_ui=2.5, est=3.0944206113629313, details={'actual_k': 40, 'was_impossible': False}),\n",
       " Prediction(uid=145436, iid=5617, r_ui=3.0, est=3.6919685348474487, details={'actual_k': 40, 'was_impossible': False}),\n",
       " Prediction(uid=99957, iid=2805, r_ui=4.0, est=2.6839022246832154, details={'actual_k': 6, 'was_impossible': False}),\n",
       " Prediction(uid=87896, iid=1260, r_ui=4.0, est=4.089489938026341, details={'actual_k': 40, 'was_impossible': False}),\n",
       " Prediction(uid=119392, iid=1373, r_ui=4.0, est=2.7469498361014706, details={'actual_k': 40, 'was_impossible': False}),\n",
       " Prediction(uid=150344, iid=3398, r_ui=3.0, est=3.2355421075688198, details={'actual_k': 40, 'was_impossible': False}),\n",
       " Prediction(uid=131236, iid=455, r_ui=2.0, est=2.3773886685728685, details={'actual_k': 40, 'was_impossible': False}),\n",
       " Prediction(uid=11551, iid=55269, r_ui=4.5, est=4.220480653994478, details={'actual_k': 16, 'was_impossible': False}),\n",
       " Prediction(uid=597, iid=1049, r_ui=3.0, est=3.68253866401113, details={'actual_k': 40, 'was_impossible': False}),\n",
       " Prediction(uid=141469, iid=150, r_ui=3.0, est=3.5570308256114087, details={'actual_k': 5, 'was_impossible': False}),\n",
       " Prediction(uid=843, iid=2431, r_ui=4.0, est=3.121675707091705, details={'actual_k': 4, 'was_impossible': False}),\n",
       " Prediction(uid=136594, iid=37741, r_ui=4.5, est=4.091499644156631, details={'actual_k': 40, 'was_impossible': False}),\n",
       " Prediction(uid=111575, iid=4890, r_ui=4.0, est=3.4945474421689986, details={'actual_k': 2, 'was_impossible': False}),\n",
       " Prediction(uid=72337, iid=2034, r_ui=2.0, est=2.817426901057336, details={'actual_k': 40, 'was_impossible': False}),\n",
       " Prediction(uid=76681, iid=63876, r_ui=3.5, est=3.2338218140277255, details={'actual_k': 40, 'was_impossible': False}),\n",
       " Prediction(uid=36329, iid=88, r_ui=3.5, est=3.1586545378883786, details={'actual_k': 40, 'was_impossible': False}),\n",
       " Prediction(uid=134058, iid=351, r_ui=5.0, est=3.56420462849436, details={'actual_k': 31, 'was_impossible': False}),\n",
       " Prediction(uid=119332, iid=1042, r_ui=4.0, est=4.036455361884782, details={'actual_k': 37, 'was_impossible': False}),\n",
       " Prediction(uid=16359, iid=52328, r_ui=3.5, est=3.69288680595073, details={'actual_k': 34, 'was_impossible': False}),\n",
       " Prediction(uid=69709, iid=4084, r_ui=3.5, est=3.4082475723163763, details={'actual_k': 40, 'was_impossible': False}),\n",
       " Prediction(uid=61978, iid=1086, r_ui=4.0, est=3.7885248347083205, details={'actual_k': 12, 'was_impossible': False}),\n",
       " Prediction(uid=118670, iid=2291, r_ui=3.0, est=4.446625327657134, details={'actual_k': 12, 'was_impossible': False}),\n",
       " Prediction(uid=80480, iid=117529, r_ui=3.5, est=3.2214098955466755, details={'actual_k': 40, 'was_impossible': False}),\n",
       " Prediction(uid=49298, iid=1079, r_ui=5.0, est=3.6758051568801995, details={'actual_k': 40, 'was_impossible': False}),\n",
       " Prediction(uid=152386, iid=55814, r_ui=4.0, est=4.413092389586064, details={'actual_k': 4, 'was_impossible': False}),\n",
       " Prediction(uid=27196, iid=94677, r_ui=2.5, est=3.0136951961775162, details={'actual_k': 40, 'was_impossible': False}),\n",
       " Prediction(uid=51197, iid=5690, r_ui=4.5, est=4.421187399401328, details={'actual_k': 40, 'was_impossible': False}),\n",
       " Prediction(uid=10373, iid=762, r_ui=5.0, est=3.038971254121181, details={'actual_k': 11, 'was_impossible': False}),\n",
       " Prediction(uid=60634, iid=2378, r_ui=2.0, est=2.725413829071149, details={'actual_k': 40, 'was_impossible': False}),\n",
       " Prediction(uid=106548, iid=3083, r_ui=3.0, est=3.278431972408502, details={'actual_k': 40, 'was_impossible': False}),\n",
       " Prediction(uid=141938, iid=921, r_ui=2.5, est=2.9554190035862566, details={'actual_k': 40, 'was_impossible': False}),\n",
       " Prediction(uid=13649, iid=1380, r_ui=2.0, est=2.541853385671588, details={'actual_k': 40, 'was_impossible': False}),\n",
       " Prediction(uid=70698, iid=2387, r_ui=1.0, est=2.9651294809755675, details={'actual_k': 33, 'was_impossible': False}),\n",
       " Prediction(uid=37014, iid=3788, r_ui=5.0, est=4.648952867061064, details={'actual_k': 5, 'was_impossible': False}),\n",
       " Prediction(uid=114297, iid=54997, r_ui=3.0, est=3.4658893274909435, details={'actual_k': 40, 'was_impossible': False}),\n",
       " Prediction(uid=12307, iid=4734, r_ui=3.5, est=3.449021417838022, details={'actual_k': 40, 'was_impossible': False}),\n",
       " Prediction(uid=69185, iid=3996, r_ui=5.0, est=4.645272258123339, details={'actual_k': 40, 'was_impossible': False}),\n",
       " Prediction(uid=123400, iid=88129, r_ui=4.0, est=4.262130517067673, details={'actual_k': 20, 'was_impossible': False}),\n",
       " Prediction(uid=104219, iid=4776, r_ui=4.5, est=4.074289918893237, details={'actual_k': 40, 'was_impossible': False}),\n",
       " Prediction(uid=130912, iid=2871, r_ui=4.0, est=4.037829046795998, details={'actual_k': 8, 'was_impossible': False}),\n",
       " Prediction(uid=145355, iid=48738, r_ui=5.0, est=3.6011759734942306, details={'actual_k': 40, 'was_impossible': False}),\n",
       " Prediction(uid=155834, iid=70293, r_ui=4.0, est=4.166630808151297, details={'actual_k': 14, 'was_impossible': False}),\n",
       " Prediction(uid=74519, iid=1805, r_ui=4.0, est=2.8327779441792145, details={'actual_k': 40, 'was_impossible': False}),\n",
       " Prediction(uid=94793, iid=83134, r_ui=4.5, est=3.9949134058864093, details={'actual_k': 24, 'was_impossible': False}),\n",
       " Prediction(uid=134363, iid=3791, r_ui=4.0, est=3.188626202053437, details={'actual_k': 40, 'was_impossible': False}),\n",
       " Prediction(uid=50498, iid=305, r_ui=3.0, est=2.6369457824241995, details={'actual_k': 13, 'was_impossible': False}),\n",
       " Prediction(uid=90950, iid=529, r_ui=2.5, est=3.2837704741916456, details={'actual_k': 29, 'was_impossible': False}),\n",
       " Prediction(uid=143831, iid=163645, r_ui=5.0, est=3.7520657369646617, details={'actual_k': 35, 'was_impossible': False}),\n",
       " Prediction(uid=90695, iid=986, r_ui=3.5, est=3.5495694084321867, details={'actual_k': 40, 'was_impossible': False}),\n",
       " Prediction(uid=18010, iid=1379, r_ui=4.0, est=4.269438671913075, details={'actual_k': 8, 'was_impossible': False}),\n",
       " Prediction(uid=116217, iid=33162, r_ui=4.0, est=3.7119932791465886, details={'actual_k': 8, 'was_impossible': False}),\n",
       " Prediction(uid=137145, iid=2468, r_ui=5.0, est=2.8371724213015854, details={'actual_k': 40, 'was_impossible': False}),\n",
       " Prediction(uid=17526, iid=3081, r_ui=4.0, est=3.3544411596458157, details={'actual_k': 40, 'was_impossible': False}),\n",
       " Prediction(uid=42181, iid=3178, r_ui=4.0, est=3.9244578453953283, details={'actual_k': 40, 'was_impossible': False}),\n",
       " Prediction(uid=157246, iid=135, r_ui=2.5, est=2.7363780987995923, details={'actual_k': 40, 'was_impossible': False}),\n",
       " Prediction(uid=89656, iid=7022, r_ui=4.5, est=4.16962412306877, details={'actual_k': 22, 'was_impossible': False}),\n",
       " Prediction(uid=14214, iid=968, r_ui=1.0, est=4.102868985950364, details={'actual_k': 12, 'was_impossible': False}),\n",
       " Prediction(uid=110551, iid=8865, r_ui=3.5, est=3.000362724515058, details={'actual_k': 40, 'was_impossible': False}),\n",
       " Prediction(uid=93111, iid=7156, r_ui=4.0, est=4.024022558964829, details={'actual_k': 40, 'was_impossible': False}),\n",
       " Prediction(uid=97636, iid=1411, r_ui=5.0, est=4.480400089908501, details={'actual_k': 29, 'was_impossible': False}),\n",
       " Prediction(uid=95555, iid=92, r_ui=3.0, est=2.8983772581147593, details={'actual_k': 40, 'was_impossible': False}),\n",
       " Prediction(uid=14129, iid=481, r_ui=3.5, est=3.462215482726734, details={'actual_k': 18, 'was_impossible': False}),\n",
       " Prediction(uid=128851, iid=6867, r_ui=4.5, est=3.5795523106030527, details={'actual_k': 13, 'was_impossible': False}),\n",
       " Prediction(uid=60675, iid=2467, r_ui=5.0, est=3.5325272882372194, details={'actual_k': 40, 'was_impossible': False}),\n",
       " Prediction(uid=71932, iid=2724, r_ui=3.0, est=2.108904514347495, details={'actual_k': 34, 'was_impossible': False}),\n",
       " Prediction(uid=24263, iid=2313, r_ui=3.5, est=3.5513544878230996, details={'actual_k': 40, 'was_impossible': False}),\n",
       " Prediction(uid=119098, iid=3261, r_ui=3.0, est=3.3086116542460564, details={'actual_k': 40, 'was_impossible': False}),\n",
       " Prediction(uid=35316, iid=2735, r_ui=3.0, est=3.233486329847825, details={'actual_k': 40, 'was_impossible': False}),\n",
       " Prediction(uid=11312, iid=2474, r_ui=3.0, est=2.8941957774898133, details={'actual_k': 40, 'was_impossible': False}),\n",
       " Prediction(uid=62290, iid=6537, r_ui=3.5, est=3.3117244890190936, details={'actual_k': 40, 'was_impossible': False}),\n",
       " Prediction(uid=49072, iid=351, r_ui=4.0, est=3.7113214360098934, details={'actual_k': 26, 'was_impossible': False}),\n",
       " Prediction(uid=72754, iid=76175, r_ui=3.0, est=2.88943809248903, details={'actual_k': 40, 'was_impossible': False}),\n",
       " Prediction(uid=72566, iid=519, r_ui=2.0, est=1.8570281945342608, details={'actual_k': 40, 'was_impossible': False}),\n",
       " Prediction(uid=89659, iid=3264, r_ui=1.0, est=2.969650517718829, details={'actual_k': 11, 'was_impossible': False}),\n",
       " Prediction(uid=77050, iid=4, r_ui=3.0, est=2.435363193881571, details={'actual_k': 20, 'was_impossible': False}),\n",
       " Prediction(uid=27942, iid=2082, r_ui=1.5, est=2.731720867222101, details={'actual_k': 40, 'was_impossible': False}),\n",
       " Prediction(uid=44271, iid=1911, r_ui=3.0, est=2.924632770138054, details={'actual_k': 40, 'was_impossible': False}),\n",
       " Prediction(uid=66315, iid=3988, r_ui=2.5, est=3.593187653286229, details={'actual_k': 40, 'was_impossible': False}),\n",
       " Prediction(uid=58891, iid=2986, r_ui=3.0, est=2.6541658877265455, details={'actual_k': 40, 'was_impossible': False}),\n",
       " Prediction(uid=131388, iid=5669, r_ui=3.5, est=3.2881844211950226, details={'actual_k': 40, 'was_impossible': False}),\n",
       " Prediction(uid=44968, iid=4020, r_ui=4.0, est=3.4604650654912215, details={'actual_k': 40, 'was_impossible': False}),\n",
       " Prediction(uid=26470, iid=5481, r_ui=2.0, est=2.8426253735235827, details={'actual_k': 38, 'was_impossible': False}),\n",
       " Prediction(uid=647, iid=59784, r_ui=3.5, est=3.5667970006403475, details={'actual_k': 40, 'was_impossible': False}),\n",
       " Prediction(uid=161927, iid=4027, r_ui=3.0, est=4.12205517474294, details={'actual_k': 40, 'was_impossible': False}),\n",
       " Prediction(uid=30475, iid=1965, r_ui=1.5, est=2.9339227715895055, details={'actual_k': 40, 'was_impossible': False}),\n",
       " Prediction(uid=128633, iid=3160, r_ui=4.0, est=3.9462626735232345, details={'actual_k': 40, 'was_impossible': False}),\n",
       " Prediction(uid=57576, iid=140174, r_ui=4.5, est=3.283033569090541, details={'actual_k': 40, 'was_impossible': False}),\n",
       " Prediction(uid=140731, iid=648, r_ui=4.0, est=3.9539789293706042, details={'actual_k': 32, 'was_impossible': False}),\n",
       " Prediction(uid=94242, iid=4105, r_ui=3.0, est=3.504259642325069, details={'actual_k': 40, 'was_impossible': False}),\n",
       " Prediction(uid=70064, iid=2355, r_ui=2.0, est=3.159354414751441, details={'actual_k': 17, 'was_impossible': False}),\n",
       " Prediction(uid=79520, iid=3534, r_ui=4.0, est=2.7378168060301453, details={'actual_k': 15, 'was_impossible': False}),\n",
       " Prediction(uid=130706, iid=81562, r_ui=3.5, est=3.336464849494356, details={'actual_k': 23, 'was_impossible': False}),\n",
       " Prediction(uid=68632, iid=3100, r_ui=4.0, est=4.291555081214493, details={'actual_k': 7, 'was_impossible': False}),\n",
       " Prediction(uid=52301, iid=1409, r_ui=2.0, est=2.2642826061248527, details={'actual_k': 4, 'was_impossible': False}),\n",
       " Prediction(uid=81652, iid=371, r_ui=4.0, est=3.793381468449768, details={'actual_k': 40, 'was_impossible': False}),\n",
       " Prediction(uid=97385, iid=2087, r_ui=2.0, est=3.960148415901942, details={'actual_k': 40, 'was_impossible': False}),\n",
       " Prediction(uid=58270, iid=1643, r_ui=4.0, est=3.646205144960881, details={'actual_k': 40, 'was_impossible': False}),\n",
       " Prediction(uid=61613, iid=5025, r_ui=3.0, est=3.3769896128570345, details={'actual_k': 40, 'was_impossible': False}),\n",
       " Prediction(uid=96663, iid=3263, r_ui=2.5, est=2.827204252773046, details={'actual_k': 28, 'was_impossible': False}),\n",
       " Prediction(uid=98038, iid=2580, r_ui=4.0, est=3.2616080606345235, details={'actual_k': 40, 'was_impossible': False}),\n",
       " Prediction(uid=84322, iid=102903, r_ui=3.5, est=3.9733630528260293, details={'actual_k': 40, 'was_impossible': False}),\n",
       " Prediction(uid=12742, iid=115569, r_ui=4.0, est=4.032540575871034, details={'actual_k': 2, 'was_impossible': False}),\n",
       " Prediction(uid=161400, iid=112, r_ui=3.0, est=3.155814378981452, details={'actual_k': 5, 'was_impossible': False}),\n",
       " Prediction(uid=118482, iid=903, r_ui=4.5, est=3.6487610646041237, details={'actual_k': 40, 'was_impossible': False}),\n",
       " Prediction(uid=41291, iid=2080, r_ui=4.0, est=3.452261180160446, details={'actual_k': 40, 'was_impossible': False}),\n",
       " Prediction(uid=30549, iid=3020, r_ui=5.0, est=4.111201387999347, details={'actual_k': 40, 'was_impossible': False}),\n",
       " Prediction(uid=46088, iid=138036, r_ui=4.0, est=3.631206181362126, details={'actual_k': 40, 'was_impossible': False}),\n",
       " Prediction(uid=117674, iid=32031, r_ui=2.0, est=3.4381010037848494, details={'actual_k': 40, 'was_impossible': False}),\n",
       " Prediction(uid=133786, iid=2791, r_ui=5.0, est=3.1062455779824685, details={'actual_k': 17, 'was_impossible': False}),\n",
       " Prediction(uid=11107, iid=4246, r_ui=2.5, est=2.8609686552865763, details={'actual_k': 32, 'was_impossible': False}),\n",
       " Prediction(uid=79036, iid=553, r_ui=3.0, est=4.360050264999323, details={'actual_k': 40, 'was_impossible': False}),\n",
       " Prediction(uid=118186, iid=2193, r_ui=4.0, est=2.7891076586465595, details={'actual_k': 34, 'was_impossible': False}),\n",
       " Prediction(uid=140524, iid=662, r_ui=3.0, est=3.001434939571518, details={'actual_k': 24, 'was_impossible': False}),\n",
       " Prediction(uid=37155, iid=22, r_ui=4.0, est=3.0444247888755003, details={'actual_k': 22, 'was_impossible': False}),\n",
       " Prediction(uid=61497, iid=55232, r_ui=4.0, est=3.9133578317259192, details={'actual_k': 40, 'was_impossible': False}),\n",
       " Prediction(uid=17335, iid=176, r_ui=3.0, est=4.3614788593355165, details={'actual_k': 18, 'was_impossible': False}),\n",
       " Prediction(uid=105747, iid=2020, r_ui=4.0, est=4.025117546780937, details={'actual_k': 40, 'was_impossible': False}),\n",
       " Prediction(uid=49403, iid=4776, r_ui=3.0, est=2.4786522596983827, details={'actual_k': 40, 'was_impossible': False}),\n",
       " Prediction(uid=43291, iid=8366, r_ui=4.0, est=3.8317054241481294, details={'actual_k': 40, 'was_impossible': False}),\n",
       " Prediction(uid=100398, iid=109487, r_ui=4.5, est=3.7256988406436085, details={'actual_k': 40, 'was_impossible': False}),\n",
       " Prediction(uid=8587, iid=32587, r_ui=1.5, est=4.850537388062412, details={'actual_k': 2, 'was_impossible': False}),\n",
       " Prediction(uid=41715, iid=1183, r_ui=5.0, est=3.986646580217713, details={'actual_k': 11, 'was_impossible': False}),\n",
       " Prediction(uid=80773, iid=2950, r_ui=3.5, est=2.9191732773170633, details={'actual_k': 40, 'was_impossible': False}),\n",
       " Prediction(uid=135448, iid=2114, r_ui=4.0, est=3.737603612110287, details={'actual_k': 40, 'was_impossible': False}),\n",
       " Prediction(uid=87671, iid=1073, r_ui=1.5, est=3.4160433713142555, details={'actual_k': 16, 'was_impossible': False}),\n",
       " Prediction(uid=108108, iid=3624, r_ui=3.0, est=3.205597215830425, details={'actual_k': 40, 'was_impossible': False}),\n",
       " Prediction(uid=63182, iid=1500, r_ui=3.5, est=2.804544032369803, details={'actual_k': 39, 'was_impossible': False}),\n",
       " Prediction(uid=81023, iid=337, r_ui=4.0, est=3.691489188651033, details={'actual_k': 11, 'was_impossible': False}),\n",
       " Prediction(uid=30237, iid=1136, r_ui=4.5, est=4.0325398446791665, details={'actual_k': 8, 'was_impossible': False}),\n",
       " Prediction(uid=10824, iid=1388, r_ui=2.0, est=2.3975167018040295, details={'actual_k': 40, 'was_impossible': False}),\n",
       " Prediction(uid=153802, iid=106487, r_ui=2.5, est=3.3441915124647554, details={'actual_k': 40, 'was_impossible': False}),\n",
       " Prediction(uid=46121, iid=5541, r_ui=4.0, est=3.619830729177441, details={'actual_k': 40, 'was_impossible': False}),\n",
       " Prediction(uid=136586, iid=2133, r_ui=3.0, est=3.3558645485596252, details={'actual_k': 40, 'was_impossible': False}),\n",
       " Prediction(uid=1652, iid=187541, r_ui=4.0, est=4.068830975157215, details={'actual_k': 40, 'was_impossible': False}),\n",
       " Prediction(uid=115276, iid=1845, r_ui=2.5, est=3.325283062462625, details={'actual_k': 40, 'was_impossible': False}),\n",
       " Prediction(uid=30622, iid=587, r_ui=3.5, est=2.9557112443445512, details={'actual_k': 40, 'was_impossible': False}),\n",
       " Prediction(uid=16131, iid=492, r_ui=4.0, est=3.6340415343578347, details={'actual_k': 40, 'was_impossible': False}),\n",
       " Prediction(uid=69803, iid=86833, r_ui=3.5, est=3.4080019892518028, details={'actual_k': 40, 'was_impossible': False}),\n",
       " Prediction(uid=146221, iid=110553, r_ui=3.0, est=3.3801434413481557, details={'actual_k': 40, 'was_impossible': False}),\n",
       " Prediction(uid=57861, iid=1713, r_ui=1.0, est=2.4643905744777204, details={'actual_k': 40, 'was_impossible': False}),\n",
       " Prediction(uid=119427, iid=215, r_ui=3.5, est=4.031891693998355, details={'actual_k': 40, 'was_impossible': False}),\n",
       " Prediction(uid=138486, iid=115617, r_ui=4.0, est=4.2614973314102365, details={'actual_k': 10, 'was_impossible': False}),\n",
       " Prediction(uid=117182, iid=2335, r_ui=2.0, est=1.908958079354605, details={'actual_k': 40, 'was_impossible': False}),\n",
       " Prediction(uid=155769, iid=3508, r_ui=4.0, est=3.400149629187167, details={'actual_k': 30, 'was_impossible': False}),\n",
       " Prediction(uid=91401, iid=6564, r_ui=5.0, est=2.427691997006497, details={'actual_k': 40, 'was_impossible': False}),\n",
       " Prediction(uid=32945, iid=86, r_ui=4.0, est=3.7670134668662874, details={'actual_k': 40, 'was_impossible': False}),\n",
       " Prediction(uid=105903, iid=4677, r_ui=3.5, est=2.553988609377589, details={'actual_k': 40, 'was_impossible': False}),\n",
       " Prediction(uid=20789, iid=94, r_ui=4.0, est=3.506896216000869, details={'actual_k': 5, 'was_impossible': False}),\n",
       " Prediction(uid=20142, iid=105, r_ui=3.5, est=3.6634254080704634, details={'actual_k': 4, 'was_impossible': False}),\n",
       " Prediction(uid=28326, iid=3267, r_ui=3.0, est=3.7191580711137413, details={'actual_k': 40, 'was_impossible': False}),\n",
       " Prediction(uid=75508, iid=1301, r_ui=5.0, est=4.143575488719003, details={'actual_k': 40, 'was_impossible': False}),\n",
       " Prediction(uid=4060, iid=1259, r_ui=3.5, est=3.9195287074917085, details={'actual_k': 40, 'was_impossible': False}),\n",
       " Prediction(uid=162452, iid=87232, r_ui=4.0, est=4.3161823768521925, details={'actual_k': 40, 'was_impossible': False}),\n",
       " Prediction(uid=87107, iid=74458, r_ui=3.5, est=3.285935883776606, details={'actual_k': 29, 'was_impossible': False}),\n",
       " Prediction(uid=64843, iid=454, r_ui=5.0, est=3.5658076262010145, details={'actual_k': 40, 'was_impossible': False}),\n",
       " Prediction(uid=138476, iid=159, r_ui=1.0, est=3.3359945118562058, details={'actual_k': 40, 'was_impossible': False}),\n",
       " Prediction(uid=126016, iid=485, r_ui=1.0, est=2.2509075970797285, details={'actual_k': 40, 'was_impossible': False}),\n",
       " Prediction(uid=21146, iid=1009, r_ui=4.0, est=3.1880327463110767, details={'actual_k': 29, 'was_impossible': False}),\n",
       " Prediction(uid=17783, iid=58295, r_ui=4.0, est=3.477488795602957, details={'actual_k': 40, 'was_impossible': False}),\n",
       " Prediction(uid=17306, iid=48043, r_ui=4.5, est=3.7099228126105928, details={'actual_k': 40, 'was_impossible': False}),\n",
       " Prediction(uid=62663, iid=8970, r_ui=3.5, est=3.639695315326176, details={'actual_k': 40, 'was_impossible': False}),\n",
       " Prediction(uid=25302, iid=8865, r_ui=2.5, est=2.890012834665257, details={'actual_k': 40, 'was_impossible': False}),\n",
       " Prediction(uid=97474, iid=3071, r_ui=4.0, est=4.376563568178281, details={'actual_k': 40, 'was_impossible': False}),\n",
       " Prediction(uid=149365, iid=2599, r_ui=5.0, est=3.8583265309262216, details={'actual_k': 14, 'was_impossible': False}),\n",
       " Prediction(uid=41761, iid=109487, r_ui=4.0, est=4.320790272380029, details={'actual_k': 40, 'was_impossible': False}),\n",
       " Prediction(uid=141849, iid=54503, r_ui=3.0, est=3.7621756731418645, details={'actual_k': 20, 'was_impossible': False}),\n",
       " Prediction(uid=31481, iid=5957, r_ui=3.5, est=3.066110929104639, details={'actual_k': 40, 'was_impossible': False}),\n",
       " Prediction(uid=8542, iid=1907, r_ui=5.0, est=4.530820431610926, details={'actual_k': 40, 'was_impossible': False}),\n",
       " Prediction(uid=94828, iid=40278, r_ui=4.0, est=3.303463845981254, details={'actual_k': 40, 'was_impossible': False}),\n",
       " Prediction(uid=22348, iid=1834, r_ui=3.0, est=3.194785060479939, details={'actual_k': 40, 'was_impossible': False}),\n",
       " Prediction(uid=151401, iid=6377, r_ui=4.0, est=3.9082185594309613, details={'actual_k': 40, 'was_impossible': False}),\n",
       " Prediction(uid=64866, iid=1135, r_ui=2.5, est=3.0210464622065416, details={'actual_k': 40, 'was_impossible': False}),\n",
       " Prediction(uid=103712, iid=1777, r_ui=3.5, est=3.2517670733751296, details={'actual_k': 40, 'was_impossible': False}),\n",
       " Prediction(uid=82086, iid=316, r_ui=4.0, est=3.7501317939797576, details={'actual_k': 40, 'was_impossible': False}),\n",
       " Prediction(uid=43231, iid=2186, r_ui=3.5, est=4.074725744500711, details={'actual_k': 40, 'was_impossible': False}),\n",
       " Prediction(uid=5729, iid=2795, r_ui=2.0, est=3.851395236335835, details={'actual_k': 18, 'was_impossible': False}),\n",
       " Prediction(uid=130123, iid=765, r_ui=3.0, est=3.1894783808675236, details={'actual_k': 26, 'was_impossible': False}),\n",
       " Prediction(uid=73909, iid=1303, r_ui=5.0, est=3.9088836906322686, details={'actual_k': 40, 'was_impossible': False}),\n",
       " Prediction(uid=16774, iid=8865, r_ui=3.0, est=2.872828227637611, details={'actual_k': 40, 'was_impossible': False}),\n",
       " Prediction(uid=85228, iid=67734, r_ui=4.5, est=3.7510050556212864, details={'actual_k': 40, 'was_impossible': False}),\n",
       " Prediction(uid=151786, iid=428, r_ui=5.0, est=4.362507209142393, details={'actual_k': 4, 'was_impossible': False}),\n",
       " Prediction(uid=145174, iid=2427, r_ui=3.0, est=2.9576759637118575, details={'actual_k': 40, 'was_impossible': False}),\n",
       " Prediction(uid=11607, iid=661, r_ui=5.0, est=4.4454314820073275, details={'actual_k': 39, 'was_impossible': False}),\n",
       " Prediction(uid=85190, iid=3271, r_ui=2.0, est=3.4203074769415056, details={'actual_k': 40, 'was_impossible': False}),\n",
       " Prediction(uid=44215, iid=64620, r_ui=3.5, est=3.836943292012902, details={'actual_k': 40, 'was_impossible': False}),\n",
       " Prediction(uid=21336, iid=6953, r_ui=4.0, est=4.0989830979437984, details={'actual_k': 9, 'was_impossible': False}),\n",
       " Prediction(uid=131314, iid=1590, r_ui=2.5, est=2.785251163556737, details={'actual_k': 40, 'was_impossible': False}),\n",
       " Prediction(uid=131253, iid=6157, r_ui=2.5, est=2.8059749204662237, details={'actual_k': 40, 'was_impossible': False}),\n",
       " Prediction(uid=111311, iid=67734, r_ui=2.0, est=2.79752065463523, details={'actual_k': 40, 'was_impossible': False}),\n",
       " Prediction(uid=18526, iid=2915, r_ui=4.0, est=3.5623124193772093, details={'actual_k': 40, 'was_impossible': False}),\n",
       " Prediction(uid=24784, iid=4069, r_ui=3.0, est=2.7428629820487105, details={'actual_k': 40, 'was_impossible': False}),\n",
       " Prediction(uid=99874, iid=2052, r_ui=3.5, est=3.325510797561185, details={'actual_k': 40, 'was_impossible': False}),\n",
       " Prediction(uid=35458, iid=2594, r_ui=3.5, est=3.549944578995948, details={'actual_k': 40, 'was_impossible': False}),\n",
       " Prediction(uid=139005, iid=435, r_ui=1.5, est=2.007114274161704, details={'actual_k': 40, 'was_impossible': False}),\n",
       " Prediction(uid=60782, iid=60126, r_ui=3.0, est=3.113261177451323, details={'actual_k': 40, 'was_impossible': False}),\n",
       " Prediction(uid=76803, iid=3155, r_ui=3.0, est=3.798704287661594, details={'actual_k': 29, 'was_impossible': False}),\n",
       " Prediction(uid=152519, iid=968, r_ui=3.0, est=3.4096123551433934, details={'actual_k': 40, 'was_impossible': False}),\n",
       " Prediction(uid=100815, iid=5265, r_ui=0.5, est=0.6250521378150578, details={'actual_k': 40, 'was_impossible': False}),\n",
       " Prediction(uid=108337, iid=2722, r_ui=2.0, est=2.4993194734862474, details={'actual_k': 40, 'was_impossible': False}),\n",
       " Prediction(uid=108777, iid=45672, r_ui=3.5, est=2.9945625000434704, details={'actual_k': 40, 'was_impossible': False}),\n",
       " Prediction(uid=115734, iid=2762, r_ui=4.0, est=4.293525963097493, details={'actual_k': 35, 'was_impossible': False}),\n",
       " Prediction(uid=161398, iid=1259, r_ui=3.5, est=3.995562904122347, details={'actual_k': 40, 'was_impossible': False}),\n",
       " Prediction(uid=87690, iid=2124, r_ui=4.0, est=3.233250825770429, details={'actual_k': 6, 'was_impossible': False}),\n",
       " Prediction(uid=145218, iid=5377, r_ui=4.5, est=3.7380505569481888, details={'actual_k': 40, 'was_impossible': False}),\n",
       " Prediction(uid=122099, iid=2761, r_ui=3.0, est=3.8343416826081436, details={'actual_k': 40, 'was_impossible': False}),\n",
       " Prediction(uid=12376, iid=1204, r_ui=3.0, est=3.834168654412096, details={'actual_k': 40, 'was_impossible': False}),\n",
       " Prediction(uid=71328, iid=8636, r_ui=5.0, est=3.891567859073472, details={'actual_k': 40, 'was_impossible': False}),\n",
       " Prediction(uid=54426, iid=2413, r_ui=5.0, est=3.807763590268063, details={'actual_k': 12, 'was_impossible': False}),\n",
       " Prediction(uid=4528, iid=1527, r_ui=4.0, est=3.7603948830429865, details={'actual_k': 7, 'was_impossible': False}),\n",
       " Prediction(uid=69094, iid=1198, r_ui=4.5, est=4.41046554283158, details={'actual_k': 17, 'was_impossible': False}),\n",
       " Prediction(uid=105791, iid=1639, r_ui=4.0, est=3.6264641475448034, details={'actual_k': 40, 'was_impossible': False}),\n",
       " Prediction(uid=42007, iid=1173, r_ui=4.0, est=3.3301636091820552, details={'actual_k': 40, 'was_impossible': False}),\n",
       " Prediction(uid=126530, iid=1960, r_ui=4.0, est=3.746044524239428, details={'actual_k': 40, 'was_impossible': False}),\n",
       " Prediction(uid=133921, iid=3911, r_ui=3.0, est=3.8925092081896335, details={'actual_k': 40, 'was_impossible': False}),\n",
       " Prediction(uid=108537, iid=6664, r_ui=3.0, est=3.6332199519373605, details={'actual_k': 40, 'was_impossible': False}),\n",
       " Prediction(uid=126180, iid=1541, r_ui=2.0, est=2.472125991166031, details={'actual_k': 40, 'was_impossible': False}),\n",
       " Prediction(uid=111011, iid=152081, r_ui=3.0, est=3.9197990544433887, details={'actual_k': 16, 'was_impossible': False}),\n",
       " Prediction(uid=54353, iid=3016, r_ui=3.0, est=2.6474839280203843, details={'actual_k': 40, 'was_impossible': False}),\n",
       " Prediction(uid=33802, iid=3916, r_ui=4.0, est=3.3201841014622744, details={'actual_k': 20, 'was_impossible': False}),\n",
       " Prediction(uid=97192, iid=609, r_ui=3.0, est=3.24921626957375, details={'actual_k': 40, 'was_impossible': False}),\n",
       " Prediction(uid=93251, iid=2664, r_ui=4.0, est=3.5594679825853723, details={'actual_k': 40, 'was_impossible': False}),\n",
       " Prediction(uid=86845, iid=3396, r_ui=3.0, est=3.2009079550701767, details={'actual_k': 5, 'was_impossible': False}),\n",
       " Prediction(uid=62008, iid=98961, r_ui=5.0, est=4.072297935800563, details={'actual_k': 40, 'was_impossible': False}),\n",
       " Prediction(uid=67299, iid=1711, r_ui=5.0, est=3.382933921123017, details={'actual_k': 40, 'was_impossible': False}),\n",
       " Prediction(uid=114008, iid=519, r_ui=2.0, est=2.097111581596511, details={'actual_k': 14, 'was_impossible': False}),\n",
       " Prediction(uid=121112, iid=1513, r_ui=1.0, est=3.213229201017893, details={'actual_k': 40, 'was_impossible': False}),\n",
       " Prediction(uid=51945, iid=84601, r_ui=3.0, est=2.914667870985697, details={'actual_k': 40, 'was_impossible': False}),\n",
       " Prediction(uid=45394, iid=1305, r_ui=3.0, est=3.40156546504862, details={'actual_k': 40, 'was_impossible': False}),\n",
       " Prediction(uid=38635, iid=5445, r_ui=4.0, est=3.780902938084796, details={'actual_k': 40, 'was_impossible': False}),\n",
       " Prediction(uid=92340, iid=1217, r_ui=5.0, est=4.311447817219554, details={'actual_k': 40, 'was_impossible': False}),\n",
       " Prediction(uid=58915, iid=2167, r_ui=4.0, est=4.660337659194498, details={'actual_k': 34, 'was_impossible': False}),\n",
       " Prediction(uid=92656, iid=2762, r_ui=3.5, est=4.667044335000751, details={'actual_k': 40, 'was_impossible': False}),\n",
       " Prediction(uid=85709, iid=3744, r_ui=3.0, est=3.473652989994106, details={'actual_k': 40, 'was_impossible': False}),\n",
       " Prediction(uid=102734, iid=1717, r_ui=3.5, est=3.3132100094439307, details={'actual_k': 40, 'was_impossible': False}),\n",
       " Prediction(uid=11582, iid=6620, r_ui=4.0, est=4.009070525886669, details={'actual_k': 1, 'was_impossible': False}),\n",
       " Prediction(uid=23222, iid=2410, r_ui=3.0, est=3.1207395016802755, details={'actual_k': 40, 'was_impossible': False}),\n",
       " Prediction(uid=105351, iid=1690, r_ui=4.0, est=3.2890875730869635, details={'actual_k': 40, 'was_impossible': False}),\n",
       " Prediction(uid=149681, iid=70336, r_ui=5.0, est=3.911458799390189, details={'actual_k': 40, 'was_impossible': False}),\n",
       " Prediction(uid=31462, iid=98809, r_ui=4.5, est=3.602415033807937, details={'actual_k': 25, 'was_impossible': False}),\n",
       " Prediction(uid=26123, iid=177593, r_ui=4.0, est=4.150968694074026, details={'actual_k': 24, 'was_impossible': False}),\n",
       " Prediction(uid=146064, iid=68954, r_ui=5.0, est=4.46303305938538, details={'actual_k': 30, 'was_impossible': False}),\n",
       " Prediction(uid=4501, iid=8636, r_ui=3.5, est=3.4549620950410267, details={'actual_k': 12, 'was_impossible': False}),\n",
       " Prediction(uid=3739, iid=2383, r_ui=1.0, est=1.2398720000648562, details={'actual_k': 40, 'was_impossible': False}),\n",
       " Prediction(uid=15407, iid=122918, r_ui=5.0, est=4.664463467980203, details={'actual_k': 29, 'was_impossible': False}),\n",
       " Prediction(uid=148764, iid=2082, r_ui=0.5, est=2.7563987862443513, details={'actual_k': 40, 'was_impossible': False}),\n",
       " Prediction(uid=65791, iid=4720, r_ui=4.0, est=4.137303419903892, details={'actual_k': 40, 'was_impossible': False}),\n",
       " Prediction(uid=51851, iid=955, r_ui=5.0, est=3.8234072122260936, details={'actual_k': 40, 'was_impossible': False}),\n",
       " Prediction(uid=69321, iid=31410, r_ui=3.5, est=4.141494130045617, details={'actual_k': 40, 'was_impossible': False}),\n",
       " Prediction(uid=42328, iid=4085, r_ui=4.5, est=3.4921239029231104, details={'actual_k': 40, 'was_impossible': False}),\n",
       " Prediction(uid=77267, iid=1588, r_ui=4.5, est=2.745867640653969, details={'actual_k': 40, 'was_impossible': False}),\n",
       " Prediction(uid=63875, iid=945, r_ui=4.0, est=4.2663663676157535, details={'actual_k': 40, 'was_impossible': False}),\n",
       " Prediction(uid=42878, iid=181, r_ui=2.0, est=1.7686771728635937, details={'actual_k': 40, 'was_impossible': False}),\n",
       " Prediction(uid=52876, iid=924, r_ui=4.5, est=4.463963194411981, details={'actual_k': 37, 'was_impossible': False}),\n",
       " Prediction(uid=4080, iid=256, r_ui=3.0, est=2.7558427563633465, details={'actual_k': 5, 'was_impossible': False}),\n",
       " Prediction(uid=137330, iid=2085, r_ui=3.5, est=3.4305699308189945, details={'actual_k': 40, 'was_impossible': False}),\n",
       " Prediction(uid=151883, iid=6287, r_ui=3.5, est=2.897259516655027, details={'actual_k': 40, 'was_impossible': False}),\n",
       " Prediction(uid=162297, iid=3825, r_ui=2.0, est=2.523570827756736, details={'actual_k': 40, 'was_impossible': False}),\n",
       " Prediction(uid=128743, iid=56782, r_ui=4.0, est=3.9983371966766668, details={'actual_k': 40, 'was_impossible': False}),\n",
       " Prediction(uid=40128, iid=4306, r_ui=3.5, est=4.156508798308145, details={'actual_k': 14, 'was_impossible': False}),\n",
       " Prediction(uid=107350, iid=2987, r_ui=2.5, est=3.041120124153622, details={'actual_k': 26, 'was_impossible': False}),\n",
       " Prediction(uid=98078, iid=1957, r_ui=5.0, est=3.4706711709622664, details={'actual_k': 40, 'was_impossible': False}),\n",
       " Prediction(uid=58154, iid=1959, r_ui=4.0, est=2.9113229581910836, details={'actual_k': 7, 'was_impossible': False}),\n",
       " Prediction(uid=11912, iid=1215, r_ui=4.0, est=4.083235853990363, details={'actual_k': 24, 'was_impossible': False}),\n",
       " Prediction(uid=84016, iid=2162, r_ui=3.0, est=2.8703350811796393, details={'actual_k': 40, 'was_impossible': False}),\n",
       " Prediction(uid=64147, iid=185, r_ui=3.5, est=2.8160862930508084, details={'actual_k': 40, 'was_impossible': False}),\n",
       " Prediction(uid=104722, iid=2761, r_ui=5.0, est=4.394566067968451, details={'actual_k': 13, 'was_impossible': False}),\n",
       " Prediction(uid=6785, iid=2245, r_ui=3.5, est=3.5792304986263415, details={'actual_k': 40, 'was_impossible': False}),\n",
       " Prediction(uid=19384, iid=49274, r_ui=3.5, est=2.8342874463105394, details={'actual_k': 40, 'was_impossible': False}),\n",
       " Prediction(uid=56190, iid=4017, r_ui=4.0, est=3.760406860938451, details={'actual_k': 15, 'was_impossible': False}),\n",
       " Prediction(uid=155707, iid=290, r_ui=5.0, est=4.069977167473266, details={'actual_k': 10, 'was_impossible': False}),\n",
       " Prediction(uid=23066, iid=1953, r_ui=3.0, est=3.6949046625869735, details={'actual_k': 20, 'was_impossible': False}),\n",
       " Prediction(uid=4024, iid=1608, r_ui=4.0, est=2.895236667013858, details={'actual_k': 40, 'was_impossible': False}),\n",
       " Prediction(uid=68770, iid=509, r_ui=4.0, est=4.330949774422069, details={'actual_k': 40, 'was_impossible': False}),\n",
       " Prediction(uid=38715, iid=195159, r_ui=4.0, est=3.9702955161640205, details={'actual_k': 40, 'was_impossible': False}),\n",
       " Prediction(uid=56811, iid=1476, r_ui=3.5, est=3.9457075232684207, details={'actual_k': 19, 'was_impossible': False}),\n",
       " Prediction(uid=22774, iid=3917, r_ui=5.0, est=2.4810340688843917, details={'actual_k': 40, 'was_impossible': False}),\n",
       " Prediction(uid=125498, iid=1244, r_ui=4.0, est=4.599729640253917, details={'actual_k': 11, 'was_impossible': False}),\n",
       " Prediction(uid=64904, iid=527, r_ui=5.0, est=4.122693854280688, details={'actual_k': 2, 'was_impossible': False}),\n",
       " Prediction(uid=112348, iid=880, r_ui=2.0, est=2.3014410380653443, details={'actual_k': 34, 'was_impossible': False}),\n",
       " Prediction(uid=58954, iid=3451, r_ui=4.0, est=4.214045862435551, details={'actual_k': 40, 'was_impossible': False}),\n",
       " Prediction(uid=38662, iid=2463, r_ui=3.0, est=3.395351850785625, details={'actual_k': 40, 'was_impossible': False}),\n",
       " Prediction(uid=787, iid=4008, r_ui=3.5, est=3.289908613393965, details={'actual_k': 37, 'was_impossible': False}),\n",
       " Prediction(uid=126718, iid=3067, r_ui=4.5, est=3.973372701585723, details={'actual_k': 24, 'was_impossible': False}),\n",
       " Prediction(uid=150786, iid=7156, r_ui=5.0, est=4.50138416363016, details={'actual_k': 40, 'was_impossible': False}),\n",
       " Prediction(uid=51159, iid=2841, r_ui=3.0, est=3.4442462728028533, details={'actual_k': 36, 'was_impossible': False}),\n",
       " Prediction(uid=117348, iid=1974, r_ui=3.0, est=2.8041071024106676, details={'actual_k': 40, 'was_impossible': False}),\n",
       " Prediction(uid=2497, iid=64969, r_ui=3.0, est=3.9688594488955804, details={'actual_k': 25, 'was_impossible': False}),\n",
       " Prediction(uid=54820, iid=40815, r_ui=4.0, est=3.9756181177564733, details={'actual_k': 4, 'was_impossible': False}),\n",
       " Prediction(uid=6025, iid=1702, r_ui=3.0, est=2.430610506430085, details={'actual_k': 40, 'was_impossible': False}),\n",
       " Prediction(uid=113833, iid=21, r_ui=4.0, est=4.3875565196909445, details={'actual_k': 6, 'was_impossible': False}),\n",
       " Prediction(uid=94464, iid=4720, r_ui=3.5, est=3.713258822617898, details={'actual_k': 40, 'was_impossible': False}),\n",
       " Prediction(uid=12891, iid=52885, r_ui=4.0, est=3.699020915230502, details={'actual_k': 40, 'was_impossible': False}),\n",
       " Prediction(uid=89155, iid=88, r_ui=2.5, est=2.713108893548802, details={'actual_k': 35, 'was_impossible': False}),\n",
       " Prediction(uid=115768, iid=1347, r_ui=3.0, est=2.639719071845783, details={'actual_k': 8, 'was_impossible': False}),\n",
       " Prediction(uid=16247, iid=8957, r_ui=1.0, est=3.2035768539841603, details={'actual_k': 40, 'was_impossible': False}),\n",
       " Prediction(uid=128466, iid=6874, r_ui=5.0, est=4.390332901131473, details={'actual_k': 40, 'was_impossible': False}),\n",
       " Prediction(uid=92314, iid=68157, r_ui=5.0, est=4.514410907055595, details={'actual_k': 11, 'was_impossible': False}),\n",
       " Prediction(uid=46297, iid=46, r_ui=2.0, est=2.0553152558742305, details={'actual_k': 40, 'was_impossible': False}),\n",
       " Prediction(uid=30163, iid=4022, r_ui=3.0, est=3.5849864451986906, details={'actual_k': 40, 'was_impossible': False}),\n",
       " Prediction(uid=84752, iid=383, r_ui=2.5, est=2.8304370880888343, details={'actual_k': 40, 'was_impossible': False}),\n",
       " Prediction(uid=60818, iid=6440, r_ui=4.5, est=3.9641167646904307, details={'actual_k': 40, 'was_impossible': False}),\n",
       " Prediction(uid=919, iid=3252, r_ui=4.5, est=4.3356107809017095, details={'actual_k': 40, 'was_impossible': False}),\n",
       " Prediction(uid=102448, iid=52604, r_ui=1.5, est=2.5276626119708645, details={'actual_k': 40, 'was_impossible': False}),\n",
       " Prediction(uid=108491, iid=135536, r_ui=3.5, est=3.5406593935312896, details={'actual_k': 40, 'was_impossible': False}),\n",
       " Prediction(uid=90403, iid=2420, r_ui=4.0, est=3.6624221415526903, details={'actual_k': 40, 'was_impossible': False}),\n",
       " Prediction(uid=105562, iid=6218, r_ui=4.0, est=3.247987692325518, details={'actual_k': 26, 'was_impossible': False}),\n",
       " Prediction(uid=146417, iid=1343, r_ui=4.0, est=3.8431536532880717, details={'actual_k': 40, 'was_impossible': False}),\n",
       " Prediction(uid=38642, iid=2759, r_ui=2.0, est=2.7046959031169284, details={'actual_k': 8, 'was_impossible': False}),\n",
       " Prediction(uid=126253, iid=3062, r_ui=3.0, est=4.113301920891532, details={'actual_k': 10, 'was_impossible': False}),\n",
       " Prediction(uid=73873, iid=111781, r_ui=5.0, est=4.400886598088565, details={'actual_k': 4, 'was_impossible': False}),\n",
       " Prediction(uid=99158, iid=3328, r_ui=4.0, est=4.186846889566437, details={'actual_k': 40, 'was_impossible': False}),\n",
       " Prediction(uid=31481, iid=2572, r_ui=4.0, est=3.288150591902268, details={'actual_k': 40, 'was_impossible': False}),\n",
       " Prediction(uid=159474, iid=112183, r_ui=3.5, est=4.014710002978338, details={'actual_k': 39, 'was_impossible': False}),\n",
       " Prediction(uid=102369, iid=709, r_ui=3.0, est=3.292083454613873, details={'actual_k': 13, 'was_impossible': False}),\n",
       " Prediction(uid=86961, iid=688, r_ui=3.0, est=2.007989374230548, details={'actual_k': 23, 'was_impossible': False}),\n",
       " Prediction(uid=115757, iid=2454, r_ui=4.0, est=2.88347730666311, details={'actual_k': 40, 'was_impossible': False}),\n",
       " Prediction(uid=92495, iid=2420, r_ui=2.5, est=2.54583265070834, details={'actual_k': 40, 'was_impossible': False}),\n",
       " Prediction(uid=45221, iid=51086, r_ui=3.5, est=2.80813248239813, details={'actual_k': 40, 'was_impossible': False}),\n",
       " Prediction(uid=54830, iid=435, r_ui=2.5, est=2.7366167437252082, details={'actual_k': 27, 'was_impossible': False}),\n",
       " Prediction(uid=70392, iid=8360, r_ui=4.0, est=3.4582884628677433, details={'actual_k': 24, 'was_impossible': False}),\n",
       " Prediction(uid=136402, iid=1300, r_ui=5.0, est=4.4482468665782315, details={'actual_k': 40, 'was_impossible': False}),\n",
       " Prediction(uid=154517, iid=3512, r_ui=5.0, est=3.884153643602675, details={'actual_k': 14, 'was_impossible': False}),\n",
       " Prediction(uid=32431, iid=53953, r_ui=3.0, est=2.8650626742613965, details={'actual_k': 40, 'was_impossible': False}),\n",
       " Prediction(uid=98057, iid=4239, r_ui=5.0, est=3.6640610457636087, details={'actual_k': 31, 'was_impossible': False}),\n",
       " Prediction(uid=84516, iid=1257, r_ui=3.5, est=3.6305143194643783, details={'actual_k': 40, 'was_impossible': False}),\n",
       " Prediction(uid=89347, iid=5064, r_ui=3.5, est=3.9309914674114315, details={'actual_k': 40, 'was_impossible': False}),\n",
       " Prediction(uid=46806, iid=162414, r_ui=4.0, est=3.9846044502775673, details={'actual_k': 40, 'was_impossible': False}),\n",
       " Prediction(uid=107073, iid=1243, r_ui=5.0, est=4.6072438938951015, details={'actual_k': 15, 'was_impossible': False}),\n",
       " Prediction(uid=152168, iid=2394, r_ui=3.5, est=3.2966281737441383, details={'actual_k': 40, 'was_impossible': False}),\n",
       " Prediction(uid=131542, iid=2019, r_ui=4.0, est=4.258630744780796, details={'actual_k': 31, 'was_impossible': False}),\n",
       " Prediction(uid=45485, iid=500, r_ui=4.0, est=3.9641110021719994, details={'actual_k': 40, 'was_impossible': False}),\n",
       " Prediction(uid=111266, iid=1681, r_ui=1.0, est=2.274831438160713, details={'actual_k': 40, 'was_impossible': False}),\n",
       " Prediction(uid=14613, iid=6764, r_ui=1.0, est=2.85072153428428, details={'actual_k': 40, 'was_impossible': False}),\n",
       " Prediction(uid=68568, iid=108932, r_ui=4.0, est=3.873679760665892, details={'actual_k': 11, 'was_impossible': False}),\n",
       " Prediction(uid=72009, iid=2794, r_ui=3.0, est=3.355985814186502, details={'actual_k': 40, 'was_impossible': False}),\n",
       " Prediction(uid=162484, iid=1186, r_ui=3.0, est=3.0789567597888294, details={'actual_k': 40, 'was_impossible': False}),\n",
       " Prediction(uid=114460, iid=2890, r_ui=3.5, est=3.4957627498383967, details={'actual_k': 40, 'was_impossible': False}),\n",
       " Prediction(uid=139523, iid=446, r_ui=4.5, est=3.597329542292434, details={'actual_k': 40, 'was_impossible': False}),\n",
       " Prediction(uid=80453, iid=223, r_ui=3.0, est=3.2259280908200747, details={'actual_k': 5, 'was_impossible': False}),\n",
       " Prediction(uid=110340, iid=56145, r_ui=4.0, est=3.449735262414, details={'actual_k': 40, 'was_impossible': False}),\n",
       " Prediction(uid=25295, iid=1461, r_ui=3.0, est=3.361138563596758, details={'actual_k': 7, 'was_impossible': False}),\n",
       " Prediction(uid=4709, iid=5507, r_ui=3.0, est=2.7749782482024377, details={'actual_k': 40, 'was_impossible': False}),\n",
       " Prediction(uid=31948, iid=289, r_ui=3.0, est=3.468367044805801, details={'actual_k': 10, 'was_impossible': False}),\n",
       " Prediction(uid=54274, iid=1952, r_ui=5.0, est=4.240131106442988, details={'actual_k': 37, 'was_impossible': False}),\n",
       " Prediction(uid=38588, iid=46335, r_ui=3.5, est=3.0583575573716404, details={'actual_k': 40, 'was_impossible': False}),\n",
       " Prediction(uid=102109, iid=5378, r_ui=4.0, est=3.248823919533465, details={'actual_k': 40, 'was_impossible': False}),\n",
       " Prediction(uid=117798, iid=108190, r_ui=2.5, est=3.9999293357464754, details={'actual_k': 40, 'was_impossible': False}),\n",
       " Prediction(uid=92257, iid=86882, r_ui=2.5, est=3.9557316951918113, details={'actual_k': 40, 'was_impossible': False}),\n",
       " Prediction(uid=146297, iid=911, r_ui=4.0, est=4.035162085836945, details={'actual_k': 40, 'was_impossible': False}),\n",
       " Prediction(uid=112779, iid=112852, r_ui=3.5, est=4.503123590576605, details={'actual_k': 24, 'was_impossible': False}),\n",
       " Prediction(uid=77657, iid=3535, r_ui=1.0, est=3.76929995877189, details={'actual_k': 40, 'was_impossible': False}),\n",
       " Prediction(uid=5114, iid=133771, r_ui=2.0, est=3.0085409723491217, details={'actual_k': 40, 'was_impossible': False}),\n",
       " Prediction(uid=7785, iid=4958, r_ui=0.5, est=2.4377542415238214, details={'actual_k': 17, 'was_impossible': False}),\n",
       " Prediction(uid=128290, iid=784, r_ui=2.0, est=2.371476686609923, details={'actual_k': 40, 'was_impossible': False}),\n",
       " Prediction(uid=131368, iid=1892, r_ui=4.0, est=3.417928973856836, details={'actual_k': 40, 'was_impossible': False}),\n",
       " Prediction(uid=158474, iid=37729, r_ui=4.0, est=3.344450510813541, details={'actual_k': 40, 'was_impossible': False}),\n",
       " Prediction(uid=88213, iid=1409, r_ui=3.0, est=2.5609730568952553, details={'actual_k': 40, 'was_impossible': False}),\n",
       " Prediction(uid=11258, iid=67408, r_ui=3.0, est=2.8973672141011333, details={'actual_k': 40, 'was_impossible': False}),\n",
       " Prediction(uid=74462, iid=1674, r_ui=4.0, est=3.9875090693475777, details={'actual_k': 38, 'was_impossible': False}),\n",
       " Prediction(uid=103680, iid=1278, r_ui=3.5, est=3.2098276644298016, details={'actual_k': 40, 'was_impossible': False}),\n",
       " Prediction(uid=108326, iid=1103, r_ui=4.0, est=3.852746885582679, details={'actual_k': 40, 'was_impossible': False}),\n",
       " Prediction(uid=131987, iid=70286, r_ui=4.5, est=3.647945834321282, details={'actual_k': 40, 'was_impossible': False}),\n",
       " Prediction(uid=155970, iid=10, r_ui=4.0, est=3.6919176916087255, details={'actual_k': 40, 'was_impossible': False}),\n",
       " Prediction(uid=102174, iid=594, r_ui=3.5, est=3.9670787704996657, details={'actual_k': 40, 'was_impossible': False}),\n",
       " Prediction(uid=23206, iid=63992, r_ui=5.0, est=2.962309841107226, details={'actual_k': 40, 'was_impossible': False}),\n",
       " Prediction(uid=9116, iid=8910, r_ui=3.5, est=3.39659207384588, details={'actual_k': 40, 'was_impossible': False}),\n",
       " Prediction(uid=71276, iid=968, r_ui=5.0, est=4.285163862133137, details={'actual_k': 40, 'was_impossible': False}),\n",
       " Prediction(uid=95798, iid=1927, r_ui=5.0, est=4.098187921039587, details={'actual_k': 40, 'was_impossible': False}),\n",
       " Prediction(uid=75287, iid=106918, r_ui=3.5, est=3.2346689715662924, details={'actual_k': 40, 'was_impossible': False}),\n",
       " Prediction(uid=3289, iid=1747, r_ui=1.0, est=4.476982971829302, details={'actual_k': 4, 'was_impossible': False}),\n",
       " Prediction(uid=112130, iid=5679, r_ui=3.5, est=3.332903435008263, details={'actual_k': 40, 'was_impossible': False}),\n",
       " Prediction(uid=37982, iid=40815, r_ui=5.0, est=4.715339835827637, details={'actual_k': 40, 'was_impossible': False}),\n",
       " Prediction(uid=13415, iid=67087, r_ui=3.0, est=3.7467554753356125, details={'actual_k': 28, 'was_impossible': False}),\n",
       " Prediction(uid=147496, iid=2396, r_ui=4.0, est=4.027519466277297, details={'actual_k': 40, 'was_impossible': False}),\n",
       " Prediction(uid=52980, iid=1198, r_ui=5.0, est=4.4288564033924285, details={'actual_k': 10, 'was_impossible': False}),\n",
       " Prediction(uid=135457, iid=1907, r_ui=4.0, est=3.3862616538755757, details={'actual_k': 40, 'was_impossible': False}),\n",
       " Prediction(uid=23535, iid=2025, r_ui=4.5, est=3.7052674881619794, details={'actual_k': 40, 'was_impossible': False}),\n",
       " Prediction(uid=45743, iid=22, r_ui=4.0, est=3.562917728531786, details={'actual_k': 3, 'was_impossible': False}),\n",
       " Prediction(uid=36219, iid=1, r_ui=4.5, est=4.047850413428413, details={'actual_k': 40, 'was_impossible': False}),\n",
       " Prediction(uid=3783, iid=1957, r_ui=5.0, est=4.4476214358146295, details={'actual_k': 25, 'was_impossible': False}),\n",
       " Prediction(uid=40636, iid=42, r_ui=3.0, est=2.0619525691637706, details={'actual_k': 40, 'was_impossible': False}),\n",
       " Prediction(uid=1132, iid=2951, r_ui=4.0, est=2.9570017406880087, details={'actual_k': 9, 'was_impossible': False}),\n",
       " Prediction(uid=2379, iid=2861, r_ui=1.5, est=2.6380713669828304, details={'actual_k': 40, 'was_impossible': False}),\n",
       " Prediction(uid=96536, iid=2642, r_ui=0.5, est=1.569584252191266, details={'actual_k': 40, 'was_impossible': False}),\n",
       " Prediction(uid=143949, iid=419, r_ui=3.0, est=2.8880848978768343, details={'actual_k': 40, 'was_impossible': False}),\n",
       " Prediction(uid=15125, iid=996, r_ui=3.0, est=3.491969072296598, details={'actual_k': 40, 'was_impossible': False}),\n",
       " Prediction(uid=64019, iid=52281, r_ui=3.5, est=3.7509713779968927, details={'actual_k': 40, 'was_impossible': False}),\n",
       " Prediction(uid=34636, iid=4084, r_ui=3.5, est=3.4071894894646704, details={'actual_k': 40, 'was_impossible': False}),\n",
       " Prediction(uid=118453, iid=1541, r_ui=3.0, est=3.457489154136131, details={'actual_k': 40, 'was_impossible': False}),\n",
       " Prediction(uid=35599, iid=367, r_ui=2.5, est=3.3785086501539876, details={'actual_k': 8, 'was_impossible': False}),\n",
       " Prediction(uid=139314, iid=519, r_ui=1.0, est=2.2929267338460595, details={'actual_k': 34, 'was_impossible': False}),\n",
       " Prediction(uid=101755, iid=1690, r_ui=4.0, est=4.7588298366306505, details={'actual_k': 8, 'was_impossible': False}),\n",
       " Prediction(uid=63401, iid=2, r_ui=3.0, est=2.4040459271790895, details={'actual_k': 5, 'was_impossible': False}),\n",
       " Prediction(uid=77544, iid=1835, r_ui=3.0, est=3.767923348004296, details={'actual_k': 40, 'was_impossible': False}),\n",
       " Prediction(uid=145304, iid=1799, r_ui=4.0, est=3.4720932656943644, details={'actual_k': 40, 'was_impossible': False}),\n",
       " Prediction(uid=30732, iid=904, r_ui=3.5, est=4.232650508966662, details={'actual_k': 40, 'was_impossible': False}),\n",
       " Prediction(uid=32051, iid=85, r_ui=3.0, est=3.3102962362328157, details={'actual_k': 4, 'was_impossible': False}),\n",
       " Prediction(uid=37354, iid=3147, r_ui=4.0, est=4.014176609732171, details={'actual_k': 20, 'was_impossible': False}),\n",
       " Prediction(uid=118616, iid=719, r_ui=1.0, est=2.729399587117724, details={'actual_k': 40, 'was_impossible': False}),\n",
       " Prediction(uid=37254, iid=1253, r_ui=5.0, est=4.712049441965078, details={'actual_k': 40, 'was_impossible': False}),\n",
       " Prediction(uid=155791, iid=748, r_ui=3.0, est=3.632736091379923, details={'actual_k': 40, 'was_impossible': False}),\n",
       " Prediction(uid=14521, iid=1093, r_ui=4.0, est=3.15872236159467, details={'actual_k': 35, 'was_impossible': False}),\n",
       " Prediction(uid=106706, iid=5378, r_ui=1.0, est=2.671366560493522, details={'actual_k': 40, 'was_impossible': False}),\n",
       " Prediction(uid=70678, iid=7458, r_ui=4.0, est=3.681079707093878, details={'actual_k': 40, 'was_impossible': False}),\n",
       " Prediction(uid=94751, iid=1974, r_ui=3.0, est=2.8534600964395698, details={'actual_k': 40, 'was_impossible': False}),\n",
       " Prediction(uid=3916, iid=799, r_ui=4.0, est=4.462234020045843, details={'actual_k': 19, 'was_impossible': False}),\n",
       " Prediction(uid=31269, iid=3861, r_ui=0.5, est=3.5744069137491614, details={'actual_k': 4, 'was_impossible': False}),\n",
       " Prediction(uid=109362, iid=3307, r_ui=4.0, est=4.302622870840043, details={'actual_k': 15, 'was_impossible': False}),\n",
       " Prediction(uid=122337, iid=2243, r_ui=3.0, est=3.8107424323950907, details={'actual_k': 40, 'was_impossible': False}),\n",
       " Prediction(uid=151049, iid=1194, r_ui=2.0, est=2.622179136190116, details={'actual_k': 40, 'was_impossible': False}),\n",
       " Prediction(uid=72210, iid=514, r_ui=2.0, est=3.029338743631453, details={'actual_k': 40, 'was_impossible': False}),\n",
       " Prediction(uid=22875, iid=2078, r_ui=4.0, est=3.415367222517275, details={'actual_k': 40, 'was_impossible': False}),\n",
       " Prediction(uid=60779, iid=750, r_ui=3.5, est=3.8804898469054323, details={'actual_k': 31, 'was_impossible': False}),\n",
       " Prediction(uid=14730, iid=322, r_ui=4.0, est=3.887735639266407, details={'actual_k': 40, 'was_impossible': False}),\n",
       " Prediction(uid=130525, iid=1032, r_ui=3.0, est=3.6197013889648155, details={'actual_k': 40, 'was_impossible': False}),\n",
       " Prediction(uid=55996, iid=67734, r_ui=3.0, est=3.303662813817852, details={'actual_k': 40, 'was_impossible': False}),\n",
       " Prediction(uid=57467, iid=1597, r_ui=4.0, est=2.9693736781636213, details={'actual_k': 40, 'was_impossible': False}),\n",
       " Prediction(uid=123589, iid=450, r_ui=3.0, est=3.1867390874239914, details={'actual_k': 26, 'was_impossible': False}),\n",
       " Prediction(uid=11315, iid=55995, r_ui=4.0, est=3.567884772702261, details={'actual_k': 40, 'was_impossible': False}),\n",
       " Prediction(uid=83077, iid=1172, r_ui=3.0, est=3.762279193440284, details={'actual_k': 40, 'was_impossible': False}),\n",
       " Prediction(uid=70023, iid=3979, r_ui=3.5, est=2.7922669148635664, details={'actual_k': 40, 'was_impossible': False}),\n",
       " Prediction(uid=51729, iid=4102, r_ui=3.0, est=3.8152247302535027, details={'actual_k': 40, 'was_impossible': False}),\n",
       " Prediction(uid=23163, iid=2082, r_ui=1.0, est=2.7790172863744695, details={'actual_k': 28, 'was_impossible': False}),\n",
       " Prediction(uid=122973, iid=1041, r_ui=3.0, est=4.166169632398129, details={'actual_k': 40, 'was_impossible': False}),\n",
       " Prediction(uid=142278, iid=1845, r_ui=3.5, est=3.3395958234906433, details={'actual_k': 40, 'was_impossible': False}),\n",
       " Prediction(uid=122803, iid=4865, r_ui=5.0, est=3.754828073019509, details={'actual_k': 40, 'was_impossible': False}),\n",
       " Prediction(uid=65404, iid=4027, r_ui=4.5, est=4.045318791243449, details={'actual_k': 40, 'was_impossible': False}),\n",
       " Prediction(uid=35234, iid=163, r_ui=4.5, est=3.7105302136251535, details={'actual_k': 40, 'was_impossible': False}),\n",
       " Prediction(uid=5713, iid=1200, r_ui=4.5, est=4.294740972859701, details={'actual_k': 23, 'was_impossible': False}),\n",
       " Prediction(uid=31447, iid=3967, r_ui=5.0, est=4.52094096773085, details={'actual_k': 15, 'was_impossible': False}),\n",
       " Prediction(uid=114978, iid=4816, r_ui=4.0, est=3.3388833360702446, details={'actual_k': 39, 'was_impossible': False}),\n",
       " Prediction(uid=11331, iid=1597, r_ui=4.0, est=3.6592458803693146, details={'actual_k': 16, 'was_impossible': False}),\n",
       " Prediction(uid=157678, iid=2985, r_ui=3.0, est=3.0370831488763232, details={'actual_k': 36, 'was_impossible': False}),\n",
       " Prediction(uid=148510, iid=115210, r_ui=3.0, est=3.7333653251679078, details={'actual_k': 40, 'was_impossible': False}),\n",
       " Prediction(uid=118674, iid=97938, r_ui=3.5, est=3.482968861334303, details={'actual_k': 40, 'was_impossible': False}),\n",
       " Prediction(uid=104681, iid=1088, r_ui=2.0, est=2.935036638935905, details={'actual_k': 40, 'was_impossible': False}),\n",
       " Prediction(uid=100225, iid=1258, r_ui=5.0, est=4.195866846403268, details={'actual_k': 40, 'was_impossible': False}),\n",
       " Prediction(uid=59258, iid=8360, r_ui=4.5, est=4.523485563047133, details={'actual_k': 21, 'was_impossible': False}),\n",
       " Prediction(uid=130070, iid=60074, r_ui=3.0, est=3.3968239162558307, details={'actual_k': 40, 'was_impossible': False}),\n",
       " Prediction(uid=29952, iid=162, r_ui=4.0, est=4.486517069799579, details={'actual_k': 40, 'was_impossible': False}),\n",
       " Prediction(uid=68196, iid=1049, r_ui=4.0, est=3.2334692725370706, details={'actual_k': 40, 'was_impossible': False}),\n",
       " Prediction(uid=125655, iid=1059, r_ui=3.0, est=3.854704390001563, details={'actual_k': 40, 'was_impossible': False}),\n",
       " Prediction(uid=147816, iid=42723, r_ui=0.5, est=2.489182475540168, details={'actual_k': 40, 'was_impossible': False}),\n",
       " Prediction(uid=32166, iid=3949, r_ui=4.5, est=4.107611309755676, details={'actual_k': 40, 'was_impossible': False}),\n",
       " Prediction(uid=12261, iid=3688, r_ui=3.0, est=2.126392099748586, details={'actual_k': 40, 'was_impossible': False}),\n",
       " Prediction(uid=31329, iid=4008, r_ui=4.5, est=3.324987203628122, details={'actual_k': 40, 'was_impossible': False}),\n",
       " Prediction(uid=97583, iid=1713, r_ui=2.0, est=3.156280876927924, details={'actual_k': 40, 'was_impossible': False}),\n",
       " Prediction(uid=59418, iid=3317, r_ui=1.5, est=1.5588503632302029, details={'actual_k': 40, 'was_impossible': False}),\n",
       " Prediction(uid=77278, iid=39292, r_ui=4.0, est=4.189334563456194, details={'actual_k': 40, 'was_impossible': False}),\n",
       " Prediction(uid=64405, iid=84152, r_ui=4.0, est=4.390272054115944, details={'actual_k': 31, 'was_impossible': False}),\n",
       " Prediction(uid=121934, iid=30749, r_ui=4.0, est=3.9546494560542467, details={'actual_k': 40, 'was_impossible': False}),\n",
       " Prediction(uid=86629, iid=2145, r_ui=3.5, est=3.390969568330677, details={'actual_k': 40, 'was_impossible': False}),\n",
       " Prediction(uid=41404, iid=2389, r_ui=4.0, est=0.9189515324278368, details={'actual_k': 40, 'was_impossible': False}),\n",
       " Prediction(uid=30013, iid=7162, r_ui=4.5, est=3.5735621099265016, details={'actual_k': 40, 'was_impossible': False}),\n",
       " Prediction(uid=52646, iid=106782, r_ui=4.0, est=3.610879192524413, details={'actual_k': 24, 'was_impossible': False}),\n",
       " Prediction(uid=100766, iid=48877, r_ui=2.5, est=2.586803959215758, details={'actual_k': 40, 'was_impossible': False}),\n",
       " Prediction(uid=125478, iid=260, r_ui=3.0, est=4.185989131885648, details={'actual_k': 40, 'was_impossible': False}),\n",
       " Prediction(uid=79931, iid=89753, r_ui=3.0, est=3.9092001443423303, details={'actual_k': 40, 'was_impossible': False}),\n",
       " Prediction(uid=31835, iid=2186, r_ui=4.0, est=3.8186226940674244, details={'actual_k': 11, 'was_impossible': False}),\n",
       " Prediction(uid=122025, iid=2090, r_ui=3.0, est=3.6323455584720272, details={'actual_k': 40, 'was_impossible': False}),\n",
       " Prediction(uid=140438, iid=5103, r_ui=3.0, est=3.129876612803044, details={'actual_k': 40, 'was_impossible': False}),\n",
       " Prediction(uid=93711, iid=780, r_ui=3.5, est=3.5989046244858405, details={'actual_k': 40, 'was_impossible': False}),\n",
       " Prediction(uid=46511, iid=2003, r_ui=3.0, est=3.267098102340436, details={'actual_k': 30, 'was_impossible': False}),\n",
       " Prediction(uid=94252, iid=34, r_ui=2.0, est=2.9211724122778793, details={'actual_k': 9, 'was_impossible': False}),\n",
       " Prediction(uid=12145, iid=7346, r_ui=4.0, est=3.5789847770276806, details={'actual_k': 40, 'was_impossible': False}),\n",
       " Prediction(uid=137991, iid=2657, r_ui=3.0, est=3.138521511417516, details={'actual_k': 40, 'was_impossible': False}),\n",
       " Prediction(uid=119718, iid=1371, r_ui=1.0, est=3.4789882098653435, details={'actual_k': 40, 'was_impossible': False}),\n",
       " Prediction(uid=90772, iid=4958, r_ui=4.0, est=3.5401827459002666, details={'actual_k': 19, 'was_impossible': False}),\n",
       " Prediction(uid=121634, iid=858, r_ui=4.5, est=4.281158049904708, details={'actual_k': 8, 'was_impossible': False}),\n",
       " Prediction(uid=26314, iid=413, r_ui=2.5, est=2.6540444367213794, details={'actual_k': 40, 'was_impossible': False}),\n",
       " Prediction(uid=162394, iid=45501, r_ui=0.5, est=2.0107026713116656, details={'actual_k': 40, 'was_impossible': False}),\n",
       " Prediction(uid=33019, iid=54001, r_ui=3.5, est=4.425784005300556, details={'actual_k': 40, 'was_impossible': False}),\n",
       " Prediction(uid=36477, iid=5418, r_ui=1.0, est=3.4578259758643, details={'actual_k': 40, 'was_impossible': False}),\n",
       " Prediction(uid=91853, iid=44, r_ui=4.0, est=3.0716924478319267, details={'actual_k': 9, 'was_impossible': False}),\n",
       " Prediction(uid=91609, iid=6059, r_ui=3.5, est=4.147269663266165, details={'actual_k': 13, 'was_impossible': False}),\n",
       " Prediction(uid=44371, iid=6807, r_ui=5.0, est=4.089297365057341, details={'actual_k': 40, 'was_impossible': False}),\n",
       " Prediction(uid=149620, iid=1247, r_ui=4.0, est=4.27898573855917, details={'actual_k': 16, 'was_impossible': False}),\n",
       " Prediction(uid=161614, iid=4027, r_ui=4.0, est=3.9591372553424815, details={'actual_k': 32, 'was_impossible': False}),\n",
       " Prediction(uid=76448, iid=33794, r_ui=4.0, est=3.6772967042026896, details={'actual_k': 40, 'was_impossible': False}),\n",
       " Prediction(uid=13412, iid=805, r_ui=4.5, est=4.148434903101549, details={'actual_k': 40, 'was_impossible': False}),\n",
       " Prediction(uid=83925, iid=333, r_ui=3.5, est=3.1944081812452305, details={'actual_k': 40, 'was_impossible': False}),\n",
       " Prediction(uid=149549, iid=50, r_ui=4.5, est=4.451468098639706, details={'actual_k': 3, 'was_impossible': False}),\n",
       " Prediction(uid=28586, iid=475, r_ui=4.0, est=3.8656380934725316, details={'actual_k': 40, 'was_impossible': False}),\n",
       " Prediction(uid=126477, iid=140110, r_ui=4.0, est=3.778570922555615, details={'actual_k': 40, 'was_impossible': False}),\n",
       " Prediction(uid=59631, iid=55442, r_ui=5.0, est=4.758072549243694, details={'actual_k': 32, 'was_impossible': False}),\n",
       " Prediction(uid=134057, iid=1748, r_ui=4.0, est=4.243987765132607, details={'actual_k': 10, 'was_impossible': False}),\n",
       " Prediction(uid=114399, iid=4149, r_ui=2.5, est=2.5638215525650256, details={'actual_k': 40, 'was_impossible': False}),\n",
       " Prediction(uid=72393, iid=300, r_ui=4.0, est=3.9774864833064716, details={'actual_k': 7, 'was_impossible': False}),\n",
       " Prediction(uid=123701, iid=5618, r_ui=5.0, est=5.0, details={'actual_k': 15, 'was_impossible': False}),\n",
       " Prediction(uid=73362, iid=36517, r_ui=3.5, est=3.527653716894503, details={'actual_k': 35, 'was_impossible': False}),\n",
       " Prediction(uid=20471, iid=169, r_ui=3.0, est=2.8636732623106185, details={'actual_k': 40, 'was_impossible': False}),\n",
       " Prediction(uid=109310, iid=1499, r_ui=3.0, est=2.622293374982506, details={'actual_k': 40, 'was_impossible': False}),\n",
       " Prediction(uid=125493, iid=4776, r_ui=3.5, est=3.4308792945666178, details={'actual_k': 40, 'was_impossible': False}),\n",
       " Prediction(uid=90386, iid=5679, r_ui=5.0, est=2.9635670043513347, details={'actual_k': 40, 'was_impossible': False}),\n",
       " Prediction(uid=133463, iid=112623, r_ui=3.5, est=3.96563403598146, details={'actual_k': 40, 'was_impossible': False}),\n",
       " Prediction(uid=58843, iid=316, r_ui=4.5, est=3.8408615601498814, details={'actual_k': 40, 'was_impossible': False}),\n",
       " Prediction(uid=115272, iid=57669, r_ui=5.0, est=3.649343246147887, details={'actual_k': 19, 'was_impossible': False}),\n",
       " Prediction(uid=146796, iid=194, r_ui=2.5, est=4.901229030888137, details={'actual_k': 6, 'was_impossible': False}),\n",
       " Prediction(uid=83975, iid=2716, r_ui=4.0, est=4.201941146692648, details={'actual_k': 40, 'was_impossible': False}),\n",
       " Prediction(uid=100167, iid=1257, r_ui=3.0, est=3.4948571635569765, details={'actual_k': 29, 'was_impossible': False}),\n",
       " Prediction(uid=156184, iid=5464, r_ui=3.0, est=3.4159619634850933, details={'actual_k': 40, 'was_impossible': False}),\n",
       " Prediction(uid=31578, iid=435, r_ui=1.5, est=1.9291273634178256, details={'actual_k': 40, 'was_impossible': False}),\n",
       " Prediction(uid=63918, iid=4963, r_ui=3.0, est=2.9779018537343083, details={'actual_k': 40, 'was_impossible': False}),\n",
       " Prediction(uid=127504, iid=783, r_ui=2.5, est=2.683443710440427, details={'actual_k': 9, 'was_impossible': False}),\n",
       " Prediction(uid=29072, iid=1914, r_ui=3.5, est=3.8845155641346567, details={'actual_k': 40, 'was_impossible': False}),\n",
       " Prediction(uid=15703, iid=2087, r_ui=2.5, est=3.061389350028276, details={'actual_k': 40, 'was_impossible': False}),\n",
       " ...]"
      ]
     },
     "execution_count": 17,
     "metadata": {},
     "output_type": "execute_result"
    }
   ],
   "source": [
    "predictions."
   ]
  }
 ],
 "metadata": {
  "kernelspec": {
   "display_name": "Python 3",
   "language": "python",
   "name": "python3"
  },
  "language_info": {
   "codemirror_mode": {
    "name": "ipython",
    "version": 3
   },
   "file_extension": ".py",
   "mimetype": "text/x-python",
   "name": "python",
   "nbconvert_exporter": "python",
   "pygments_lexer": "ipython3",
   "version": "3.12.1"
  }
 },
 "nbformat": 4,
 "nbformat_minor": 2
}
