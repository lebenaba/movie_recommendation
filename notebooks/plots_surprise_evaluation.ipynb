{
 "cells": [
  {
   "cell_type": "code",
   "execution_count": 46,
   "metadata": {},
   "outputs": [],
   "source": [
    "import warnings\n",
    "import joblib\n",
    "import plotly.graph_objects as go \n",
    "from plotly.subplots import make_subplots\n",
    "import pandas as pd\n",
    "\n",
    "warnings.filterwarnings('ignore', category=FutureWarning)\n"
   ]
  },
  {
   "cell_type": "markdown",
   "metadata": {},
   "source": [
    "<div class=\"alert alert-block alert-danger\"><b>Caution:</b> Always clear all output before pushing to GitHub to reduce size!</div>"
   ]
  },
  {
   "cell_type": "markdown",
   "metadata": {},
   "source": [
    "### Import cv_results (dict) and transform to DataFrame"
   ]
  },
  {
   "cell_type": "code",
   "execution_count": 116,
   "metadata": {},
   "outputs": [
    {
     "data": {
      "text/html": [
       "<div>\n",
       "<style scoped>\n",
       "    .dataframe tbody tr th:only-of-type {\n",
       "        vertical-align: middle;\n",
       "    }\n",
       "\n",
       "    .dataframe tbody tr th {\n",
       "        vertical-align: top;\n",
       "    }\n",
       "\n",
       "    .dataframe thead th {\n",
       "        text-align: right;\n",
       "    }\n",
       "</style>\n",
       "<table border=\"1\" class=\"dataframe\">\n",
       "  <thead>\n",
       "    <tr style=\"text-align: right;\">\n",
       "      <th></th>\n",
       "      <th>test_mae</th>\n",
       "      <th>train_mae</th>\n",
       "      <th>test_mse</th>\n",
       "      <th>train_mse</th>\n",
       "      <th>test_rmse</th>\n",
       "      <th>train_rmse</th>\n",
       "      <th>fit_time</th>\n",
       "      <th>test_time</th>\n",
       "      <th>model</th>\n",
       "    </tr>\n",
       "  </thead>\n",
       "  <tbody>\n",
       "    <tr>\n",
       "      <th>0</th>\n",
       "      <td>0.667824</td>\n",
       "      <td>0.540952</td>\n",
       "      <td>0.780517</td>\n",
       "      <td>0.506024</td>\n",
       "      <td>0.883469</td>\n",
       "      <td>0.711354</td>\n",
       "      <td>16.011562</td>\n",
       "      <td>97.324295</td>\n",
       "      <td>knnBasic</td>\n",
       "    </tr>\n",
       "    <tr>\n",
       "      <th>1</th>\n",
       "      <td>0.666695</td>\n",
       "      <td>0.541205</td>\n",
       "      <td>0.777922</td>\n",
       "      <td>0.506720</td>\n",
       "      <td>0.881999</td>\n",
       "      <td>0.711843</td>\n",
       "      <td>21.801503</td>\n",
       "      <td>80.346286</td>\n",
       "      <td>knnBasic</td>\n",
       "    </tr>\n",
       "    <tr>\n",
       "      <th>2</th>\n",
       "      <td>0.667406</td>\n",
       "      <td>0.541022</td>\n",
       "      <td>0.778061</td>\n",
       "      <td>0.506493</td>\n",
       "      <td>0.882078</td>\n",
       "      <td>0.711683</td>\n",
       "      <td>17.293665</td>\n",
       "      <td>74.418446</td>\n",
       "      <td>knnBasic</td>\n",
       "    </tr>\n",
       "    <tr>\n",
       "      <th>3</th>\n",
       "      <td>0.667822</td>\n",
       "      <td>0.540955</td>\n",
       "      <td>0.780288</td>\n",
       "      <td>0.506196</td>\n",
       "      <td>0.883339</td>\n",
       "      <td>0.711475</td>\n",
       "      <td>22.302970</td>\n",
       "      <td>88.960689</td>\n",
       "      <td>knnBasic</td>\n",
       "    </tr>\n",
       "    <tr>\n",
       "      <th>4</th>\n",
       "      <td>0.667438</td>\n",
       "      <td>0.541085</td>\n",
       "      <td>0.779064</td>\n",
       "      <td>0.506430</td>\n",
       "      <td>0.882646</td>\n",
       "      <td>0.711639</td>\n",
       "      <td>14.682178</td>\n",
       "      <td>82.028580</td>\n",
       "      <td>knnBasic</td>\n",
       "    </tr>\n",
       "    <tr>\n",
       "      <th>5</th>\n",
       "      <td>0.634364</td>\n",
       "      <td>0.311406</td>\n",
       "      <td>0.706886</td>\n",
       "      <td>0.182756</td>\n",
       "      <td>0.840765</td>\n",
       "      <td>0.427500</td>\n",
       "      <td>44.004267</td>\n",
       "      <td>123.979569</td>\n",
       "      <td>knnMeans</td>\n",
       "    </tr>\n",
       "  </tbody>\n",
       "</table>\n",
       "</div>"
      ],
      "text/plain": [
       "   test_mae  train_mae  test_mse  train_mse  test_rmse  train_rmse   fit_time  \\\n",
       "0  0.667824   0.540952  0.780517   0.506024   0.883469    0.711354  16.011562   \n",
       "1  0.666695   0.541205  0.777922   0.506720   0.881999    0.711843  21.801503   \n",
       "2  0.667406   0.541022  0.778061   0.506493   0.882078    0.711683  17.293665   \n",
       "3  0.667822   0.540955  0.780288   0.506196   0.883339    0.711475  22.302970   \n",
       "4  0.667438   0.541085  0.779064   0.506430   0.882646    0.711639  14.682178   \n",
       "5  0.634364   0.311406  0.706886   0.182756   0.840765    0.427500  44.004267   \n",
       "\n",
       "    test_time     model  \n",
       "0   97.324295  knnBasic  \n",
       "1   80.346286  knnBasic  \n",
       "2   74.418446  knnBasic  \n",
       "3   88.960689  knnBasic  \n",
       "4   82.028580  knnBasic  \n",
       "5  123.979569  knnMeans  "
      ]
     },
     "metadata": {},
     "output_type": "display_data"
    },
    {
     "data": {
      "text/html": [
       "<div>\n",
       "<style scoped>\n",
       "    .dataframe tbody tr th:only-of-type {\n",
       "        vertical-align: middle;\n",
       "    }\n",
       "\n",
       "    .dataframe tbody tr th {\n",
       "        vertical-align: top;\n",
       "    }\n",
       "\n",
       "    .dataframe thead tr th {\n",
       "        text-align: left;\n",
       "    }\n",
       "\n",
       "    .dataframe thead tr:last-of-type th {\n",
       "        text-align: right;\n",
       "    }\n",
       "</style>\n",
       "<table border=\"1\" class=\"dataframe\">\n",
       "  <thead>\n",
       "    <tr>\n",
       "      <th></th>\n",
       "      <th colspan=\"2\" halign=\"left\">test_mae</th>\n",
       "      <th colspan=\"2\" halign=\"left\">train_mae</th>\n",
       "      <th colspan=\"2\" halign=\"left\">test_mse</th>\n",
       "      <th colspan=\"2\" halign=\"left\">train_mse</th>\n",
       "      <th colspan=\"2\" halign=\"left\">test_rmse</th>\n",
       "      <th colspan=\"2\" halign=\"left\">train_rmse</th>\n",
       "      <th colspan=\"2\" halign=\"left\">fit_time</th>\n",
       "      <th colspan=\"2\" halign=\"left\">test_time</th>\n",
       "    </tr>\n",
       "    <tr>\n",
       "      <th></th>\n",
       "      <th>mean</th>\n",
       "      <th>std</th>\n",
       "      <th>mean</th>\n",
       "      <th>std</th>\n",
       "      <th>mean</th>\n",
       "      <th>std</th>\n",
       "      <th>mean</th>\n",
       "      <th>std</th>\n",
       "      <th>mean</th>\n",
       "      <th>std</th>\n",
       "      <th>mean</th>\n",
       "      <th>std</th>\n",
       "      <th>mean</th>\n",
       "      <th>std</th>\n",
       "      <th>mean</th>\n",
       "      <th>std</th>\n",
       "    </tr>\n",
       "    <tr>\n",
       "      <th>model</th>\n",
       "      <th></th>\n",
       "      <th></th>\n",
       "      <th></th>\n",
       "      <th></th>\n",
       "      <th></th>\n",
       "      <th></th>\n",
       "      <th></th>\n",
       "      <th></th>\n",
       "      <th></th>\n",
       "      <th></th>\n",
       "      <th></th>\n",
       "      <th></th>\n",
       "      <th></th>\n",
       "      <th></th>\n",
       "      <th></th>\n",
       "      <th></th>\n",
       "    </tr>\n",
       "  </thead>\n",
       "  <tbody>\n",
       "    <tr>\n",
       "      <th>BaselineOnly</th>\n",
       "      <td>0.665462</td>\n",
       "      <td>0.000510</td>\n",
       "      <td>0.648018</td>\n",
       "      <td>0.000158</td>\n",
       "      <td>0.758161</td>\n",
       "      <td>0.001680</td>\n",
       "      <td>0.718052</td>\n",
       "      <td>0.000364</td>\n",
       "      <td>0.870724</td>\n",
       "      <td>0.000965</td>\n",
       "      <td>0.847380</td>\n",
       "      <td>0.000215</td>\n",
       "      <td>11.665887</td>\n",
       "      <td>1.330852</td>\n",
       "      <td>9.472557</td>\n",
       "      <td>1.124460</td>\n",
       "    </tr>\n",
       "    <tr>\n",
       "      <th>CoClustering</th>\n",
       "      <td>0.695054</td>\n",
       "      <td>0.000313</td>\n",
       "      <td>0.655322</td>\n",
       "      <td>0.000197</td>\n",
       "      <td>0.806690</td>\n",
       "      <td>0.000440</td>\n",
       "      <td>0.713863</td>\n",
       "      <td>0.000417</td>\n",
       "      <td>0.898159</td>\n",
       "      <td>0.000245</td>\n",
       "      <td>0.844904</td>\n",
       "      <td>0.000247</td>\n",
       "      <td>244.141468</td>\n",
       "      <td>1.897795</td>\n",
       "      <td>10.712382</td>\n",
       "      <td>1.940114</td>\n",
       "    </tr>\n",
       "    <tr>\n",
       "      <th>NMF</th>\n",
       "      <td>0.667881</td>\n",
       "      <td>0.006444</td>\n",
       "      <td>0.639751</td>\n",
       "      <td>0.008478</td>\n",
       "      <td>0.768519</td>\n",
       "      <td>0.017914</td>\n",
       "      <td>0.704841</td>\n",
       "      <td>0.022002</td>\n",
       "      <td>0.876605</td>\n",
       "      <td>0.010194</td>\n",
       "      <td>0.839467</td>\n",
       "      <td>0.013066</td>\n",
       "      <td>109.361153</td>\n",
       "      <td>25.573685</td>\n",
       "      <td>6.784035</td>\n",
       "      <td>1.257400</td>\n",
       "    </tr>\n",
       "    <tr>\n",
       "      <th>NormalPredictor</th>\n",
       "      <td>1.154854</td>\n",
       "      <td>0.000650</td>\n",
       "      <td>1.154153</td>\n",
       "      <td>0.000258</td>\n",
       "      <td>2.095736</td>\n",
       "      <td>0.002278</td>\n",
       "      <td>2.093567</td>\n",
       "      <td>0.000689</td>\n",
       "      <td>1.447665</td>\n",
       "      <td>0.000787</td>\n",
       "      <td>1.446916</td>\n",
       "      <td>0.000238</td>\n",
       "      <td>4.207122</td>\n",
       "      <td>0.699897</td>\n",
       "      <td>8.805251</td>\n",
       "      <td>1.631601</td>\n",
       "    </tr>\n",
       "    <tr>\n",
       "      <th>SVD</th>\n",
       "      <td>0.632689</td>\n",
       "      <td>0.000564</td>\n",
       "      <td>0.487641</td>\n",
       "      <td>0.000313</td>\n",
       "      <td>0.696614</td>\n",
       "      <td>0.001489</td>\n",
       "      <td>0.408494</td>\n",
       "      <td>0.000558</td>\n",
       "      <td>0.834634</td>\n",
       "      <td>0.000892</td>\n",
       "      <td>0.639135</td>\n",
       "      <td>0.000437</td>\n",
       "      <td>32.772085</td>\n",
       "      <td>7.332372</td>\n",
       "      <td>8.980779</td>\n",
       "      <td>2.293598</td>\n",
       "    </tr>\n",
       "    <tr>\n",
       "      <th>SlopeOne</th>\n",
       "      <td>0.661866</td>\n",
       "      <td>0.000395</td>\n",
       "      <td>0.625044</td>\n",
       "      <td>0.000101</td>\n",
       "      <td>0.757213</td>\n",
       "      <td>0.001055</td>\n",
       "      <td>0.673256</td>\n",
       "      <td>0.000257</td>\n",
       "      <td>0.870180</td>\n",
       "      <td>0.000606</td>\n",
       "      <td>0.820522</td>\n",
       "      <td>0.000157</td>\n",
       "      <td>47.095886</td>\n",
       "      <td>1.220440</td>\n",
       "      <td>70.712111</td>\n",
       "      <td>0.693561</td>\n",
       "    </tr>\n",
       "    <tr>\n",
       "      <th>knnBaseline</th>\n",
       "      <td>0.632439</td>\n",
       "      <td>0.000256</td>\n",
       "      <td>0.310237</td>\n",
       "      <td>0.000202</td>\n",
       "      <td>0.703076</td>\n",
       "      <td>0.000579</td>\n",
       "      <td>0.180352</td>\n",
       "      <td>0.000205</td>\n",
       "      <td>0.838496</td>\n",
       "      <td>0.000346</td>\n",
       "      <td>0.424678</td>\n",
       "      <td>0.000241</td>\n",
       "      <td>41.774422</td>\n",
       "      <td>5.127289</td>\n",
       "      <td>108.472653</td>\n",
       "      <td>37.580902</td>\n",
       "    </tr>\n",
       "    <tr>\n",
       "      <th>knnBasic</th>\n",
       "      <td>0.667437</td>\n",
       "      <td>0.000461</td>\n",
       "      <td>0.541044</td>\n",
       "      <td>0.000106</td>\n",
       "      <td>0.779170</td>\n",
       "      <td>0.001211</td>\n",
       "      <td>0.506373</td>\n",
       "      <td>0.000270</td>\n",
       "      <td>0.882706</td>\n",
       "      <td>0.000686</td>\n",
       "      <td>0.711599</td>\n",
       "      <td>0.000190</td>\n",
       "      <td>18.418376</td>\n",
       "      <td>3.447917</td>\n",
       "      <td>84.615659</td>\n",
       "      <td>8.793355</td>\n",
       "    </tr>\n",
       "    <tr>\n",
       "      <th>knnMeans</th>\n",
       "      <td>0.634011</td>\n",
       "      <td>0.000428</td>\n",
       "      <td>0.311516</td>\n",
       "      <td>0.000139</td>\n",
       "      <td>0.706145</td>\n",
       "      <td>0.001402</td>\n",
       "      <td>0.182854</td>\n",
       "      <td>0.000148</td>\n",
       "      <td>0.840324</td>\n",
       "      <td>0.000834</td>\n",
       "      <td>0.427614</td>\n",
       "      <td>0.000174</td>\n",
       "      <td>41.797299</td>\n",
       "      <td>3.253731</td>\n",
       "      <td>95.995085</td>\n",
       "      <td>31.168538</td>\n",
       "    </tr>\n",
       "    <tr>\n",
       "      <th>knnZScore</th>\n",
       "      <td>0.632987</td>\n",
       "      <td>0.000219</td>\n",
       "      <td>0.311013</td>\n",
       "      <td>0.000178</td>\n",
       "      <td>0.705597</td>\n",
       "      <td>0.000603</td>\n",
       "      <td>0.182478</td>\n",
       "      <td>0.000224</td>\n",
       "      <td>0.839998</td>\n",
       "      <td>0.000359</td>\n",
       "      <td>0.427174</td>\n",
       "      <td>0.000262</td>\n",
       "      <td>43.438091</td>\n",
       "      <td>9.301936</td>\n",
       "      <td>91.403362</td>\n",
       "      <td>17.150491</td>\n",
       "    </tr>\n",
       "  </tbody>\n",
       "</table>\n",
       "</div>"
      ],
      "text/plain": [
       "                 test_mae           train_mae            test_mse            \\\n",
       "                     mean       std      mean       std      mean       std   \n",
       "model                                                                         \n",
       "BaselineOnly     0.665462  0.000510  0.648018  0.000158  0.758161  0.001680   \n",
       "CoClustering     0.695054  0.000313  0.655322  0.000197  0.806690  0.000440   \n",
       "NMF              0.667881  0.006444  0.639751  0.008478  0.768519  0.017914   \n",
       "NormalPredictor  1.154854  0.000650  1.154153  0.000258  2.095736  0.002278   \n",
       "SVD              0.632689  0.000564  0.487641  0.000313  0.696614  0.001489   \n",
       "SlopeOne         0.661866  0.000395  0.625044  0.000101  0.757213  0.001055   \n",
       "knnBaseline      0.632439  0.000256  0.310237  0.000202  0.703076  0.000579   \n",
       "knnBasic         0.667437  0.000461  0.541044  0.000106  0.779170  0.001211   \n",
       "knnMeans         0.634011  0.000428  0.311516  0.000139  0.706145  0.001402   \n",
       "knnZScore        0.632987  0.000219  0.311013  0.000178  0.705597  0.000603   \n",
       "\n",
       "                train_mse           test_rmse           train_rmse            \\\n",
       "                     mean       std      mean       std       mean       std   \n",
       "model                                                                          \n",
       "BaselineOnly     0.718052  0.000364  0.870724  0.000965   0.847380  0.000215   \n",
       "CoClustering     0.713863  0.000417  0.898159  0.000245   0.844904  0.000247   \n",
       "NMF              0.704841  0.022002  0.876605  0.010194   0.839467  0.013066   \n",
       "NormalPredictor  2.093567  0.000689  1.447665  0.000787   1.446916  0.000238   \n",
       "SVD              0.408494  0.000558  0.834634  0.000892   0.639135  0.000437   \n",
       "SlopeOne         0.673256  0.000257  0.870180  0.000606   0.820522  0.000157   \n",
       "knnBaseline      0.180352  0.000205  0.838496  0.000346   0.424678  0.000241   \n",
       "knnBasic         0.506373  0.000270  0.882706  0.000686   0.711599  0.000190   \n",
       "knnMeans         0.182854  0.000148  0.840324  0.000834   0.427614  0.000174   \n",
       "knnZScore        0.182478  0.000224  0.839998  0.000359   0.427174  0.000262   \n",
       "\n",
       "                   fit_time              test_time             \n",
       "                       mean        std        mean        std  \n",
       "model                                                          \n",
       "BaselineOnly      11.665887   1.330852    9.472557   1.124460  \n",
       "CoClustering     244.141468   1.897795   10.712382   1.940114  \n",
       "NMF              109.361153  25.573685    6.784035   1.257400  \n",
       "NormalPredictor    4.207122   0.699897    8.805251   1.631601  \n",
       "SVD               32.772085   7.332372    8.980779   2.293598  \n",
       "SlopeOne          47.095886   1.220440   70.712111   0.693561  \n",
       "knnBaseline       41.774422   5.127289  108.472653  37.580902  \n",
       "knnBasic          18.418376   3.447917   84.615659   8.793355  \n",
       "knnMeans          41.797299   3.253731   95.995085  31.168538  \n",
       "knnZScore         43.438091   9.301936   91.403362  17.150491  "
      ]
     },
     "metadata": {},
     "output_type": "display_data"
    }
   ],
   "source": [
    "cv_results = joblib.load('../models/surp_cv_results.json')\n",
    "\n",
    "# create empty DataFrame with columns according to cv_results\n",
    "keys = list(cv_results.keys()) # list of keys, which hold the model names\n",
    "df_cv_results = pd.DataFrame(columns=cv_results[keys[0]].keys()) # e.g. use first model to retrieve coumns\n",
    "\n",
    "# iterate over keys to fill df_cv_results successively\n",
    "for model in keys:\n",
    "    df = pd.DataFrame.from_dict(cv_results[model])\n",
    "    df['model'] = model[3:] # write model name in new column, starting at position 3 to drop \"cv_\"\n",
    "    df_cv_results = pd.concat([df_cv_results, df], axis=0, ignore_index=True) # append df to df_cv_results\n",
    "\n",
    "# rename 'rand' to 'NormalPredictor'\n",
    "df_cv_results['model'].loc[df_cv_results.model == 'rand'] = 'NormalPredictor'\n",
    "display(df_cv_results.head(6))\n",
    "\n",
    "agg_cv_results = df_cv_results.groupby(by=['model']).agg(['mean','std']) #, as_index=False\n",
    "display(agg_cv_results)\n",
    "\n",
    "# df_avg = df_cv_results.groupby(by=['model'], as_index=False).mean().add_suffix('_mean')\n",
    "# df_std = df_cv_results.groupby(by=['model'], as_index=False).std().add_suffix('_std')\n",
    "# agg_cv_results = pd.concat([df_avg, df_std], axis=1) #, as_index=False\n",
    "# display(agg_cv_results)"
   ]
  },
  {
   "cell_type": "code",
   "execution_count": 140,
   "metadata": {},
   "outputs": [
    {
     "data": {
      "application/vnd.plotly.v1+json": {
       "config": {
        "plotlyServerURL": "https://plot.ly"
       },
       "data": [
        {
         "error_y": {
          "array": [
           0.0005097282183614886,
           0.0003125552859517473,
           0.006444188821803853,
           0.0006498213940814314,
           0.0005640185165557125,
           0.00039524543485854903,
           0.0002560817684643037,
           0.0004610005925731431,
           0.0004277154067388091,
           0.00021869180376966335
          ],
          "type": "data",
          "visible": true
         },
         "name": "testset",
         "orientation": "v",
         "type": "bar",
         "x": [
          "BaselineOnly",
          "CoClustering",
          "NMF",
          "NormalPredictor",
          "SVD",
          "SlopeOne",
          "knnBaseline",
          "knnBasic",
          "knnMeans",
          "knnZScore"
         ],
         "y": [
          0.6654622598159856,
          0.6950543617151902,
          0.6678809863814574,
          1.154853552209075,
          0.6326890621938526,
          0.6618657329053066,
          0.6324386893930358,
          0.6674368907781449,
          0.6340111374864671,
          0.6329865883508199
         ]
        },
        {
         "error_y": {
          "array": [
           0.00015779299991279207,
           0.00019662260858271935,
           0.008477575498452588,
           0.00025799055626310485,
           0.0003132236445964176,
           0.00010110621888215115,
           0.00020230878986013902,
           0.00010554614840847455,
           0.00013912231884415224,
           0.0001778389023204036
          ],
          "type": "data",
          "visible": true
         },
         "name": "trainset",
         "orientation": "v",
         "type": "bar",
         "x": [
          "BaselineOnly",
          "CoClustering",
          "NMF",
          "NormalPredictor",
          "SVD",
          "SlopeOne",
          "knnBaseline",
          "knnBasic",
          "knnMeans",
          "knnZScore"
         ],
         "y": [
          0.6480180787109033,
          0.655322304844913,
          0.6397510582210088,
          1.1541526194857483,
          0.48764137969052584,
          0.6250440021355816,
          0.31023655766473723,
          0.5410437661306384,
          0.3115162955064995,
          0.3110127994811834
         ]
        }
       ],
       "layout": {
        "autosize": false,
        "height": 400,
        "legend": {
         "x": 0,
         "y": 1
        },
        "template": {
         "data": {
          "bar": [
           {
            "error_x": {
             "color": "#2a3f5f"
            },
            "error_y": {
             "color": "#2a3f5f"
            },
            "marker": {
             "line": {
              "color": "#E5ECF6",
              "width": 0.5
             },
             "pattern": {
              "fillmode": "overlay",
              "size": 10,
              "solidity": 0.2
             }
            },
            "type": "bar"
           }
          ],
          "barpolar": [
           {
            "marker": {
             "line": {
              "color": "#E5ECF6",
              "width": 0.5
             },
             "pattern": {
              "fillmode": "overlay",
              "size": 10,
              "solidity": 0.2
             }
            },
            "type": "barpolar"
           }
          ],
          "carpet": [
           {
            "aaxis": {
             "endlinecolor": "#2a3f5f",
             "gridcolor": "white",
             "linecolor": "white",
             "minorgridcolor": "white",
             "startlinecolor": "#2a3f5f"
            },
            "baxis": {
             "endlinecolor": "#2a3f5f",
             "gridcolor": "white",
             "linecolor": "white",
             "minorgridcolor": "white",
             "startlinecolor": "#2a3f5f"
            },
            "type": "carpet"
           }
          ],
          "choropleth": [
           {
            "colorbar": {
             "outlinewidth": 0,
             "ticks": ""
            },
            "type": "choropleth"
           }
          ],
          "contour": [
           {
            "colorbar": {
             "outlinewidth": 0,
             "ticks": ""
            },
            "colorscale": [
             [
              0,
              "#0d0887"
             ],
             [
              0.1111111111111111,
              "#46039f"
             ],
             [
              0.2222222222222222,
              "#7201a8"
             ],
             [
              0.3333333333333333,
              "#9c179e"
             ],
             [
              0.4444444444444444,
              "#bd3786"
             ],
             [
              0.5555555555555556,
              "#d8576b"
             ],
             [
              0.6666666666666666,
              "#ed7953"
             ],
             [
              0.7777777777777778,
              "#fb9f3a"
             ],
             [
              0.8888888888888888,
              "#fdca26"
             ],
             [
              1,
              "#f0f921"
             ]
            ],
            "type": "contour"
           }
          ],
          "contourcarpet": [
           {
            "colorbar": {
             "outlinewidth": 0,
             "ticks": ""
            },
            "type": "contourcarpet"
           }
          ],
          "heatmap": [
           {
            "colorbar": {
             "outlinewidth": 0,
             "ticks": ""
            },
            "colorscale": [
             [
              0,
              "#0d0887"
             ],
             [
              0.1111111111111111,
              "#46039f"
             ],
             [
              0.2222222222222222,
              "#7201a8"
             ],
             [
              0.3333333333333333,
              "#9c179e"
             ],
             [
              0.4444444444444444,
              "#bd3786"
             ],
             [
              0.5555555555555556,
              "#d8576b"
             ],
             [
              0.6666666666666666,
              "#ed7953"
             ],
             [
              0.7777777777777778,
              "#fb9f3a"
             ],
             [
              0.8888888888888888,
              "#fdca26"
             ],
             [
              1,
              "#f0f921"
             ]
            ],
            "type": "heatmap"
           }
          ],
          "heatmapgl": [
           {
            "colorbar": {
             "outlinewidth": 0,
             "ticks": ""
            },
            "colorscale": [
             [
              0,
              "#0d0887"
             ],
             [
              0.1111111111111111,
              "#46039f"
             ],
             [
              0.2222222222222222,
              "#7201a8"
             ],
             [
              0.3333333333333333,
              "#9c179e"
             ],
             [
              0.4444444444444444,
              "#bd3786"
             ],
             [
              0.5555555555555556,
              "#d8576b"
             ],
             [
              0.6666666666666666,
              "#ed7953"
             ],
             [
              0.7777777777777778,
              "#fb9f3a"
             ],
             [
              0.8888888888888888,
              "#fdca26"
             ],
             [
              1,
              "#f0f921"
             ]
            ],
            "type": "heatmapgl"
           }
          ],
          "histogram": [
           {
            "marker": {
             "pattern": {
              "fillmode": "overlay",
              "size": 10,
              "solidity": 0.2
             }
            },
            "type": "histogram"
           }
          ],
          "histogram2d": [
           {
            "colorbar": {
             "outlinewidth": 0,
             "ticks": ""
            },
            "colorscale": [
             [
              0,
              "#0d0887"
             ],
             [
              0.1111111111111111,
              "#46039f"
             ],
             [
              0.2222222222222222,
              "#7201a8"
             ],
             [
              0.3333333333333333,
              "#9c179e"
             ],
             [
              0.4444444444444444,
              "#bd3786"
             ],
             [
              0.5555555555555556,
              "#d8576b"
             ],
             [
              0.6666666666666666,
              "#ed7953"
             ],
             [
              0.7777777777777778,
              "#fb9f3a"
             ],
             [
              0.8888888888888888,
              "#fdca26"
             ],
             [
              1,
              "#f0f921"
             ]
            ],
            "type": "histogram2d"
           }
          ],
          "histogram2dcontour": [
           {
            "colorbar": {
             "outlinewidth": 0,
             "ticks": ""
            },
            "colorscale": [
             [
              0,
              "#0d0887"
             ],
             [
              0.1111111111111111,
              "#46039f"
             ],
             [
              0.2222222222222222,
              "#7201a8"
             ],
             [
              0.3333333333333333,
              "#9c179e"
             ],
             [
              0.4444444444444444,
              "#bd3786"
             ],
             [
              0.5555555555555556,
              "#d8576b"
             ],
             [
              0.6666666666666666,
              "#ed7953"
             ],
             [
              0.7777777777777778,
              "#fb9f3a"
             ],
             [
              0.8888888888888888,
              "#fdca26"
             ],
             [
              1,
              "#f0f921"
             ]
            ],
            "type": "histogram2dcontour"
           }
          ],
          "mesh3d": [
           {
            "colorbar": {
             "outlinewidth": 0,
             "ticks": ""
            },
            "type": "mesh3d"
           }
          ],
          "parcoords": [
           {
            "line": {
             "colorbar": {
              "outlinewidth": 0,
              "ticks": ""
             }
            },
            "type": "parcoords"
           }
          ],
          "pie": [
           {
            "automargin": true,
            "type": "pie"
           }
          ],
          "scatter": [
           {
            "fillpattern": {
             "fillmode": "overlay",
             "size": 10,
             "solidity": 0.2
            },
            "type": "scatter"
           }
          ],
          "scatter3d": [
           {
            "line": {
             "colorbar": {
              "outlinewidth": 0,
              "ticks": ""
             }
            },
            "marker": {
             "colorbar": {
              "outlinewidth": 0,
              "ticks": ""
             }
            },
            "type": "scatter3d"
           }
          ],
          "scattercarpet": [
           {
            "marker": {
             "colorbar": {
              "outlinewidth": 0,
              "ticks": ""
             }
            },
            "type": "scattercarpet"
           }
          ],
          "scattergeo": [
           {
            "marker": {
             "colorbar": {
              "outlinewidth": 0,
              "ticks": ""
             }
            },
            "type": "scattergeo"
           }
          ],
          "scattergl": [
           {
            "marker": {
             "colorbar": {
              "outlinewidth": 0,
              "ticks": ""
             }
            },
            "type": "scattergl"
           }
          ],
          "scattermapbox": [
           {
            "marker": {
             "colorbar": {
              "outlinewidth": 0,
              "ticks": ""
             }
            },
            "type": "scattermapbox"
           }
          ],
          "scatterpolar": [
           {
            "marker": {
             "colorbar": {
              "outlinewidth": 0,
              "ticks": ""
             }
            },
            "type": "scatterpolar"
           }
          ],
          "scatterpolargl": [
           {
            "marker": {
             "colorbar": {
              "outlinewidth": 0,
              "ticks": ""
             }
            },
            "type": "scatterpolargl"
           }
          ],
          "scatterternary": [
           {
            "marker": {
             "colorbar": {
              "outlinewidth": 0,
              "ticks": ""
             }
            },
            "type": "scatterternary"
           }
          ],
          "surface": [
           {
            "colorbar": {
             "outlinewidth": 0,
             "ticks": ""
            },
            "colorscale": [
             [
              0,
              "#0d0887"
             ],
             [
              0.1111111111111111,
              "#46039f"
             ],
             [
              0.2222222222222222,
              "#7201a8"
             ],
             [
              0.3333333333333333,
              "#9c179e"
             ],
             [
              0.4444444444444444,
              "#bd3786"
             ],
             [
              0.5555555555555556,
              "#d8576b"
             ],
             [
              0.6666666666666666,
              "#ed7953"
             ],
             [
              0.7777777777777778,
              "#fb9f3a"
             ],
             [
              0.8888888888888888,
              "#fdca26"
             ],
             [
              1,
              "#f0f921"
             ]
            ],
            "type": "surface"
           }
          ],
          "table": [
           {
            "cells": {
             "fill": {
              "color": "#EBF0F8"
             },
             "line": {
              "color": "white"
             }
            },
            "header": {
             "fill": {
              "color": "#C8D4E3"
             },
             "line": {
              "color": "white"
             }
            },
            "type": "table"
           }
          ]
         },
         "layout": {
          "annotationdefaults": {
           "arrowcolor": "#2a3f5f",
           "arrowhead": 0,
           "arrowwidth": 1
          },
          "autotypenumbers": "strict",
          "coloraxis": {
           "colorbar": {
            "outlinewidth": 0,
            "ticks": ""
           }
          },
          "colorscale": {
           "diverging": [
            [
             0,
             "#8e0152"
            ],
            [
             0.1,
             "#c51b7d"
            ],
            [
             0.2,
             "#de77ae"
            ],
            [
             0.3,
             "#f1b6da"
            ],
            [
             0.4,
             "#fde0ef"
            ],
            [
             0.5,
             "#f7f7f7"
            ],
            [
             0.6,
             "#e6f5d0"
            ],
            [
             0.7,
             "#b8e186"
            ],
            [
             0.8,
             "#7fbc41"
            ],
            [
             0.9,
             "#4d9221"
            ],
            [
             1,
             "#276419"
            ]
           ],
           "sequential": [
            [
             0,
             "#0d0887"
            ],
            [
             0.1111111111111111,
             "#46039f"
            ],
            [
             0.2222222222222222,
             "#7201a8"
            ],
            [
             0.3333333333333333,
             "#9c179e"
            ],
            [
             0.4444444444444444,
             "#bd3786"
            ],
            [
             0.5555555555555556,
             "#d8576b"
            ],
            [
             0.6666666666666666,
             "#ed7953"
            ],
            [
             0.7777777777777778,
             "#fb9f3a"
            ],
            [
             0.8888888888888888,
             "#fdca26"
            ],
            [
             1,
             "#f0f921"
            ]
           ],
           "sequentialminus": [
            [
             0,
             "#0d0887"
            ],
            [
             0.1111111111111111,
             "#46039f"
            ],
            [
             0.2222222222222222,
             "#7201a8"
            ],
            [
             0.3333333333333333,
             "#9c179e"
            ],
            [
             0.4444444444444444,
             "#bd3786"
            ],
            [
             0.5555555555555556,
             "#d8576b"
            ],
            [
             0.6666666666666666,
             "#ed7953"
            ],
            [
             0.7777777777777778,
             "#fb9f3a"
            ],
            [
             0.8888888888888888,
             "#fdca26"
            ],
            [
             1,
             "#f0f921"
            ]
           ]
          },
          "colorway": [
           "#636efa",
           "#EF553B",
           "#00cc96",
           "#ab63fa",
           "#FFA15A",
           "#19d3f3",
           "#FF6692",
           "#B6E880",
           "#FF97FF",
           "#FECB52"
          ],
          "font": {
           "color": "#2a3f5f"
          },
          "geo": {
           "bgcolor": "white",
           "lakecolor": "white",
           "landcolor": "#E5ECF6",
           "showlakes": true,
           "showland": true,
           "subunitcolor": "white"
          },
          "hoverlabel": {
           "align": "left"
          },
          "hovermode": "closest",
          "mapbox": {
           "style": "light"
          },
          "paper_bgcolor": "white",
          "plot_bgcolor": "#E5ECF6",
          "polar": {
           "angularaxis": {
            "gridcolor": "white",
            "linecolor": "white",
            "ticks": ""
           },
           "bgcolor": "#E5ECF6",
           "radialaxis": {
            "gridcolor": "white",
            "linecolor": "white",
            "ticks": ""
           }
          },
          "scene": {
           "xaxis": {
            "backgroundcolor": "#E5ECF6",
            "gridcolor": "white",
            "gridwidth": 2,
            "linecolor": "white",
            "showbackground": true,
            "ticks": "",
            "zerolinecolor": "white"
           },
           "yaxis": {
            "backgroundcolor": "#E5ECF6",
            "gridcolor": "white",
            "gridwidth": 2,
            "linecolor": "white",
            "showbackground": true,
            "ticks": "",
            "zerolinecolor": "white"
           },
           "zaxis": {
            "backgroundcolor": "#E5ECF6",
            "gridcolor": "white",
            "gridwidth": 2,
            "linecolor": "white",
            "showbackground": true,
            "ticks": "",
            "zerolinecolor": "white"
           }
          },
          "shapedefaults": {
           "line": {
            "color": "#2a3f5f"
           }
          },
          "ternary": {
           "aaxis": {
            "gridcolor": "white",
            "linecolor": "white",
            "ticks": ""
           },
           "baxis": {
            "gridcolor": "white",
            "linecolor": "white",
            "ticks": ""
           },
           "bgcolor": "#E5ECF6",
           "caxis": {
            "gridcolor": "white",
            "linecolor": "white",
            "ticks": ""
           }
          },
          "title": {
           "x": 0.05
          },
          "xaxis": {
           "automargin": true,
           "gridcolor": "white",
           "linecolor": "white",
           "ticks": "",
           "title": {
            "standoff": 15
           },
           "zerolinecolor": "white",
           "zerolinewidth": 2
          },
          "yaxis": {
           "automargin": true,
           "gridcolor": "white",
           "linecolor": "white",
           "ticks": "",
           "title": {
            "standoff": 15
           },
           "zerolinecolor": "white",
           "zerolinewidth": 2
          }
         }
        },
        "title": {
         "text": "Average MAE from 5-fold cross-validation of Surprise models with optimized parameters",
         "x": 0.5,
         "y": 0.87
        },
        "width": 1000,
        "xaxis": {
         "categoryarray": [
          "knnBaseline",
          "SVD",
          "knnZScore",
          "knnMeans",
          "SlopeOne",
          "BaselineOnly",
          "knnBasic",
          "NMF",
          "CoClustering",
          "NormalPredictor"
         ],
         "categoryorder": "array",
         "title": {
          "text": "Model"
         }
        },
        "yaxis": {
         "title": {
          "text": "Average MAE (cv=5)"
         }
        }
       }
      }
     },
     "metadata": {},
     "output_type": "display_data"
    }
   ],
   "source": [
    "fig = go.Figure()\n",
    "\n",
    "\n",
    "fig.add_trace(go.Bar(x = agg_cv_results.index, y = agg_cv_results['test_mae']['mean'], \n",
    "                     error_y=dict(type = 'data', array = agg_cv_results['test_mae']['std'], visible = True), name = 'testset', orientation='v')) \n",
    "fig.add_trace(go.Bar(x = agg_cv_results.index, y = agg_cv_results['train_mae']['mean'], \n",
    "                     error_y=dict(type = 'data', array = agg_cv_results['train_mae']['std'], visible = True),name = 'trainset', orientation='v')) \n",
    "\n",
    "\n",
    "fig.update_layout(title = 'Average MAE from 5-fold cross-validation of Surprise models with optimized parameters', title_x = 0.5, title_y=0.87, \n",
    "                  xaxis_title = 'Model', yaxis_title = 'Average MAE (cv=5)') # Title and axis titles\n",
    "fig.update_layout(autosize=False, width=1000, height=400) #,legend=dict(orientation=\"h\", y=-0.1)) # Figure size\n",
    "fig.update_layout(legend=dict(x=0, y=1))\n",
    "\n",
    "# sort ascending\n",
    "order = agg_cv_results['test_mae']['mean'].sort_values().index\n",
    "fig.update_xaxes(categoryorder='array', categoryarray= order)"
   ]
  },
  {
   "cell_type": "markdown",
   "metadata": {},
   "source": [
    "<div class=\"alert alert-block alert-danger\"><b>Caution:</b> Always clear all output before pushing to GitHub to reduce size!</div>"
   ]
  },
  {
   "cell_type": "code",
   "execution_count": 143,
   "metadata": {},
   "outputs": [
    {
     "data": {
      "application/vnd.plotly.v1+json": {
       "config": {
        "plotlyServerURL": "https://plot.ly"
       },
       "data": [
        {
         "error_y": {
          "array": [
           1.1244601326780226,
           1.9401138285541333,
           1.2574004641745073,
           1.6316007458431592,
           2.293597699075384,
           0.6935612871999044,
           37.5809019082087,
           8.793355080795026,
           31.168537996142657,
           17.150490889297348
          ],
          "type": "data",
          "visible": true
         },
         "name": "test time",
         "orientation": "v",
         "type": "bar",
         "x": [
          "BaselineOnly",
          "CoClustering",
          "NMF",
          "NormalPredictor",
          "SVD",
          "SlopeOne",
          "knnBaseline",
          "knnBasic",
          "knnMeans",
          "knnZScore"
         ],
         "y": [
          9.472556591033936,
          10.712382125854493,
          6.7840354442596436,
          8.8052508354187,
          8.980779218673707,
          70.71211142539978,
          108.47265253067016,
          84.61565904617309,
          95.99508485794067,
          91.40336232185363
         ]
        },
        {
         "error_y": {
          "array": [
           1.3308521581603105,
           1.89779521737685,
           25.573684599419305,
           0.6998965622632144,
           7.332372098127711,
           1.2204401932088274,
           5.127288821557839,
           3.4479168826093614,
           3.253730878474521,
           9.301935717120031
          ],
          "type": "data",
          "visible": true
         },
         "name": "fit time",
         "orientation": "v",
         "type": "bar",
         "x": [
          "BaselineOnly",
          "CoClustering",
          "NMF",
          "NormalPredictor",
          "SVD",
          "SlopeOne",
          "knnBaseline",
          "knnBasic",
          "knnMeans",
          "knnZScore"
         ],
         "y": [
          11.665886688232423,
          244.14146780967712,
          109.3611526966095,
          4.207122373580932,
          32.77208514213562,
          47.095885562896726,
          41.77442197799682,
          18.41837568283081,
          41.79729890823364,
          43.438091135025026
         ]
        }
       ],
       "layout": {
        "autosize": false,
        "height": 400,
        "legend": {
         "x": 0,
         "y": 1
        },
        "template": {
         "data": {
          "bar": [
           {
            "error_x": {
             "color": "#2a3f5f"
            },
            "error_y": {
             "color": "#2a3f5f"
            },
            "marker": {
             "line": {
              "color": "#E5ECF6",
              "width": 0.5
             },
             "pattern": {
              "fillmode": "overlay",
              "size": 10,
              "solidity": 0.2
             }
            },
            "type": "bar"
           }
          ],
          "barpolar": [
           {
            "marker": {
             "line": {
              "color": "#E5ECF6",
              "width": 0.5
             },
             "pattern": {
              "fillmode": "overlay",
              "size": 10,
              "solidity": 0.2
             }
            },
            "type": "barpolar"
           }
          ],
          "carpet": [
           {
            "aaxis": {
             "endlinecolor": "#2a3f5f",
             "gridcolor": "white",
             "linecolor": "white",
             "minorgridcolor": "white",
             "startlinecolor": "#2a3f5f"
            },
            "baxis": {
             "endlinecolor": "#2a3f5f",
             "gridcolor": "white",
             "linecolor": "white",
             "minorgridcolor": "white",
             "startlinecolor": "#2a3f5f"
            },
            "type": "carpet"
           }
          ],
          "choropleth": [
           {
            "colorbar": {
             "outlinewidth": 0,
             "ticks": ""
            },
            "type": "choropleth"
           }
          ],
          "contour": [
           {
            "colorbar": {
             "outlinewidth": 0,
             "ticks": ""
            },
            "colorscale": [
             [
              0,
              "#0d0887"
             ],
             [
              0.1111111111111111,
              "#46039f"
             ],
             [
              0.2222222222222222,
              "#7201a8"
             ],
             [
              0.3333333333333333,
              "#9c179e"
             ],
             [
              0.4444444444444444,
              "#bd3786"
             ],
             [
              0.5555555555555556,
              "#d8576b"
             ],
             [
              0.6666666666666666,
              "#ed7953"
             ],
             [
              0.7777777777777778,
              "#fb9f3a"
             ],
             [
              0.8888888888888888,
              "#fdca26"
             ],
             [
              1,
              "#f0f921"
             ]
            ],
            "type": "contour"
           }
          ],
          "contourcarpet": [
           {
            "colorbar": {
             "outlinewidth": 0,
             "ticks": ""
            },
            "type": "contourcarpet"
           }
          ],
          "heatmap": [
           {
            "colorbar": {
             "outlinewidth": 0,
             "ticks": ""
            },
            "colorscale": [
             [
              0,
              "#0d0887"
             ],
             [
              0.1111111111111111,
              "#46039f"
             ],
             [
              0.2222222222222222,
              "#7201a8"
             ],
             [
              0.3333333333333333,
              "#9c179e"
             ],
             [
              0.4444444444444444,
              "#bd3786"
             ],
             [
              0.5555555555555556,
              "#d8576b"
             ],
             [
              0.6666666666666666,
              "#ed7953"
             ],
             [
              0.7777777777777778,
              "#fb9f3a"
             ],
             [
              0.8888888888888888,
              "#fdca26"
             ],
             [
              1,
              "#f0f921"
             ]
            ],
            "type": "heatmap"
           }
          ],
          "heatmapgl": [
           {
            "colorbar": {
             "outlinewidth": 0,
             "ticks": ""
            },
            "colorscale": [
             [
              0,
              "#0d0887"
             ],
             [
              0.1111111111111111,
              "#46039f"
             ],
             [
              0.2222222222222222,
              "#7201a8"
             ],
             [
              0.3333333333333333,
              "#9c179e"
             ],
             [
              0.4444444444444444,
              "#bd3786"
             ],
             [
              0.5555555555555556,
              "#d8576b"
             ],
             [
              0.6666666666666666,
              "#ed7953"
             ],
             [
              0.7777777777777778,
              "#fb9f3a"
             ],
             [
              0.8888888888888888,
              "#fdca26"
             ],
             [
              1,
              "#f0f921"
             ]
            ],
            "type": "heatmapgl"
           }
          ],
          "histogram": [
           {
            "marker": {
             "pattern": {
              "fillmode": "overlay",
              "size": 10,
              "solidity": 0.2
             }
            },
            "type": "histogram"
           }
          ],
          "histogram2d": [
           {
            "colorbar": {
             "outlinewidth": 0,
             "ticks": ""
            },
            "colorscale": [
             [
              0,
              "#0d0887"
             ],
             [
              0.1111111111111111,
              "#46039f"
             ],
             [
              0.2222222222222222,
              "#7201a8"
             ],
             [
              0.3333333333333333,
              "#9c179e"
             ],
             [
              0.4444444444444444,
              "#bd3786"
             ],
             [
              0.5555555555555556,
              "#d8576b"
             ],
             [
              0.6666666666666666,
              "#ed7953"
             ],
             [
              0.7777777777777778,
              "#fb9f3a"
             ],
             [
              0.8888888888888888,
              "#fdca26"
             ],
             [
              1,
              "#f0f921"
             ]
            ],
            "type": "histogram2d"
           }
          ],
          "histogram2dcontour": [
           {
            "colorbar": {
             "outlinewidth": 0,
             "ticks": ""
            },
            "colorscale": [
             [
              0,
              "#0d0887"
             ],
             [
              0.1111111111111111,
              "#46039f"
             ],
             [
              0.2222222222222222,
              "#7201a8"
             ],
             [
              0.3333333333333333,
              "#9c179e"
             ],
             [
              0.4444444444444444,
              "#bd3786"
             ],
             [
              0.5555555555555556,
              "#d8576b"
             ],
             [
              0.6666666666666666,
              "#ed7953"
             ],
             [
              0.7777777777777778,
              "#fb9f3a"
             ],
             [
              0.8888888888888888,
              "#fdca26"
             ],
             [
              1,
              "#f0f921"
             ]
            ],
            "type": "histogram2dcontour"
           }
          ],
          "mesh3d": [
           {
            "colorbar": {
             "outlinewidth": 0,
             "ticks": ""
            },
            "type": "mesh3d"
           }
          ],
          "parcoords": [
           {
            "line": {
             "colorbar": {
              "outlinewidth": 0,
              "ticks": ""
             }
            },
            "type": "parcoords"
           }
          ],
          "pie": [
           {
            "automargin": true,
            "type": "pie"
           }
          ],
          "scatter": [
           {
            "fillpattern": {
             "fillmode": "overlay",
             "size": 10,
             "solidity": 0.2
            },
            "type": "scatter"
           }
          ],
          "scatter3d": [
           {
            "line": {
             "colorbar": {
              "outlinewidth": 0,
              "ticks": ""
             }
            },
            "marker": {
             "colorbar": {
              "outlinewidth": 0,
              "ticks": ""
             }
            },
            "type": "scatter3d"
           }
          ],
          "scattercarpet": [
           {
            "marker": {
             "colorbar": {
              "outlinewidth": 0,
              "ticks": ""
             }
            },
            "type": "scattercarpet"
           }
          ],
          "scattergeo": [
           {
            "marker": {
             "colorbar": {
              "outlinewidth": 0,
              "ticks": ""
             }
            },
            "type": "scattergeo"
           }
          ],
          "scattergl": [
           {
            "marker": {
             "colorbar": {
              "outlinewidth": 0,
              "ticks": ""
             }
            },
            "type": "scattergl"
           }
          ],
          "scattermapbox": [
           {
            "marker": {
             "colorbar": {
              "outlinewidth": 0,
              "ticks": ""
             }
            },
            "type": "scattermapbox"
           }
          ],
          "scatterpolar": [
           {
            "marker": {
             "colorbar": {
              "outlinewidth": 0,
              "ticks": ""
             }
            },
            "type": "scatterpolar"
           }
          ],
          "scatterpolargl": [
           {
            "marker": {
             "colorbar": {
              "outlinewidth": 0,
              "ticks": ""
             }
            },
            "type": "scatterpolargl"
           }
          ],
          "scatterternary": [
           {
            "marker": {
             "colorbar": {
              "outlinewidth": 0,
              "ticks": ""
             }
            },
            "type": "scatterternary"
           }
          ],
          "surface": [
           {
            "colorbar": {
             "outlinewidth": 0,
             "ticks": ""
            },
            "colorscale": [
             [
              0,
              "#0d0887"
             ],
             [
              0.1111111111111111,
              "#46039f"
             ],
             [
              0.2222222222222222,
              "#7201a8"
             ],
             [
              0.3333333333333333,
              "#9c179e"
             ],
             [
              0.4444444444444444,
              "#bd3786"
             ],
             [
              0.5555555555555556,
              "#d8576b"
             ],
             [
              0.6666666666666666,
              "#ed7953"
             ],
             [
              0.7777777777777778,
              "#fb9f3a"
             ],
             [
              0.8888888888888888,
              "#fdca26"
             ],
             [
              1,
              "#f0f921"
             ]
            ],
            "type": "surface"
           }
          ],
          "table": [
           {
            "cells": {
             "fill": {
              "color": "#EBF0F8"
             },
             "line": {
              "color": "white"
             }
            },
            "header": {
             "fill": {
              "color": "#C8D4E3"
             },
             "line": {
              "color": "white"
             }
            },
            "type": "table"
           }
          ]
         },
         "layout": {
          "annotationdefaults": {
           "arrowcolor": "#2a3f5f",
           "arrowhead": 0,
           "arrowwidth": 1
          },
          "autotypenumbers": "strict",
          "coloraxis": {
           "colorbar": {
            "outlinewidth": 0,
            "ticks": ""
           }
          },
          "colorscale": {
           "diverging": [
            [
             0,
             "#8e0152"
            ],
            [
             0.1,
             "#c51b7d"
            ],
            [
             0.2,
             "#de77ae"
            ],
            [
             0.3,
             "#f1b6da"
            ],
            [
             0.4,
             "#fde0ef"
            ],
            [
             0.5,
             "#f7f7f7"
            ],
            [
             0.6,
             "#e6f5d0"
            ],
            [
             0.7,
             "#b8e186"
            ],
            [
             0.8,
             "#7fbc41"
            ],
            [
             0.9,
             "#4d9221"
            ],
            [
             1,
             "#276419"
            ]
           ],
           "sequential": [
            [
             0,
             "#0d0887"
            ],
            [
             0.1111111111111111,
             "#46039f"
            ],
            [
             0.2222222222222222,
             "#7201a8"
            ],
            [
             0.3333333333333333,
             "#9c179e"
            ],
            [
             0.4444444444444444,
             "#bd3786"
            ],
            [
             0.5555555555555556,
             "#d8576b"
            ],
            [
             0.6666666666666666,
             "#ed7953"
            ],
            [
             0.7777777777777778,
             "#fb9f3a"
            ],
            [
             0.8888888888888888,
             "#fdca26"
            ],
            [
             1,
             "#f0f921"
            ]
           ],
           "sequentialminus": [
            [
             0,
             "#0d0887"
            ],
            [
             0.1111111111111111,
             "#46039f"
            ],
            [
             0.2222222222222222,
             "#7201a8"
            ],
            [
             0.3333333333333333,
             "#9c179e"
            ],
            [
             0.4444444444444444,
             "#bd3786"
            ],
            [
             0.5555555555555556,
             "#d8576b"
            ],
            [
             0.6666666666666666,
             "#ed7953"
            ],
            [
             0.7777777777777778,
             "#fb9f3a"
            ],
            [
             0.8888888888888888,
             "#fdca26"
            ],
            [
             1,
             "#f0f921"
            ]
           ]
          },
          "colorway": [
           "#636efa",
           "#EF553B",
           "#00cc96",
           "#ab63fa",
           "#FFA15A",
           "#19d3f3",
           "#FF6692",
           "#B6E880",
           "#FF97FF",
           "#FECB52"
          ],
          "font": {
           "color": "#2a3f5f"
          },
          "geo": {
           "bgcolor": "white",
           "lakecolor": "white",
           "landcolor": "#E5ECF6",
           "showlakes": true,
           "showland": true,
           "subunitcolor": "white"
          },
          "hoverlabel": {
           "align": "left"
          },
          "hovermode": "closest",
          "mapbox": {
           "style": "light"
          },
          "paper_bgcolor": "white",
          "plot_bgcolor": "#E5ECF6",
          "polar": {
           "angularaxis": {
            "gridcolor": "white",
            "linecolor": "white",
            "ticks": ""
           },
           "bgcolor": "#E5ECF6",
           "radialaxis": {
            "gridcolor": "white",
            "linecolor": "white",
            "ticks": ""
           }
          },
          "scene": {
           "xaxis": {
            "backgroundcolor": "#E5ECF6",
            "gridcolor": "white",
            "gridwidth": 2,
            "linecolor": "white",
            "showbackground": true,
            "ticks": "",
            "zerolinecolor": "white"
           },
           "yaxis": {
            "backgroundcolor": "#E5ECF6",
            "gridcolor": "white",
            "gridwidth": 2,
            "linecolor": "white",
            "showbackground": true,
            "ticks": "",
            "zerolinecolor": "white"
           },
           "zaxis": {
            "backgroundcolor": "#E5ECF6",
            "gridcolor": "white",
            "gridwidth": 2,
            "linecolor": "white",
            "showbackground": true,
            "ticks": "",
            "zerolinecolor": "white"
           }
          },
          "shapedefaults": {
           "line": {
            "color": "#2a3f5f"
           }
          },
          "ternary": {
           "aaxis": {
            "gridcolor": "white",
            "linecolor": "white",
            "ticks": ""
           },
           "baxis": {
            "gridcolor": "white",
            "linecolor": "white",
            "ticks": ""
           },
           "bgcolor": "#E5ECF6",
           "caxis": {
            "gridcolor": "white",
            "linecolor": "white",
            "ticks": ""
           }
          },
          "title": {
           "x": 0.05
          },
          "xaxis": {
           "automargin": true,
           "gridcolor": "white",
           "linecolor": "white",
           "ticks": "",
           "title": {
            "standoff": 15
           },
           "zerolinecolor": "white",
           "zerolinewidth": 2
          },
          "yaxis": {
           "automargin": true,
           "gridcolor": "white",
           "linecolor": "white",
           "ticks": "",
           "title": {
            "standoff": 15
           },
           "zerolinecolor": "white",
           "zerolinewidth": 2
          }
         }
        },
        "title": {
         "text": "Average fit and test times in 5-fold cross-validation",
         "x": 0.5,
         "y": 0.87
        },
        "width": 1000,
        "xaxis": {
         "categoryarray": [
          "knnBaseline",
          "SVD",
          "knnZScore",
          "knnMeans",
          "SlopeOne",
          "BaselineOnly",
          "knnBasic",
          "NMF",
          "CoClustering",
          "NormalPredictor"
         ],
         "categoryorder": "array",
         "title": {
          "text": "Model"
         }
        },
        "yaxis": {
         "title": {
          "text": "t [s]"
         }
        }
       }
      }
     },
     "metadata": {},
     "output_type": "display_data"
    }
   ],
   "source": [
    "fig = go.Figure()\n",
    "\n",
    "\n",
    "fig.add_trace(go.Bar(x = agg_cv_results.index, y = agg_cv_results['test_time']['mean'], \n",
    "                     error_y=dict(type = 'data', array = agg_cv_results['test_time']['std'], visible = True), name = 'test time', orientation='v')) \n",
    "fig.add_trace(go.Bar(x = agg_cv_results.index, y = agg_cv_results['fit_time']['mean'], \n",
    "                     error_y=dict(type = 'data', array = agg_cv_results['fit_time']['std'], visible = True),name = 'fit time', orientation='v')) \n",
    "\n",
    "\n",
    "fig.update_layout(title = 'Average fit and test times in 5-fold cross-validation', title_x = 0.5, title_y=0.87, \n",
    "                  xaxis_title = 'Model', yaxis_title = 't [s]') # Title and axis titles\n",
    "fig.update_layout(autosize=False, width=1000, height=400) #,legend=dict(orientation=\"h\", y=-0.1)) # Figure size\n",
    "fig.update_layout(legend=dict(x=0, y=1))\n",
    "\n",
    "# sort like other graph\n",
    "order = agg_cv_results['test_mae']['mean'].sort_values().index\n",
    "fig.update_xaxes(categoryorder='array', categoryarray= order)"
   ]
  }
 ],
 "metadata": {
  "kernelspec": {
   "display_name": "Python 3",
   "language": "python",
   "name": "python3"
  },
  "language_info": {
   "codemirror_mode": {
    "name": "ipython",
    "version": 3
   },
   "file_extension": ".py",
   "mimetype": "text/x-python",
   "name": "python",
   "nbconvert_exporter": "python",
   "pygments_lexer": "ipython3",
   "version": "3.12.1"
  }
 },
 "nbformat": 4,
 "nbformat_minor": 2
}
