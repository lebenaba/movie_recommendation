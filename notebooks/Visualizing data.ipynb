{
 "cells": [
  {
   "cell_type": "code",
   "execution_count": 4,
   "metadata": {},
   "outputs": [],
   "source": [
    "import pandas as pd\n",
    "\n",
    "df = pd.read_csv('../data/processed/preprocessed_data.csv')\n",
    "df_simple = pd.read_csv('../data/processed/preprocessed_data_no_one_hot_encoding.csv')\n"
   ]
  },
  {
   "cell_type": "code",
   "execution_count": 5,
   "metadata": {},
   "outputs": [
    {
     "data": {
      "text/html": [
       "<div>\n",
       "<style scoped>\n",
       "    .dataframe tbody tr th:only-of-type {\n",
       "        vertical-align: middle;\n",
       "    }\n",
       "\n",
       "    .dataframe tbody tr th {\n",
       "        vertical-align: top;\n",
       "    }\n",
       "\n",
       "    .dataframe thead th {\n",
       "        text-align: right;\n",
       "    }\n",
       "</style>\n",
       "<table border=\"1\" class=\"dataframe\">\n",
       "  <thead>\n",
       "    <tr style=\"text-align: right;\">\n",
       "      <th></th>\n",
       "      <th>Unnamed: 0</th>\n",
       "      <th>movieId</th>\n",
       "      <th>title</th>\n",
       "      <th>genres</th>\n",
       "      <th>userId</th>\n",
       "      <th>rating</th>\n",
       "      <th>tags</th>\n",
       "    </tr>\n",
       "  </thead>\n",
       "  <tbody>\n",
       "    <tr>\n",
       "      <th>0</th>\n",
       "      <td>0</td>\n",
       "      <td>1</td>\n",
       "      <td>Toy Story (1995)</td>\n",
       "      <td>Adventure|Animation|Children|Comedy|Fantasy</td>\n",
       "      <td>791.0</td>\n",
       "      <td>4.5</td>\n",
       "      <td>Owned|Pixar|time travel|children|comedy|funny|...</td>\n",
       "    </tr>\n",
       "    <tr>\n",
       "      <th>1</th>\n",
       "      <td>1</td>\n",
       "      <td>1</td>\n",
       "      <td>Toy Story (1995)</td>\n",
       "      <td>Adventure|Animation|Children|Comedy|Fantasy</td>\n",
       "      <td>1361.0</td>\n",
       "      <td>2.5</td>\n",
       "      <td>Owned|Pixar|time travel|children|comedy|funny|...</td>\n",
       "    </tr>\n",
       "    <tr>\n",
       "      <th>2</th>\n",
       "      <td>2</td>\n",
       "      <td>1</td>\n",
       "      <td>Toy Story (1995)</td>\n",
       "      <td>Adventure|Animation|Children|Comedy|Fantasy</td>\n",
       "      <td>3164.0</td>\n",
       "      <td>5.0</td>\n",
       "      <td>Owned|Pixar|time travel|children|comedy|funny|...</td>\n",
       "    </tr>\n",
       "    <tr>\n",
       "      <th>3</th>\n",
       "      <td>3</td>\n",
       "      <td>1</td>\n",
       "      <td>Toy Story (1995)</td>\n",
       "      <td>Adventure|Animation|Children|Comedy|Fantasy</td>\n",
       "      <td>3164.0</td>\n",
       "      <td>5.0</td>\n",
       "      <td>Owned|Pixar|time travel|children|comedy|funny|...</td>\n",
       "    </tr>\n",
       "    <tr>\n",
       "      <th>4</th>\n",
       "      <td>4</td>\n",
       "      <td>1</td>\n",
       "      <td>Toy Story (1995)</td>\n",
       "      <td>Adventure|Animation|Children|Comedy|Fantasy</td>\n",
       "      <td>3448.0</td>\n",
       "      <td>3.0</td>\n",
       "      <td>Owned|Pixar|time travel|children|comedy|funny|...</td>\n",
       "    </tr>\n",
       "  </tbody>\n",
       "</table>\n",
       "</div>"
      ],
      "text/plain": [
       "   Unnamed: 0  movieId             title  \\\n",
       "0           0        1  Toy Story (1995)   \n",
       "1           1        1  Toy Story (1995)   \n",
       "2           2        1  Toy Story (1995)   \n",
       "3           3        1  Toy Story (1995)   \n",
       "4           4        1  Toy Story (1995)   \n",
       "\n",
       "                                        genres  userId  rating  \\\n",
       "0  Adventure|Animation|Children|Comedy|Fantasy   791.0     4.5   \n",
       "1  Adventure|Animation|Children|Comedy|Fantasy  1361.0     2.5   \n",
       "2  Adventure|Animation|Children|Comedy|Fantasy  3164.0     5.0   \n",
       "3  Adventure|Animation|Children|Comedy|Fantasy  3164.0     5.0   \n",
       "4  Adventure|Animation|Children|Comedy|Fantasy  3448.0     3.0   \n",
       "\n",
       "                                                tags  \n",
       "0  Owned|Pixar|time travel|children|comedy|funny|...  \n",
       "1  Owned|Pixar|time travel|children|comedy|funny|...  \n",
       "2  Owned|Pixar|time travel|children|comedy|funny|...  \n",
       "3  Owned|Pixar|time travel|children|comedy|funny|...  \n",
       "4  Owned|Pixar|time travel|children|comedy|funny|...  "
      ]
     },
     "execution_count": 5,
     "metadata": {},
     "output_type": "execute_result"
    }
   ],
   "source": [
    "df_simple.head()"
   ]
  },
  {
   "cell_type": "code",
   "execution_count": null,
   "metadata": {},
   "outputs": [],
   "source": []
  }
 ],
 "metadata": {
  "kernelspec": {
   "display_name": "Python 3",
   "language": "python",
   "name": "python3"
  },
  "language_info": {
   "codemirror_mode": {
    "name": "ipython",
    "version": 3
   },
   "file_extension": ".py",
   "mimetype": "text/x-python",
   "name": "python",
   "nbconvert_exporter": "python",
   "pygments_lexer": "ipython3",
   "version": "3.12.3"
  }
 },
 "nbformat": 4,
 "nbformat_minor": 2
}
