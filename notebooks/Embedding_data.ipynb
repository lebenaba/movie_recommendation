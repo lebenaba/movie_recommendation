{
 "cells": [
  {
   "cell_type": "code",
   "execution_count": 4,
   "metadata": {},
   "outputs": [],
   "source": [
    "import pandas as pd\n",
    "from scipy.linalg import triu\n",
    "# pip install --upgrade scipy\n",
    "from gensim.models import Word2Vec\n",
    "# pip install gensim --only-binary :all:\n",
    "import numpy as np\n",
    "\n",
    "df = pd.read_csv('../data/processed/preprocessed_data_movielens.csv')\n"
   ]
  },
  {
   "cell_type": "code",
   "execution_count": 2,
   "metadata": {},
   "outputs": [],
   "source": [
    "# Train Word2Vec model for tags\n",
    "model = Word2Vec(sentences=df['tag'], vector_size=100, window=5, min_count=1, sg=1)\n",
    "\n",
    "# Function to get the embedding for each tag\n",
    "def get_embedding(tags, model):\n",
    "    return sum(model.wv[tag] for tag in tags) / len(tags)\n",
    "\n",
    "# Apply the embedding function to the 'tag' column\n",
    "df['tag_embedding'] = df['tag'].apply(lambda tags: get_embedding(tags, model))"
   ]
  },
  {
   "cell_type": "code",
   "execution_count": 3,
   "metadata": {},
   "outputs": [],
   "source": [
    "# Drop the original 'tag', 'relevance' and 'title' columns\n",
    "df = df.drop(columns=['tag', 'relevance', 'title'])\n",
    "\n",
    "# Convert embeddings to a more compact form to save memory space\n",
    "if isinstance(df['tag_embedding'].iloc[0], np.ndarray):\n",
    "    df['tag_embedding'] = df['tag_embedding'].apply(lambda x: x.astype(np.float32))"
   ]
  },
  {
   "cell_type": "code",
   "execution_count": 5,
   "metadata": {},
   "outputs": [
    {
     "name": "stdout",
     "output_type": "stream",
     "text": [
      "There are 19 distinct genres in df\n"
     ]
    }
   ],
   "source": [
    "df['genres'] = df['genres'].apply(lambda x: x.split('|'))\n",
    "# Find unique genres\n",
    "unique_genres = set(genre for sublist in df['genres'] for genre in sublist)\n",
    "print(\"There are\", len(unique_genres), \"distinct genres in df\")"
   ]
  },
  {
   "cell_type": "code",
   "execution_count": 6,
   "metadata": {},
   "outputs": [],
   "source": [
    "# One-hot encode the 'genres' column\n",
    "genres_dummies = pd.get_dummies(df['genres'].apply(pd.Series).stack()).sum(level=0)\n",
    "\n",
    "# Combine the one-hot encoded genres with the original DataFrame\n",
    "df = df.drop(columns=['genres'])\n",
    "df = df.join(genres_dummies)\n",
    "\n",
    "import ace_tools as tools; tools.display_dataframe_to_user(name=\"One-Hot Encoded MovieLens Data\", dataframe=df)\n",
    "\n",
    "# Display the updated DataFrame\n",
    "df.head()\n"
   ]
  },
  {
   "cell_type": "code",
   "execution_count": 7,
   "metadata": {},
   "outputs": [],
   "source": [
    "# save edited dataframe, because the Word2Vec takes over 90 min.\n",
    "df.to_parquet('../data/processed/preprocessed_data_with_embeddings_and_ohe.parquet', index=False)\n"
   ]
  },
  {
   "cell_type": "code",
   "execution_count": 11,
   "metadata": {},
   "outputs": [
    {
     "data": {
      "text/html": [
       "<div>\n",
       "<style scoped>\n",
       "    .dataframe tbody tr th:only-of-type {\n",
       "        vertical-align: middle;\n",
       "    }\n",
       "\n",
       "    .dataframe tbody tr th {\n",
       "        vertical-align: top;\n",
       "    }\n",
       "\n",
       "    .dataframe thead th {\n",
       "        text-align: right;\n",
       "    }\n",
       "</style>\n",
       "<table border=\"1\" class=\"dataframe\">\n",
       "  <thead>\n",
       "    <tr style=\"text-align: right;\">\n",
       "      <th></th>\n",
       "      <th>movieId</th>\n",
       "      <th>genres_embedding</th>\n",
       "      <th>userId</th>\n",
       "      <th>rating</th>\n",
       "      <th>tag_embedding</th>\n",
       "    </tr>\n",
       "  </thead>\n",
       "  <tbody>\n",
       "    <tr>\n",
       "      <th>0</th>\n",
       "      <td>1</td>\n",
       "      <td>[ 0.29733244 -0.46585637  0.01453016  0.345878...</td>\n",
       "      <td>144188</td>\n",
       "      <td>2.5</td>\n",
       "      <td>[ 7.64919892e-02 -8.15666839e-02 -7.72340521e-...</td>\n",
       "    </tr>\n",
       "    <tr>\n",
       "      <th>1</th>\n",
       "      <td>1</td>\n",
       "      <td>[ 0.29733244 -0.46585637  0.01453016  0.345878...</td>\n",
       "      <td>13198</td>\n",
       "      <td>3.0</td>\n",
       "      <td>[ 7.64919892e-02 -8.15666839e-02 -7.72340521e-...</td>\n",
       "    </tr>\n",
       "    <tr>\n",
       "      <th>2</th>\n",
       "      <td>1</td>\n",
       "      <td>[ 0.29733244 -0.46585637  0.01453016  0.345878...</td>\n",
       "      <td>49836</td>\n",
       "      <td>4.0</td>\n",
       "      <td>[ 7.64919892e-02 -8.15666839e-02 -7.72340521e-...</td>\n",
       "    </tr>\n",
       "    <tr>\n",
       "      <th>3</th>\n",
       "      <td>1</td>\n",
       "      <td>[ 0.29733244 -0.46585637  0.01453016  0.345878...</td>\n",
       "      <td>32754</td>\n",
       "      <td>4.0</td>\n",
       "      <td>[ 7.64919892e-02 -8.15666839e-02 -7.72340521e-...</td>\n",
       "    </tr>\n",
       "    <tr>\n",
       "      <th>4</th>\n",
       "      <td>1</td>\n",
       "      <td>[ 0.29733244 -0.46585637  0.01453016  0.345878...</td>\n",
       "      <td>78445</td>\n",
       "      <td>5.0</td>\n",
       "      <td>[ 7.64919892e-02 -8.15666839e-02 -7.72340521e-...</td>\n",
       "    </tr>\n",
       "  </tbody>\n",
       "</table>\n",
       "</div>"
      ],
      "text/plain": [
       "   movieId                                   genres_embedding  userId  rating  \\\n",
       "0        1  [ 0.29733244 -0.46585637  0.01453016  0.345878...  144188     2.5   \n",
       "1        1  [ 0.29733244 -0.46585637  0.01453016  0.345878...   13198     3.0   \n",
       "2        1  [ 0.29733244 -0.46585637  0.01453016  0.345878...   49836     4.0   \n",
       "3        1  [ 0.29733244 -0.46585637  0.01453016  0.345878...   32754     4.0   \n",
       "4        1  [ 0.29733244 -0.46585637  0.01453016  0.345878...   78445     5.0   \n",
       "\n",
       "                                       tag_embedding  \n",
       "0  [ 7.64919892e-02 -8.15666839e-02 -7.72340521e-...  \n",
       "1  [ 7.64919892e-02 -8.15666839e-02 -7.72340521e-...  \n",
       "2  [ 7.64919892e-02 -8.15666839e-02 -7.72340521e-...  \n",
       "3  [ 7.64919892e-02 -8.15666839e-02 -7.72340521e-...  \n",
       "4  [ 7.64919892e-02 -8.15666839e-02 -7.72340521e-...  "
      ]
     },
     "execution_count": 11,
     "metadata": {},
     "output_type": "execute_result"
    }
   ],
   "source": [
    "df.head()"
   ]
  }
 ],
 "metadata": {
  "kernelspec": {
   "display_name": "Python 3",
   "language": "python",
   "name": "python3"
  },
  "language_info": {
   "codemirror_mode": {
    "name": "ipython",
    "version": 3
   },
   "file_extension": ".py",
   "mimetype": "text/x-python",
   "name": "python",
   "nbconvert_exporter": "python",
   "pygments_lexer": "ipython3",
   "version": "3.11.7"
  }
 },
 "nbformat": 4,
 "nbformat_minor": 2
}
